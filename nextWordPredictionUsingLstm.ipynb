{
 "cells": [
  {
   "cell_type": "markdown",
   "metadata": {},
   "source": [
    "# Text Loading "
   ]
  },
  {
   "cell_type": "code",
   "execution_count": 86,
   "metadata": {},
   "outputs": [],
   "source": [
    "with open('1661-0.txt',\"r\", encoding='utf8') as f:\n",
    "    text= f.readlines()"
   ]
  },
  {
   "cell_type": "code",
   "execution_count": 87,
   "metadata": {},
   "outputs": [
    {
     "data": {
      "text/plain": [
       "list"
      ]
     },
     "execution_count": 87,
     "metadata": {},
     "output_type": "execute_result"
    }
   ],
   "source": [
    "type(text)"
   ]
  },
  {
   "cell_type": "markdown",
   "metadata": {},
   "source": [
    "# Text Preprocessing \n"
   ]
  },
  {
   "cell_type": "code",
   "execution_count": 88,
   "metadata": {},
   "outputs": [],
   "source": [
    "# remove header and footer\n",
    "text=text[63:-374]\n",
    "\n"
   ]
  },
  {
   "cell_type": "code",
   "execution_count": 89,
   "metadata": {},
   "outputs": [],
   "source": [
    "import re \n",
    "# \\n and _removed \n",
    "def removed(line):\n",
    "    return re.sub(\"[_|0-9]\",\"\",line)"
   ]
  },
  {
   "cell_type": "code",
   "execution_count": 90,
   "metadata": {},
   "outputs": [
    {
     "data": {
      "text/plain": [
       "' a strong emotion in a nature such as his. And\\n yet there was but one woman to him, and that woman was the late Irene\\n Adler, of dubious and questionable memory.\\n \\n I had seen little of Holmes lately. My marriage had drifted us away\\n from each other. My own complete happiness, and the home-centred\\n interests which rise up around the man who first finds himself master\\n of his own establishment, were sufficient to absorb all my attention,\\n while Holmes, who loathed every form of society with his whole Bohemian\\n soul, remained in our lodgings in Baker Street, buried among his old\\n books, and alternating from week to week between cocaine and ambition,\\n the drowsiness of the drug, and the fierce energy of his own keen\\n nature. He was still, as ever, deeply attracted by the study of crime,\\n and occupied his immense faculties and extraordinary powers of\\n observation in following out those clues, and clearing up those\\n mysteries which had been abandoned as hopeless by the official police.\\n Fro'"
      ]
     },
     "execution_count": 90,
     "metadata": {},
     "output_type": "execute_result"
    }
   ],
   "source": [
    "#join by space\n",
    "text=\" \".join([removed(line) for line in text])\n",
    "text[1000:2000]"
   ]
  },
  {
   "cell_type": "markdown",
   "metadata": {},
   "source": [
    "# Import Libraries "
   ]
  },
  {
   "cell_type": "code",
   "execution_count": 91,
   "metadata": {},
   "outputs": [],
   "source": [
    "import tensorflow as tf\n",
    "from tensorflow.keras.preprocessing.text import  Tokenizer"
   ]
  },
  {
   "cell_type": "code",
   "execution_count": 92,
   "metadata": {},
   "outputs": [],
   "source": [
    "tok=Tokenizer()\n",
    "tok.fit_on_texts([text])\n"
   ]
  },
  {
   "cell_type": "code",
   "execution_count": 93,
   "metadata": {},
   "outputs": [],
   "source": [
    "tok_words=tok.word_index"
   ]
  },
  {
   "cell_type": "code",
   "execution_count": 94,
   "metadata": {},
   "outputs": [
    {
     "data": {
      "text/plain": [
       "8567"
      ]
     },
     "execution_count": 94,
     "metadata": {},
     "output_type": "execute_result"
    }
   ],
   "source": [
    "len(tok.word_index)"
   ]
  },
  {
   "cell_type": "code",
   "execution_count": 98,
   "metadata": {},
   "outputs": [
    {
     "name": "stdout",
     "output_type": "stream",
     "text": [
      "8567\n"
     ]
    }
   ],
   "source": [
    "\n",
    "print(len(tok_words))"
   ]
  },
  {
   "cell_type": "code",
   "execution_count": 19,
   "metadata": {},
   "outputs": [
    {
     "name": "stdout",
     "output_type": "stream",
     "text": [
      "To Sherlock Holmes she is always the woman \n",
      "\n",
      "[[3, 135, 34, 38, 15, 225, 1, 216]]\n"
     ]
    }
   ],
   "source": [
    "for sentence in text.split('.'):\n",
    "    print(sentence,'\\n')\n",
    "    print(tok.texts_to_sequences([sentence]))\n",
    "    break"
   ]
  },
  {
   "cell_type": "code",
   "execution_count": 20,
   "metadata": {},
   "outputs": [],
   "source": [
    "# converting the whole sentences into numbers based on word_to_texts\n",
    "input_sequences=[  ]\n",
    "for sentence in text.split('.'):\n",
    "   \n",
    "    tokenized_sentence=tok.texts_to_sequences([sentence])[0]\n",
    "    for i in range(1,len(tokenized_sentence)):\n",
    "        n_grams=tokenized_sentence[:i+1]\n",
    "        input_sequences.append(n_grams)\n",
    "\n",
    "    "
   ]
  },
  {
   "cell_type": "code",
   "execution_count": 21,
   "metadata": {},
   "outputs": [],
   "source": [
    "max_length=max([len(x) for x in input_sequences])"
   ]
  },
  {
   "cell_type": "code",
   "execution_count": 22,
   "metadata": {},
   "outputs": [
    {
     "data": {
      "text/plain": [
       "102"
      ]
     },
     "execution_count": 22,
     "metadata": {},
     "output_type": "execute_result"
    }
   ],
   "source": [
    "max_length"
   ]
  },
  {
   "cell_type": "markdown",
   "metadata": {},
   "source": [
    "# Creating dataset of input and output"
   ]
  },
  {
   "cell_type": "code",
   "execution_count": 35,
   "metadata": {},
   "outputs": [],
   "source": [
    "from tensorflow.keras.preprocessing.sequence import pad_sequences\n",
    "padded_input_seq=pad_sequences(input_sequences,maxlen=max_length,padding='pre') # adding zero pre of every text "
   ]
  },
  {
   "cell_type": "code",
   "execution_count": 112,
   "metadata": {},
   "outputs": [
    {
     "data": {
      "text/plain": [
       "array([[   0,    0,    0, ...,    0,    3,  135],\n",
       "       [   0,    0,    0, ...,    3,  135,   34],\n",
       "       [   0,    0,    0, ...,  135,   34,   38],\n",
       "       ...,\n",
       "       [   0,    0,    0, ...,   60,  304,   19],\n",
       "       [   0,    0,    0, ...,  304,   19,  545],\n",
       "       [   0,    0,    0, ...,   19,  545, 1184]])"
      ]
     },
     "execution_count": 112,
     "metadata": {},
     "output_type": "execute_result"
    }
   ],
   "source": [
    "padded_input_seq"
   ]
  },
  {
   "cell_type": "code",
   "execution_count": 115,
   "metadata": {},
   "outputs": [],
   "source": [
    "X=padded_input_seq[:,:-1] # skipping the last number that is next word->output\n"
   ]
  },
  {
   "cell_type": "code",
   "execution_count": 116,
   "metadata": {},
   "outputs": [
    {
     "data": {
      "text/plain": [
       "array([[  0,   0,   0, ...,   0,   0,   3],\n",
       "       [  0,   0,   0, ...,   0,   3, 135],\n",
       "       [  0,   0,   0, ...,   3, 135,  34],\n",
       "       ...,\n",
       "       [  0,   0,   0, ...,  38,  60, 304],\n",
       "       [  0,   0,   0, ...,  60, 304,  19],\n",
       "       [  0,   0,   0, ..., 304,  19, 545]])"
      ]
     },
     "execution_count": 116,
     "metadata": {},
     "output_type": "execute_result"
    }
   ],
   "source": [
    "X"
   ]
  },
  {
   "cell_type": "code",
   "execution_count": 117,
   "metadata": {},
   "outputs": [],
   "source": [
    "y=padded_input_seq[:,-1]"
   ]
  },
  {
   "cell_type": "code",
   "execution_count": 118,
   "metadata": {},
   "outputs": [
    {
     "data": {
      "text/plain": [
       "(101596, 101)"
      ]
     },
     "execution_count": 118,
     "metadata": {},
     "output_type": "execute_result"
    }
   ],
   "source": [
    "X.shape"
   ]
  },
  {
   "cell_type": "code",
   "execution_count": 119,
   "metadata": {},
   "outputs": [
    {
     "data": {
      "text/plain": [
       "(101596,)"
      ]
     },
     "execution_count": 119,
     "metadata": {},
     "output_type": "execute_result"
    }
   ],
   "source": [
    "y.shape"
   ]
  },
  {
   "cell_type": "code",
   "execution_count": 121,
   "metadata": {},
   "outputs": [],
   "source": [
    "# one hot encoding \n",
    "from tensorflow.keras.utils import to_categorical"
   ]
  },
  {
   "cell_type": "code",
   "execution_count": 123,
   "metadata": {},
   "outputs": [],
   "source": [
    "y=to_categorical(y,num_classes=8568)"
   ]
  },
  {
   "cell_type": "code",
   "execution_count": 124,
   "metadata": {},
   "outputs": [
    {
     "data": {
      "text/plain": [
       "(101596, 8568)"
      ]
     },
     "execution_count": 124,
     "metadata": {},
     "output_type": "execute_result"
    }
   ],
   "source": [
    "y.shape"
   ]
  },
  {
   "cell_type": "markdown",
   "metadata": {},
   "source": [
    "# Model Architecture Building "
   ]
  },
  {
   "cell_type": "code",
   "execution_count": 125,
   "metadata": {},
   "outputs": [],
   "source": [
    "from tensorflow.keras.models import  Sequential\n",
    "from tensorflow.keras.layers import Embedding,LSTM , Dense\n"
   ]
  },
  {
   "cell_type": "code",
   "execution_count": 146,
   "metadata": {},
   "outputs": [],
   "source": [
    "model=Sequential()\n",
    "model.add(Embedding(8568,500,input_length=max_length-1))\n",
    "model.add(LSTM(1000))\n",
    "model.add(Dense(8568,activation=\"softmax\"))\n"
   ]
  },
  {
   "cell_type": "code",
   "execution_count": 147,
   "metadata": {},
   "outputs": [
    {
     "name": "stdout",
     "output_type": "stream",
     "text": [
      "Model: \"sequential_3\"\n",
      "_________________________________________________________________\n",
      " Layer (type)                Output Shape              Param #   \n",
      "=================================================================\n",
      " embedding_3 (Embedding)     (None, 101, 500)          4284000   \n",
      "                                                                 \n",
      " lstm_3 (LSTM)               (None, 1000)              6004000   \n",
      "                                                                 \n",
      " dense_3 (Dense)             (None, 8568)              8576568   \n",
      "                                                                 \n",
      "=================================================================\n",
      "Total params: 18,864,568\n",
      "Trainable params: 18,864,568\n",
      "Non-trainable params: 0\n",
      "_________________________________________________________________\n"
     ]
    }
   ],
   "source": [
    "model.summary()"
   ]
  },
  {
   "cell_type": "code",
   "execution_count": 148,
   "metadata": {},
   "outputs": [],
   "source": [
    " model.compile(loss='categorical_crossentropy',optimizer='adam',metrics=['accuracy'])"
   ]
  },
  {
   "cell_type": "code",
   "execution_count": 151,
   "metadata": {},
   "outputs": [],
   "source": [
    "from keras.callbacks import EarlyStopping\n",
    "callback=EarlyStopping( monitor='loss',\n",
    "                       min_delta=0.0001, \n",
    "                       patience=5 ,\n",
    "                       verbose=0,\n",
    "                       mode='auto', \n",
    "                       baseline=None ,\n",
    "                       restore_best_weights=False\n",
    ")"
   ]
  },
  {
   "cell_type": "code",
   "execution_count": 153,
   "metadata": {},
   "outputs": [
    {
     "name": "stdout",
     "output_type": "stream",
     "text": [
      "Epoch 1/5\n",
      "3175/3175 [==============================] - 11106s 3s/step - loss: 0.6737 - accuracy: 0.8360\n",
      "Epoch 2/5\n",
      "3175/3175 [==============================] - 11977s 4s/step - loss: 0.6455 - accuracy: 0.8424\n",
      "Epoch 3/5\n",
      "3175/3175 [==============================] - 44651s 14s/step - loss: 0.6545 - accuracy: 0.8380\n",
      "Epoch 4/5\n",
      "3175/3175 [==============================] - 10604s 3s/step - loss: 0.6812 - accuracy: 0.8280\n",
      "Epoch 5/5\n",
      "3175/3175 [==============================] - 10689s 3s/step - loss: 0.7012 - accuracy: 0.8196\n"
     ]
    }
   ],
   "source": [
    "history=model.fit(X,y,epochs=5,callbacks=callback)  # first trained for 20 epochs  then 5 epochs and then now 5 epochs due to very small  change in accuracy or loss function "
   ]
  },
  {
   "cell_type": "code",
   "execution_count": 209,
   "metadata": {},
   "outputs": [],
   "source": [
    "import matplotlib.pyplot as plt \n",
    "import pandas as pd\n"
   ]
  },
  {
   "cell_type": "code",
   "execution_count": 244,
   "metadata": {},
   "outputs": [
    {
     "data": {
      "text/plain": [
       "[<matplotlib.lines.Line2D at 0x139b0395600>]"
      ]
     },
     "execution_count": 244,
     "metadata": {},
     "output_type": "execute_result"
    },
    {
     "data": {
      "image/png": "[encoded data removed]",
      "text/plain": [
       "<Figure size 640x480 with 1 Axes>"
      ]
     },
     "metadata": {},
     "output_type": "display_data"
    }
   ],
   "source": [
    "plt.plot(history.history['accuracy'])"
   ]
  },
  {
   "cell_type": "code",
   "execution_count": 243,
   "metadata": {},
   "outputs": [
    {
     "name": "stdout",
     "output_type": "stream",
     "text": [
      "1/1 [==============================] - 0s 223ms/step\n",
      "and\n",
      "that\n",
      "which\n"
     ]
    },
    {
     "ename": "IndexError",
     "evalue": "index 3 is out of bounds for axis 0 with size 3",
     "output_type": "error",
     "traceback": [
      "\u001b[1;31m---------------------------------------------------------------------------\u001b[0m",
      "\u001b[1;31mIndexError\u001b[0m                                Traceback (most recent call last)",
      "\u001b[1;32mc:\\Users\\Sachin\\Desktop\\college documents\\New beginning\\MachineLearningProject\\Next word Prediction\\nextWordPredictionUsingLstm.ipynb Cell 36\u001b[0m line \u001b[0;36m1\n\u001b[0;32m      <a href='vscode-notebook-cell:/c%3A/Users/Sachin/Desktop/college%20documents/New%20beginning/MachineLearningProject/Next%20word%20Prediction/nextWordPredictionUsingLstm.ipynb#X54sZmlsZQ%3D%3D?line=8'>9</a>\u001b[0m i\u001b[39m=\u001b[39m\u001b[39m0\u001b[39m\n\u001b[0;32m     <a href='vscode-notebook-cell:/c%3A/Users/Sachin/Desktop/college%20documents/New%20beginning/MachineLearningProject/Next%20word%20Prediction/nextWordPredictionUsingLstm.ipynb#X54sZmlsZQ%3D%3D?line=9'>10</a>\u001b[0m \u001b[39mfor\u001b[39;00m word,index \u001b[39min\u001b[39;00m tok\u001b[39m.\u001b[39mword_index\u001b[39m.\u001b[39mitems():\n\u001b[1;32m---> <a href='vscode-notebook-cell:/c%3A/Users/Sachin/Desktop/college%20documents/New%20beginning/MachineLearningProject/Next%20word%20Prediction/nextWordPredictionUsingLstm.ipynb#X54sZmlsZQ%3D%3D?line=10'>11</a>\u001b[0m     \u001b[39mif\u001b[39;00m index\u001b[39m==\u001b[39mtop_indices[i]:\n\u001b[0;32m     <a href='vscode-notebook-cell:/c%3A/Users/Sachin/Desktop/college%20documents/New%20beginning/MachineLearningProject/Next%20word%20Prediction/nextWordPredictionUsingLstm.ipynb#X54sZmlsZQ%3D%3D?line=11'>12</a>\u001b[0m         \u001b[39mprint\u001b[39m(word)\n\u001b[0;32m     <a href='vscode-notebook-cell:/c%3A/Users/Sachin/Desktop/college%20documents/New%20beginning/MachineLearningProject/Next%20word%20Prediction/nextWordPredictionUsingLstm.ipynb#X54sZmlsZQ%3D%3D?line=12'>13</a>\u001b[0m         i\u001b[39m+\u001b[39m\u001b[39m=\u001b[39m\u001b[39m1\u001b[39m\n",
      "\u001b[1;31mIndexError\u001b[0m: index 3 is out of bounds for axis 0 with size 3"
     ]
    }
   ],
   "source": [
    "text = \"\"\n",
    "# tokenize \n",
    "token_text=tok.texts_to_sequences([text])[0]\n",
    "# padding \n",
    "padded_token_text=pad_sequences([token_text],maxlen=max_length-1,padding='pre')\n",
    "# predict \n",
    "top_indices = np.argsort(model.predict(padded_token_text)[0])[-3:][::-1]\n",
    "top_indices.sort()\n",
    "i=0\n",
    "for word,index in tok.word_index.items():\n",
    "    if index==top_indices[i]:\n",
    "        print(word)\n",
    "        i+=1"
   ]
  },
  {
   "cell_type": "code",
   "execution_count": 218,
   "metadata": {},
   "outputs": [
    {
     "name": "stdout",
     "output_type": "stream",
     "text": [
      "1/1 [==============================] - 0s 229ms/step\n"
     ]
    },
    {
     "data": {
      "text/plain": [
       "[1.6244189e-20, 3.4383455e-19, 4.9869106e-19]"
      ]
     },
     "execution_count": 218,
     "metadata": {},
     "output_type": "execute_result"
    }
   ],
   "source": [
    "sorted(model.predict(padded_token_text)[0])[:3]"
   ]
  },
  {
   "cell_type": "code",
   "execution_count": 219,
   "metadata": {},
   "outputs": [
    {
     "name": "stdout",
     "output_type": "stream",
     "text": [
      "1/1 [==============================] - 0s 257ms/step\n"
     ]
    }
   ],
   "source": [
    "top_indices = np.argsort(model.predict(padded_token_text)[0])[-3:][::-1]\n"
   ]
  },
  {
   "cell_type": "code",
   "execution_count": 222,
   "metadata": {},
   "outputs": [
    {
     "data": {
      "text/plain": [
       "array([  1,  90, 251], dtype=int64)"
      ]
     },
     "execution_count": 222,
     "metadata": {},
     "output_type": "execute_result"
    }
   ],
   "source": [
    "top_indices.sort()\n",
    "top_indices"
   ]
  },
  {
   "cell_type": "code",
   "execution_count": 3,
   "metadata": {},
   "outputs": [
    {
     "ename": "NameError",
     "evalue": "name 'model' is not defined",
     "output_type": "error",
     "traceback": [
      "\u001b[1;31m---------------------------------------------------------------------------\u001b[0m",
      "\u001b[1;31mNameError\u001b[0m                                 Traceback (most recent call last)",
      "\u001b[1;32mc:\\Users\\Sachin\\Desktop\\college documents\\New beginning\\MachineLearningProject\\Next word Prediction\\nextWordPredictionUsingLstm.ipynb Cell 40\u001b[0m line \u001b[0;36m1\n\u001b[1;32m----> <a href='vscode-notebook-cell:/c%3A/Users/Sachin/Desktop/college%20documents/New%20beginning/MachineLearningProject/Next%20word%20Prediction/nextWordPredictionUsingLstm.ipynb#X54sZmlsZQ%3D%3D?line=0'>1</a>\u001b[0m model\u001b[39m.\u001b[39msave(\u001b[39m'\u001b[39m\u001b[39mnext_word_predictor.h5\u001b[39m\u001b[39m'\u001b[39m)\n",
      "\u001b[1;31mNameError\u001b[0m: name 'model' is not defined"
     ]
    }
   ],
   "source": [
    "model.save('next_word_predictor.h5')"
   ]
  },
  {
   "cell_type": "code",
   "execution_count": 33,
   "metadata": {},
   "outputs": [],
   "source": [
    "from keras.models import load_model\n",
    "model=load_model('next_word_predictor.h5')"
   ]
  },
  {
   "cell_type": "code",
   "execution_count": null,
   "metadata": {},
   "outputs": [],
   "source": []
  },
  {
   "cell_type": "code",
   "execution_count": 125,
   "metadata": {},
   "outputs": [
    {
     "name": "stdout",
     "output_type": "stream",
     "text": [
      "1/1 [==============================] - 0s 250ms/step\n",
      "[16 33 11]\n",
      "11\n",
      "16\n",
      "33\n",
      "['he', 'my', 'this']\n"
     ]
    }
   ],
   "source": [
    "import numpy as np \n",
    "from tensorflow.keras.preprocessing.sequence import pad_sequences\n",
    "import tensorflow as tf\n",
    "from tensorflow.keras.preprocessing.text import  Tokenizer\n",
    "\n",
    "#import list for word indexes\n",
    "with open(\"test\",\"rb\") as rp:\n",
    "     tok_word=pickle.load(rp)\n",
    "\n",
    "# tokenize \n",
    "text=\"\"\n",
    "print(text)\n",
    "token_text=tok.texts_to_sequences([text])[0]\n",
    "# padding \n",
    "\n",
    "padded_token_text=pad_sequences([token_text],maxlen=101,padding='pre')\n",
    "# predict \n",
    "top_indices = np.argsort(model.predict(padded_token_text)[0])[-3:][::-1]\n",
    "top_indices.sort()\n",
    "i=0\n",
    "predict_words=[]\n",
    "\n",
    "for word,index in tok_word.items():\n",
    "    \n",
    "    if index==top_indices[i] :\n",
    "        print(top_indices[i])\n",
    "        predict_words.append(word)\n",
    "        i+=1\n",
    "        if(i==3):\n",
    "           break\n",
    "print(predict_words)\n"
   ]
  },
  {
   "cell_type": "code",
   "execution_count": 30,
   "metadata": {},
   "outputs": [
    {
     "data": {
      "text/plain": [
       "[]"
      ]
     },
     "execution_count": 30,
     "metadata": {},
     "output_type": "execute_result"
    }
   ],
   "source": [
    "predict_words"
   ]
  },
  {
   "cell_type": "code",
   "execution_count": 205,
   "metadata": {},
   "outputs": [
    {
     "data": {
      "text/plain": [
       "array([[2698, 7134, 2197, ..., 1957,   20,   60]], dtype=int64)"
      ]
     },
     "execution_count": 205,
     "metadata": {},
     "output_type": "execute_result"
    }
   ],
   "source": [
    "pos_indices"
   ]
  },
  {
   "cell_type": "code",
   "execution_count": 52,
   "metadata": {},
   "outputs": [],
   "source": [
    "#testing \n",
    "def prediction(input_text):\n",
    "    import numpy as np \n",
    "    from tensorflow.keras.preprocessing.sequence import pad_sequences\n",
    "    import tensorflow as tf\n",
    "    from tensorflow.keras.preprocessing.text import  Tokenizer\n",
    "    text =input_text\n",
    "    # tokenize \n",
    "    if text!=\"\":\n",
    "        tok=Tokenizer()\n",
    "        token_text=tok.texts_to_sequences([text])[0]\n",
    "        # padding \n",
    "        padded_token_text=pad_sequences([token_text],maxlen=101,padding='pre')\n",
    "        # predict \n",
    "        top_indices = np.argsort(model.predict(padded_token_text)[0])[-3:][::-1]\n",
    "        top_indices.sort()\n",
    "        i=0\n",
    "        predict_words=[]\n",
    "        for word,index in tok.word_index.items():\n",
    "            if index==top_indices[i]:\n",
    "                predict_words.append(word)\n",
    "                i+=1\n",
    "    return predict_words\n",
    "    print(prediction(\"i am very\"))"
   ]
  },
  {
   "cell_type": "code",
   "execution_count": 69,
   "metadata": {},
   "outputs": [
    {
     "name": "stdout",
     "output_type": "stream",
     "text": [
      "1/1 [==============================] - 0s 275ms/step\n"
     ]
    },
    {
     "ename": "IndexError",
     "evalue": "index 3 is out of bounds for axis 0 with size 3",
     "output_type": "error",
     "traceback": [
      "\u001b[1;31m---------------------------------------------------------------------------\u001b[0m",
      "\u001b[1;31mIndexError\u001b[0m                                Traceback (most recent call last)",
      "\u001b[1;32mc:\\Users\\Sachin\\Desktop\\college documents\\New beginning\\MachineLearningProject\\Next word Prediction\\nextWordPredictionUsingLstm.ipynb Cell 48\u001b[0m line \u001b[0;36m2\n\u001b[0;32m     <a href='vscode-notebook-cell:/c%3A/Users/Sachin/Desktop/college%20documents/New%20beginning/MachineLearningProject/Next%20word%20Prediction/nextWordPredictionUsingLstm.ipynb#X64sZmlsZQ%3D%3D?line=17'>18</a>\u001b[0m predict_words\u001b[39m=\u001b[39m[]\n\u001b[0;32m     <a href='vscode-notebook-cell:/c%3A/Users/Sachin/Desktop/college%20documents/New%20beginning/MachineLearningProject/Next%20word%20Prediction/nextWordPredictionUsingLstm.ipynb#X64sZmlsZQ%3D%3D?line=18'>19</a>\u001b[0m \u001b[39mfor\u001b[39;00m word,index \u001b[39min\u001b[39;00m tok_words\u001b[39m.\u001b[39mitems():\n\u001b[1;32m---> <a href='vscode-notebook-cell:/c%3A/Users/Sachin/Desktop/college%20documents/New%20beginning/MachineLearningProject/Next%20word%20Prediction/nextWordPredictionUsingLstm.ipynb#X64sZmlsZQ%3D%3D?line=19'>20</a>\u001b[0m     \u001b[39mif\u001b[39;00m index\u001b[39m==\u001b[39mtop_indices[i]:\n\u001b[0;32m     <a href='vscode-notebook-cell:/c%3A/Users/Sachin/Desktop/college%20documents/New%20beginning/MachineLearningProject/Next%20word%20Prediction/nextWordPredictionUsingLstm.ipynb#X64sZmlsZQ%3D%3D?line=20'>21</a>\u001b[0m         predict_words\u001b[39m.\u001b[39mappend(word)\n\u001b[0;32m     <a href='vscode-notebook-cell:/c%3A/Users/Sachin/Desktop/college%20documents/New%20beginning/MachineLearningProject/Next%20word%20Prediction/nextWordPredictionUsingLstm.ipynb#X64sZmlsZQ%3D%3D?line=21'>22</a>\u001b[0m         i\u001b[39m+\u001b[39m\u001b[39m=\u001b[39m\u001b[39m1\u001b[39m\n",
      "\u001b[1;31mIndexError\u001b[0m: index 3 is out of bounds for axis 0 with size 3"
     ]
    }
   ],
   "source": [
    "import numpy as np \n",
    "from tensorflow.keras.preprocessing.sequence import pad_sequences\n",
    "import tensorflow as tf\n",
    "from tensorflow.keras.preprocessing.text import  Tokenizer\n",
    "text =\"i am very\"\n",
    "with open(\"test\",\"rb\") as rp:\n",
    "     tok_words=pickle.load(rp)\n",
    "# tokenize \n",
    "if text!=\"\":\n",
    "    tok=Tokenizer()\n",
    "    token_text=tok.texts_to_sequences([text])[0]\n",
    "    # padding \n",
    "    padded_token_text=pad_sequences([token_text],maxlen=101,padding='pre')\n",
    "    # predict \n",
    "    top_indices = np.argsort(model.predict(padded_token_text)[0])[-3:][::-1]\n",
    "    top_indices.sort()\n",
    "    i=0\n",
    "    predict_words=[]\n",
    "    for word,index in tok_words.items():\n",
    "        if index==top_indices[i]:\n",
    "            predict_words.append(word)\n",
    "            i+=1"
   ]
  },
  {
   "cell_type": "code",
   "execution_count": 28,
   "metadata": {},
   "outputs": [
    {
     "data": {
      "text/plain": [
       "[]"
      ]
     },
     "execution_count": 28,
     "metadata": {},
     "output_type": "execute_result"
    }
   ],
   "source": [
    "predict_words"
   ]
  },
  {
   "cell_type": "code",
   "execution_count": 65,
   "metadata": {},
   "outputs": [],
   "source": [
    "import pickle \n",
    "\n",
    "with open(\"test\",\"wb\") as fp:\n",
    "    pickle.dump(tok_words,fp)"
   ]
  },
  {
   "cell_type": "code",
   "execution_count": 67,
   "metadata": {},
   "outputs": [],
   "source": [
    "with open(\"test\",\"rb\") as rp:\n",
    "     b=pickle.load(rp)"
   ]
  },
  {
   "cell_type": "code",
   "execution_count": 68,
   "metadata": {},
   "outputs": [
    {
     "data": {
      "text/plain": [
       "{'the': 1,\n",
       " 'and': 2,\n",
       " 'to': 3,\n",
       " 'of': 4,\n",
       " 'i': 5,\n",
       " 'a': 6,\n",
       " '”': 7,\n",
       " 'in': 8,\n",
       " 'that': 9,\n",
       " 'it': 10,\n",
       " 'he': 11,\n",
       " 'was': 12,\n",
       " 'you': 13,\n",
       " 'his': 14,\n",
       " 'is': 15,\n",
       " 'my': 16,\n",
       " 'have': 17,\n",
       " 'as': 18,\n",
       " 'with': 19,\n",
       " 'had': 20,\n",
       " 'which': 21,\n",
       " 'at': 22,\n",
       " 'for': 23,\n",
       " 'me': 24,\n",
       " 'be': 25,\n",
       " 'not': 26,\n",
       " 'but': 27,\n",
       " 'we': 28,\n",
       " 'from': 29,\n",
       " 'said': 30,\n",
       " 'upon': 31,\n",
       " 'there': 32,\n",
       " 'this': 33,\n",
       " 'holmes': 34,\n",
       " 'him': 35,\n",
       " 'so': 36,\n",
       " 'her': 37,\n",
       " 'she': 38,\n",
       " '’': 39,\n",
       " 'been': 40,\n",
       " 'all': 41,\n",
       " 'very': 42,\n",
       " 'your': 43,\n",
       " 'on': 44,\n",
       " 'one': 45,\n",
       " '“i': 46,\n",
       " 'were': 47,\n",
       " 'by': 48,\n",
       " 'are': 49,\n",
       " 'an': 50,\n",
       " 'would': 51,\n",
       " 'out': 52,\n",
       " 'no': 53,\n",
       " 'what': 54,\n",
       " 'then': 55,\n",
       " 'when': 56,\n",
       " 'up': 57,\n",
       " 'man': 58,\n",
       " 'could': 59,\n",
       " 'has': 60,\n",
       " 'into': 61,\n",
       " 'little': 62,\n",
       " 'do': 63,\n",
       " 'who': 64,\n",
       " 'mr': 65,\n",
       " 'will': 66,\n",
       " 'some': 67,\n",
       " 'if': 68,\n",
       " 'down': 69,\n",
       " 'see': 70,\n",
       " 'now': 71,\n",
       " 'should': 72,\n",
       " 'our': 73,\n",
       " 'or': 74,\n",
       " 'may': 75,\n",
       " 'am': 76,\n",
       " 'us': 77,\n",
       " 'over': 78,\n",
       " 'they': 79,\n",
       " 'more': 80,\n",
       " 'think': 81,\n",
       " 'room': 82,\n",
       " 'know': 83,\n",
       " 'shall': 84,\n",
       " 'can': 85,\n",
       " 'about': 86,\n",
       " 'before': 87,\n",
       " 'must': 88,\n",
       " 'than': 89,\n",
       " 'only': 90,\n",
       " 'come': 91,\n",
       " 'time': 92,\n",
       " 'other': 93,\n",
       " 'came': 94,\n",
       " 'two': 95,\n",
       " 'them': 96,\n",
       " 'did': 97,\n",
       " 'door': 98,\n",
       " 'back': 99,\n",
       " '“it': 100,\n",
       " 'any': 101,\n",
       " 'face': 102,\n",
       " 'might': 103,\n",
       " 'matter': 104,\n",
       " 'good': 105,\n",
       " '“you': 106,\n",
       " 'much': 107,\n",
       " 'just': 108,\n",
       " 'hand': 109,\n",
       " 'house': 110,\n",
       " 'case': 111,\n",
       " 'way': 112,\n",
       " 'well': 113,\n",
       " 'how': 114,\n",
       " 'heard': 115,\n",
       " 'here': 116,\n",
       " '“and': 117,\n",
       " 'night': 118,\n",
       " 'such': 119,\n",
       " 'made': 120,\n",
       " 'however': 121,\n",
       " 'where': 122,\n",
       " 'found': 123,\n",
       " 'day': 124,\n",
       " 'away': 125,\n",
       " 'morning': 126,\n",
       " 'own': 127,\n",
       " 'nothing': 128,\n",
       " 'go': 129,\n",
       " 'right': 130,\n",
       " 'after': 131,\n",
       " 'like': 132,\n",
       " 'never': 133,\n",
       " 'their': 134,\n",
       " 'sherlock': 135,\n",
       " 'tell': 136,\n",
       " 'say': 137,\n",
       " 'left': 138,\n",
       " 'last': 139,\n",
       " 'through': 140,\n",
       " 'saw': 141,\n",
       " '“yes': 142,\n",
       " 'quite': 143,\n",
       " 'asked': 144,\n",
       " 'eyes': 145,\n",
       " 'most': 146,\n",
       " 'long': 147,\n",
       " 'side': 148,\n",
       " '“but': 149,\n",
       " 'took': 150,\n",
       " 'its': 151,\n",
       " 'miss': 152,\n",
       " 'once': 153,\n",
       " 'yet': 154,\n",
       " 'first': 155,\n",
       " 'street': 156,\n",
       " 'st': 157,\n",
       " 'every': 158,\n",
       " 'too': 159,\n",
       " 'round': 160,\n",
       " 'young': 161,\n",
       " 'watson': 162,\n",
       " 'find': 163,\n",
       " 'take': 164,\n",
       " '“the': 165,\n",
       " 'these': 166,\n",
       " 'small': 167,\n",
       " 'still': 168,\n",
       " 'thought': 169,\n",
       " 'myself': 170,\n",
       " 'few': 171,\n",
       " 'sir': 172,\n",
       " 'until': 173,\n",
       " '“well': 174,\n",
       " 'light': 175,\n",
       " 'off': 176,\n",
       " 'himself': 177,\n",
       " 'make': 178,\n",
       " 'business': 179,\n",
       " 'old': 180,\n",
       " 'hands': 181,\n",
       " 'without': 182,\n",
       " 'window': 183,\n",
       " 'father': 184,\n",
       " 'seen': 185,\n",
       " 'ever': 186,\n",
       " 'even': 187,\n",
       " 'three': 188,\n",
       " 'lady': 189,\n",
       " 'friend': 190,\n",
       " 'look': 191,\n",
       " 'head': 192,\n",
       " 'cried': 193,\n",
       " 'went': 194,\n",
       " 'seemed': 195,\n",
       " 'put': 196,\n",
       " 'having': 197,\n",
       " 'while': 198,\n",
       " 'those': 199,\n",
       " 'again': 200,\n",
       " 'done': 201,\n",
       " 'remarked': 202,\n",
       " 'open': 203,\n",
       " 'rather': 204,\n",
       " '“that': 205,\n",
       " 'something': 206,\n",
       " 'doubt': 207,\n",
       " 'let': 208,\n",
       " 'years': 209,\n",
       " 'though': 210,\n",
       " 'chair': 211,\n",
       " 'name': 212,\n",
       " '“what': 213,\n",
       " '“no': 214,\n",
       " 'half': 215,\n",
       " 'woman': 216,\n",
       " 'between': 217,\n",
       " 'course': 218,\n",
       " 'great': 219,\n",
       " '“oh': 220,\n",
       " 'get': 221,\n",
       " 'mind': 222,\n",
       " 'give': 223,\n",
       " 'enough': 224,\n",
       " 'always': 225,\n",
       " 'knew': 226,\n",
       " 'end': 227,\n",
       " 'answered': 228,\n",
       " 'same': 229,\n",
       " 'far': 230,\n",
       " 'sat': 231,\n",
       " 'looking': 232,\n",
       " 'perhaps': 233,\n",
       " 'got': 234,\n",
       " 'police': 235,\n",
       " 'against': 236,\n",
       " 'dear': 237,\n",
       " 'wife': 238,\n",
       " 'place': 239,\n",
       " 'looked': 240,\n",
       " 'black': 241,\n",
       " 'table': 242,\n",
       " 'also': 243,\n",
       " 'turned': 244,\n",
       " 'cannot': 245,\n",
       " 'behind': 246,\n",
       " 'told': 247,\n",
       " 'hardly': 248,\n",
       " '“then': 249,\n",
       " 'better': 250,\n",
       " 'anything': 251,\n",
       " 'front': 252,\n",
       " 'brought': 253,\n",
       " 'red': 254,\n",
       " 'hat': 255,\n",
       " 'indeed': 256,\n",
       " 'possible': 257,\n",
       " 'home': 258,\n",
       " 'understand': 259,\n",
       " 'leave': 260,\n",
       " 'work': 261,\n",
       " 'help': 262,\n",
       " 'why': 263,\n",
       " 'already': 264,\n",
       " 'really': 265,\n",
       " 'life': 266,\n",
       " 'within': 267,\n",
       " 'thing': 268,\n",
       " 'strange': 269,\n",
       " 'gave': 270,\n",
       " 'suddenly': 271,\n",
       " 'words': 272,\n",
       " 'son': 273,\n",
       " 'whole': 274,\n",
       " 'point': 275,\n",
       " 'both': 276,\n",
       " 'being': 277,\n",
       " 'papers': 278,\n",
       " 'minutes': 279,\n",
       " 'hair': 280,\n",
       " 'clear': 281,\n",
       " 'paper': 282,\n",
       " '“he': 283,\n",
       " 'gone': 284,\n",
       " 'under': 285,\n",
       " 'fire': 286,\n",
       " '“my': 287,\n",
       " 'call': 288,\n",
       " 'money': 289,\n",
       " 'sure': 290,\n",
       " 'wish': 291,\n",
       " 'set': 292,\n",
       " 'yourself': 293,\n",
       " 'gentleman': 294,\n",
       " 'another': 295,\n",
       " 'whether': 296,\n",
       " 'lay': 297,\n",
       " 'baker': 298,\n",
       " 'passed': 299,\n",
       " 'large': 300,\n",
       " 'days': 301,\n",
       " 'word': 302,\n",
       " 'many': 303,\n",
       " 'met': 304,\n",
       " 'dark': 305,\n",
       " 'since': 306,\n",
       " 'london': 307,\n",
       " 'whom': 308,\n",
       " 'soon': 309,\n",
       " 'mrs': 310,\n",
       " 'bed': 311,\n",
       " 'simon': 312,\n",
       " 'less': 313,\n",
       " 'five': 314,\n",
       " 'during': 315,\n",
       " 'men': 316,\n",
       " 'does': 317,\n",
       " 'four': 318,\n",
       " 'interest': 319,\n",
       " 'evening': 320,\n",
       " 'across': 321,\n",
       " 'lord': 322,\n",
       " 'lestrade': 323,\n",
       " 'save': 324,\n",
       " 'returned': 325,\n",
       " 'note': 326,\n",
       " '“there': 327,\n",
       " 'opened': 328,\n",
       " 'least': 329,\n",
       " '£': 330,\n",
       " 'strong': 331,\n",
       " 'among': 332,\n",
       " 'story': 333,\n",
       " 'stood': 334,\n",
       " '“this': 335,\n",
       " 'together': 336,\n",
       " 'believe': 337,\n",
       " 'facts': 338,\n",
       " 'question': 339,\n",
       " 'read': 340,\n",
       " 'ask': 341,\n",
       " 'country': 342,\n",
       " 'moment': 343,\n",
       " 'doctor': 344,\n",
       " 'waiting': 345,\n",
       " 'fellow': 346,\n",
       " 'rucastle': 347,\n",
       " 'felt': 348,\n",
       " 'either': 349,\n",
       " 'o’clock': 350,\n",
       " 'entered': 351,\n",
       " 'sitting': 352,\n",
       " 'use': 353,\n",
       " 'rushed': 354,\n",
       " 'mccarthy': 355,\n",
       " 'each': 356,\n",
       " 'crime': 357,\n",
       " 'singular': 358,\n",
       " 'part': 359,\n",
       " 'corner': 360,\n",
       " 'certainly': 361,\n",
       " 'given': 362,\n",
       " 'hear': 363,\n",
       " 'hour': 364,\n",
       " 'laid': 365,\n",
       " 'going': 366,\n",
       " 'seven': 367,\n",
       " 'sound': 368,\n",
       " 'else': 369,\n",
       " 'best': 370,\n",
       " 'able': 371,\n",
       " 'became': 372,\n",
       " 'road': 373,\n",
       " 'instant': 374,\n",
       " 'hope': 375,\n",
       " 'forward': 376,\n",
       " 'used': 377,\n",
       " 'stone': 378,\n",
       " 'family': 379,\n",
       " 'companion': 380,\n",
       " 'new': 381,\n",
       " 'heavy': 382,\n",
       " 'client': 383,\n",
       " 'near': 384,\n",
       " 'turn': 385,\n",
       " 'several': 386,\n",
       " 'letter': 387,\n",
       " 'cut': 388,\n",
       " 'rooms': 389,\n",
       " 'threw': 390,\n",
       " 'true': 391,\n",
       " 'imagine': 392,\n",
       " 'past': 393,\n",
       " 'floor': 394,\n",
       " 'hard': 395,\n",
       " 'obvious': 396,\n",
       " 'manner': 397,\n",
       " 'six': 398,\n",
       " 'don’t': 399,\n",
       " 'want': 400,\n",
       " 'feet': 401,\n",
       " 'coat': 402,\n",
       " 'dr': 403,\n",
       " 'taken': 404,\n",
       " 'white': 405,\n",
       " 'known': 406,\n",
       " 'station': 407,\n",
       " 'walked': 408,\n",
       " 'fear': 409,\n",
       " 'seems': 410,\n",
       " 'cry': 411,\n",
       " 'ten': 412,\n",
       " 'ran': 413,\n",
       " 'inspector': 414,\n",
       " 'lamp': 415,\n",
       " 'spoke': 416,\n",
       " 'things': 417,\n",
       " 'late': 418,\n",
       " 'marriage': 419,\n",
       " 'ago': 420,\n",
       " 'death': 421,\n",
       " 'lost': 422,\n",
       " 'dress': 423,\n",
       " 'appeared': 424,\n",
       " 'present': 425,\n",
       " 'year': 426,\n",
       " 'air': 427,\n",
       " 'coming': 428,\n",
       " 'above': 429,\n",
       " 'goose': 430,\n",
       " 'coronet': 431,\n",
       " 'visitor': 432,\n",
       " 'deep': 433,\n",
       " 'alone': 434,\n",
       " 'rose': 435,\n",
       " 'called': 436,\n",
       " 'letters': 437,\n",
       " 'cab': 438,\n",
       " 'drove': 439,\n",
       " 'dressed': 440,\n",
       " 'mine': 441,\n",
       " 'reason': 442,\n",
       " 'keep': 443,\n",
       " 'office': 444,\n",
       " 'sister': 445,\n",
       " 'colonel': 446,\n",
       " 'week': 447,\n",
       " 'led': 448,\n",
       " 'bell': 449,\n",
       " 'address': 450,\n",
       " 'blue': 451,\n",
       " 'followed': 452,\n",
       " 'king': 453,\n",
       " 'photograph': 454,\n",
       " '“we': 455,\n",
       " 'second': 456,\n",
       " 'beside': 457,\n",
       " 'quick': 458,\n",
       " 'windows': 459,\n",
       " 'people': 460,\n",
       " 'began': 461,\n",
       " 'absolutely': 462,\n",
       " 'chance': 463,\n",
       " 'easy': 464,\n",
       " 'remember': 465,\n",
       " 'held': 466,\n",
       " 'fact': 467,\n",
       " 'square': 468,\n",
       " 'nature': 469,\n",
       " 'attention': 470,\n",
       " 'eye': 471,\n",
       " 'steps': 472,\n",
       " '“a': 473,\n",
       " 'step': 474,\n",
       " 'outside': 475,\n",
       " '“your': 476,\n",
       " 'married': 477,\n",
       " 'likely': 478,\n",
       " 'twenty': 479,\n",
       " 'john': 480,\n",
       " 'started': 481,\n",
       " 'anyone': 482,\n",
       " 'struck': 483,\n",
       " 'heart': 484,\n",
       " 'silence': 485,\n",
       " 'grey': 486,\n",
       " 'ready': 487,\n",
       " 'yes': 488,\n",
       " 'girl': 489,\n",
       " 'glancing': 490,\n",
       " 'passage': 491,\n",
       " 'cases': 492,\n",
       " 'none': 493,\n",
       " 'sprang': 494,\n",
       " 'daughter': 495,\n",
       " 'next': 496,\n",
       " 'lane': 497,\n",
       " 'pocket': 498,\n",
       " 'standing': 499,\n",
       " 'sort': 500,\n",
       " 'headed': 501,\n",
       " 'town': 502,\n",
       " 'happened': 503,\n",
       " 'idea': 504,\n",
       " 'breakfast': 505,\n",
       " 'holder': 506,\n",
       " 'clair': 507,\n",
       " 'cold': 508,\n",
       " 'position': 509,\n",
       " 'high': 510,\n",
       " 'clothes': 511,\n",
       " '“how': 512,\n",
       " 'observed': 513,\n",
       " 'carried': 514,\n",
       " 'person': 515,\n",
       " 'glanced': 516,\n",
       " 'ground': 517,\n",
       " 'bring': 518,\n",
       " 'whose': 519,\n",
       " 'maid': 520,\n",
       " 'hurried': 521,\n",
       " 'carriage': 522,\n",
       " 'poor': 523,\n",
       " 'drawn': 524,\n",
       " 'closed': 525,\n",
       " '“ah': 526,\n",
       " '“‘i': 527,\n",
       " 'short': 528,\n",
       " 'bird': 529,\n",
       " 'occurred': 530,\n",
       " 'mary': 531,\n",
       " 'order': 532,\n",
       " 'mystery': 533,\n",
       " 'interesting': 534,\n",
       " '“pray': 535,\n",
       " 'doing': 536,\n",
       " 'pray': 537,\n",
       " 'important': 538,\n",
       " 'quiet': 539,\n",
       " 'need': 540,\n",
       " 'husband': 541,\n",
       " 'train': 542,\n",
       " 'kind': 543,\n",
       " 'afraid': 544,\n",
       " 'considerable': 545,\n",
       " 'body': 546,\n",
       " 'city': 547,\n",
       " 'sight': 548,\n",
       " 'points': 549,\n",
       " 'thin': 550,\n",
       " 'hosmer': 551,\n",
       " 'wedding': 552,\n",
       " 'public': 553,\n",
       " 'seeing': 554,\n",
       " 'account': 555,\n",
       " 'problem': 556,\n",
       " 'shown': 557,\n",
       " 'fashion': 558,\n",
       " 'matters': 559,\n",
       " 'written': 560,\n",
       " 'boy': 561,\n",
       " 'caught': 562,\n",
       " 'speak': 563,\n",
       " '“if': 564,\n",
       " '“why': 565,\n",
       " 'laughed': 566,\n",
       " '“very': 567,\n",
       " 'close': 568,\n",
       " 'remarkable': 569,\n",
       " 'quietly': 570,\n",
       " 'towards': 571,\n",
       " 'god': 572,\n",
       " 'mean': 573,\n",
       " '‘i': 574,\n",
       " 'drive': 575,\n",
       " 'cause': 576,\n",
       " 'turner': 577,\n",
       " 'hours': 578,\n",
       " 'fresh': 579,\n",
       " 'ourselves': 580,\n",
       " '“they': 581,\n",
       " 'showed': 582,\n",
       " 'safe': 583,\n",
       " '‘you': 584,\n",
       " 'everything': 585,\n",
       " '“in': 586,\n",
       " 'opinion': 587,\n",
       " 'talk': 588,\n",
       " 'mother': 589,\n",
       " 'hunter': 590,\n",
       " 'placed': 591,\n",
       " 'extraordinary': 592,\n",
       " 'finally': 593,\n",
       " 'figure': 594,\n",
       " 'observe': 595,\n",
       " '“when': 596,\n",
       " 'simple': 597,\n",
       " 'hall': 598,\n",
       " 'means': 599,\n",
       " 'sent': 600,\n",
       " 'peculiar': 601,\n",
       " 'hundred': 602,\n",
       " 'england': 603,\n",
       " 'single': 604,\n",
       " 'character': 605,\n",
       " 'voice': 606,\n",
       " 'slowly': 607,\n",
       " 'secret': 608,\n",
       " 'sign': 609,\n",
       " 'line': 610,\n",
       " 'lodge': 611,\n",
       " 'suppose': 612,\n",
       " 'reached': 613,\n",
       " 'details': 614,\n",
       " 'others': 615,\n",
       " 'direction': 616,\n",
       " 'box': 617,\n",
       " 'return': 618,\n",
       " 'rest': 619,\n",
       " 'finger': 620,\n",
       " 'wilson': 621,\n",
       " 'advertisement': 622,\n",
       " 'court': 623,\n",
       " 'effect': 624,\n",
       " 'experience': 625,\n",
       " 'colour': 626,\n",
       " 'advice': 627,\n",
       " 'pipe': 628,\n",
       " 'danger': 629,\n",
       " 'silent': 630,\n",
       " 'stepfather': 631,\n",
       " 'windibank': 632,\n",
       " 'pool': 633,\n",
       " 'k': 634,\n",
       " 'stoner': 635,\n",
       " 'love': 636,\n",
       " 'remained': 637,\n",
       " 'glad': 638,\n",
       " 'itself': 639,\n",
       " 'almost': 640,\n",
       " 'someone': 641,\n",
       " 'laughing': 642,\n",
       " 'yours': 643,\n",
       " '“not': 644,\n",
       " 'serious': 645,\n",
       " 'gold': 646,\n",
       " 'news': 647,\n",
       " 'morrow': 648,\n",
       " 'bedroom': 649,\n",
       " 'garden': 650,\n",
       " 'child': 651,\n",
       " 'listened': 652,\n",
       " 'wait': 653,\n",
       " 'afterwards': 654,\n",
       " 'dead': 655,\n",
       " 'fell': 656,\n",
       " 'lips': 657,\n",
       " 'bright': 658,\n",
       " 'water': 659,\n",
       " 'low': 660,\n",
       " 'locked': 661,\n",
       " 'happy': 662,\n",
       " 'along': 663,\n",
       " 'angel': 664,\n",
       " 'james': 665,\n",
       " 'frank': 666,\n",
       " 'neville': 667,\n",
       " 'dreadful': 668,\n",
       " 'appears': 669,\n",
       " 'times': 670,\n",
       " 'glance': 671,\n",
       " 'sit': 672,\n",
       " 'boots': 673,\n",
       " 'pay': 674,\n",
       " 'afternoon': 675,\n",
       " 'pulled': 676,\n",
       " 'meet': 677,\n",
       " 'holmes’': 678,\n",
       " 'drew': 679,\n",
       " 'making': 680,\n",
       " 'earth': 681,\n",
       " 'seem': 682,\n",
       " 'weeks': 683,\n",
       " 'wooden': 684,\n",
       " 'instantly': 685,\n",
       " 'i’ll': 686,\n",
       " 'surprised': 687,\n",
       " 'feel': 688,\n",
       " 'hatherley': 689,\n",
       " 'evidence': 690,\n",
       " 'miles': 691,\n",
       " 'innocent': 692,\n",
       " 'feeling': 693,\n",
       " 'geese': 694,\n",
       " 'adler': 695,\n",
       " 'machine': 696,\n",
       " 'lit': 697,\n",
       " 'twice': 698,\n",
       " 'chamber': 699,\n",
       " 'double': 700,\n",
       " 'show': 701,\n",
       " 'explain': 702,\n",
       " 'importance': 703,\n",
       " 'examined': 704,\n",
       " 'brown': 705,\n",
       " 'sharp': 706,\n",
       " 'shoulders': 707,\n",
       " 'impression': 708,\n",
       " 'appearance': 709,\n",
       " 'broad': 710,\n",
       " 'trust': 711,\n",
       " 'confess': 712,\n",
       " 'surprise': 713,\n",
       " 'majesty': 714,\n",
       " '“to': 715,\n",
       " 'lock': 716,\n",
       " 'arrived': 717,\n",
       " 'dropped': 718,\n",
       " 'won’t': 719,\n",
       " 'whispered': 720,\n",
       " 'taking': 721,\n",
       " 'entirely': 722,\n",
       " 'centre': 723,\n",
       " 'determined': 724,\n",
       " 'nor': 725,\n",
       " 'change': 726,\n",
       " 'key': 727,\n",
       " '“now': 728,\n",
       " 'ring': 729,\n",
       " 'turning': 730,\n",
       " 'company': 731,\n",
       " 'league': 732,\n",
       " 'events': 733,\n",
       " 'shook': 734,\n",
       " 'it’s': 735,\n",
       " '“here': 736,\n",
       " 'full': 737,\n",
       " 'smiling': 738,\n",
       " 'yard': 739,\n",
       " 'dog': 740,\n",
       " 'sudden': 741,\n",
       " 'pale': 742,\n",
       " 'oh': 743,\n",
       " 'thumb': 744,\n",
       " 'cleared': 745,\n",
       " 'dressing': 746,\n",
       " 'world': 747,\n",
       " 'kindly': 748,\n",
       " 'armchair': 749,\n",
       " 'caused': 750,\n",
       " 'german': 751,\n",
       " 'therefore': 752,\n",
       " 'comes': 753,\n",
       " 'thirty': 754,\n",
       " 'certain': 755,\n",
       " 'view': 756,\n",
       " 'deal': 757,\n",
       " 'object': 758,\n",
       " 'probably': 759,\n",
       " 'neither': 760,\n",
       " 'blood': 761,\n",
       " 'waited': 762,\n",
       " 'engaged': 763,\n",
       " 'care': 764,\n",
       " '“do': 765,\n",
       " 'slight': 766,\n",
       " 'live': 767,\n",
       " 'says': 768,\n",
       " 'foot': 769,\n",
       " 'didn’t': 770,\n",
       " 'answer': 771,\n",
       " '“thank': 772,\n",
       " 'claim': 773,\n",
       " 'third': 774,\n",
       " 'force': 775,\n",
       " 'yellow': 776,\n",
       " 'mad': 777,\n",
       " 'wrong': 778,\n",
       " 'coroner': 779,\n",
       " 'openshaw': 780,\n",
       " 'arthur': 781,\n",
       " 'toller': 782,\n",
       " 'irene': 783,\n",
       " 'society': 784,\n",
       " 'pass': 785,\n",
       " 'swiftly': 786,\n",
       " 'fancy': 787,\n",
       " 'walk': 788,\n",
       " 'top': 789,\n",
       " '“quite': 790,\n",
       " 'because': 791,\n",
       " 'thick': 792,\n",
       " 'lying': 793,\n",
       " 'received': 794,\n",
       " 'wrote': 795,\n",
       " 'scene': 796,\n",
       " 'glass': 797,\n",
       " 'continued': 798,\n",
       " 'bad': 799,\n",
       " 'pushed': 800,\n",
       " 'promise': 801,\n",
       " 'difficult': 802,\n",
       " 'follow': 803,\n",
       " 'private': 804,\n",
       " 'result': 805,\n",
       " '“so': 806,\n",
       " 'monday': 807,\n",
       " 'features': 808,\n",
       " 'wall': 809,\n",
       " 'arms': 810,\n",
       " 'church': 811,\n",
       " 'shot': 812,\n",
       " 'run': 813,\n",
       " 'excellent': 814,\n",
       " 'whatever': 815,\n",
       " 'smoke': 816,\n",
       " 'broke': 817,\n",
       " 'later': 818,\n",
       " 'shoulder': 819,\n",
       " 'walking': 820,\n",
       " 'impossible': 821,\n",
       " 'age': 822,\n",
       " 'affair': 823,\n",
       " 'assistant': 824,\n",
       " 'common': 825,\n",
       " 'cellar': 826,\n",
       " 'clay': 827,\n",
       " 'sum': 828,\n",
       " 'bank': 829,\n",
       " 'amid': 830,\n",
       " 'early': 831,\n",
       " 'clearly': 832,\n",
       " 'nine': 833,\n",
       " 'man’s': 834,\n",
       " 'reading': 835,\n",
       " 'uncle': 836,\n",
       " 'friends': 837,\n",
       " 'professional': 838,\n",
       " 'boscombe': 839,\n",
       " 'frightened': 840,\n",
       " 'terrible': 841,\n",
       " 'truth': 842,\n",
       " 'bent': 843,\n",
       " 'envelope': 844,\n",
       " 'den': 845,\n",
       " 'roylott': 846,\n",
       " 'ventilator': 847,\n",
       " 'power': 848,\n",
       " 'master': 849,\n",
       " 'signs': 850,\n",
       " 'spoken': 851,\n",
       " '“indeed': 852,\n",
       " 'deduce': 853,\n",
       " 'inside': 854,\n",
       " 'throwing': 855,\n",
       " 'example': 856,\n",
       " 'eight': 857,\n",
       " 'houses': 858,\n",
       " 'stairs': 859,\n",
       " 'absolute': 860,\n",
       " 'excuse': 861,\n",
       " 'tried': 862,\n",
       " 'send': 863,\n",
       " '“is': 864,\n",
       " 'wood': 865,\n",
       " 'situation': 866,\n",
       " 'expected': 867,\n",
       " 'faced': 868,\n",
       " 'running': 869,\n",
       " 'usual': 870,\n",
       " 'different': 871,\n",
       " 'raise': 872,\n",
       " 'self': 873,\n",
       " 'months': 874,\n",
       " 'slipped': 875,\n",
       " 'heavily': 876,\n",
       " 'ross': 877,\n",
       " '“‘oh': 878,\n",
       " 'died': 879,\n",
       " 'noble': 880,\n",
       " 'building': 881,\n",
       " 'middle': 882,\n",
       " 'knowledge': 883,\n",
       " 'adventure': 884,\n",
       " 'presence': 885,\n",
       " 'darkness': 886,\n",
       " 'edge': 887,\n",
       " 'clue': 888,\n",
       " 'start': 889,\n",
       " 'hotel': 890,\n",
       " 'trap': 891,\n",
       " 'moran': 892,\n",
       " 'charge': 893,\n",
       " 'break': 894,\n",
       " 'horrible': 895,\n",
       " 'horner': 896,\n",
       " 'gems': 897,\n",
       " 'results': 898,\n",
       " 'complete': 899,\n",
       " 'keen': 900,\n",
       " 'deeply': 901,\n",
       " 'following': 902,\n",
       " 'official': 903,\n",
       " 'practice': 904,\n",
       " 'tall': 905,\n",
       " 'lived': 906,\n",
       " 'can’t': 907,\n",
       " 'often': 908,\n",
       " 'sheet': 909,\n",
       " 'writing': 910,\n",
       " 'pair': 911,\n",
       " 'fifty': 912,\n",
       " 'raised': 913,\n",
       " 'chin': 914,\n",
       " 'honour': 915,\n",
       " '“by': 916,\n",
       " 'state': 917,\n",
       " 'passing': 918,\n",
       " 'subject': 919,\n",
       " '“she': 920,\n",
       " 'pretty': 921,\n",
       " 'inquiry': 922,\n",
       " 'investigation': 923,\n",
       " '“it’s': 924,\n",
       " 'evidently': 925,\n",
       " 'reach': 926,\n",
       " 'streets': 927,\n",
       " 'law': 928,\n",
       " 'nearly': 929,\n",
       " 'action': 930,\n",
       " 'cigar': 931,\n",
       " 'number': 932,\n",
       " 'knows': 933,\n",
       " 'carry': 934,\n",
       " 'besides': 935,\n",
       " 'copper': 936,\n",
       " 'blow': 937,\n",
       " 'draw': 938,\n",
       " 'precious': 939,\n",
       " '“good': 940,\n",
       " 'wonder': 941,\n",
       " 'broken': 942,\n",
       " 'wished': 943,\n",
       " '“on': 944,\n",
       " 'narrative': 945,\n",
       " 's': 946,\n",
       " 'real': 947,\n",
       " 'west': 948,\n",
       " 'statement': 949,\n",
       " 'human': 950,\n",
       " '“‘no': 951,\n",
       " 'piece': 952,\n",
       " 'beg': 953,\n",
       " 'lawn': 954,\n",
       " 'shining': 955,\n",
       " 'merryweather': 956,\n",
       " 'iron': 957,\n",
       " 'lens': 958,\n",
       " 'kept': 959,\n",
       " 'weary': 960,\n",
       " 'worn': 961,\n",
       " 'alive': 962,\n",
       " 'firm': 963,\n",
       " 'traces': 964,\n",
       " 'missing': 965,\n",
       " 'looks': 966,\n",
       " 'trouble': 967,\n",
       " 'horror': 968,\n",
       " 'grew': 969,\n",
       " 'opium': 970,\n",
       " 'lascar': 971,\n",
       " 'madam': 972,\n",
       " 'bradstreet': 973,\n",
       " 'band': 974,\n",
       " 'reasoning': 975,\n",
       " 'throw': 976,\n",
       " 'returning': 977,\n",
       " 'hot': 978,\n",
       " 'interested': 979,\n",
       " 'post': 980,\n",
       " 'quarter': 981,\n",
       " 'ha': 982,\n",
       " 'wanted': 983,\n",
       " 'rich': 984,\n",
       " 'lip': 985,\n",
       " 'seat': 986,\n",
       " 'influence': 987,\n",
       " 'scandal': 988,\n",
       " 'purpose': 989,\n",
       " 'acquaintance': 990,\n",
       " 'opening': 991,\n",
       " 'beautiful': 992,\n",
       " 'handed': 993,\n",
       " 'briony': 994,\n",
       " '“one': 995,\n",
       " 'ill': 996,\n",
       " 'dozen': 997,\n",
       " 'neighbourhood': 998,\n",
       " 'wind': 999,\n",
       " 'search': 1000,\n",
       " ...}"
      ]
     },
     "execution_count": 68,
     "metadata": {},
     "output_type": "execute_result"
    }
   ],
   "source": [
    "b"
   ]
  },
  {
   "cell_type": "code",
   "execution_count": 114,
   "metadata": {},
   "outputs": [],
   "source": [
    "def preprocess(input_text):\n",
    "    import numpy as np \n",
    "    from tensorflow.keras.preprocessing.sequence import pad_sequences\n",
    "    import tensorflow as tf\n",
    "    import pickle\n",
    "    from tensorflow.keras.preprocessing.text import  Tokenizer\n",
    "    #import list for word indexes\n",
    "    with open(\"test\",\"rb\") as rp:\n",
    "        tok_word=pickle.load(rp)\n",
    "    # tokenize \n",
    "    print(tok_word)\n",
    "    text=input_text\n",
    "    print(text)\n",
    "    tok=Tokenizer()\n",
    "    token_text=tok.texts_to_sequences([text])[0]\n",
    "    # padding \n",
    "    padded_token_text=pad_sequences([token_text],maxlen=101,padding='pre')\n",
    "    # predict \n",
    "    top_indices = np.argsort(model.predict(padded_token_text)[0])[-3:][::-1]\n",
    "\n",
    "    top_indices.sort()\n",
    "    i=0\n",
    "    predict_words=[]\n",
    "    print(padded_token_text)\n",
    "    for word,index in tok_word.items():\n",
    "        \n",
    "        if index==top_indices[i] :\n",
    "            print(word)\n",
    "            predict_words.append(word)\n",
    "            i+=1\n",
    "            if(i==3):\n",
    "                break\n",
    "    return predict_words"
   ]
  },
  {
   "cell_type": "code",
   "execution_count": 115,
   "metadata": {},
   "outputs": [
    {
     "name": "stdout",
     "output_type": "stream",
     "text": [
      "{'the': 1, 'and': 2, 'to': 3, 'of': 4, 'i': 5, 'a': 6, '”': 7, 'in': 8, 'that': 9, 'it': 10, 'he': 11, 'was': 12, 'you': 13, 'his': 14, 'is': 15, 'my': 16, 'have': 17, 'as': 18, 'with': 19, 'had': 20, 'which': 21, 'at': 22, 'for': 23, 'me': 24, 'be': 25, 'not': 26, 'but': 27, 'we': 28, 'from': 29, 'said': 30, 'upon': 31, 'there': 32, 'this': 33, 'holmes': 34, 'him': 35, 'so': 36, 'her': 37, 'she': 38, '’': 39, 'been': 40, 'all': 41, 'very': 42, 'your': 43, 'on': 44, 'one': 45, '“i': 46, 'were': 47, 'by': 48, 'are': 49, 'an': 50, 'would': 51, 'out': 52, 'no': 53, 'what': 54, 'then': 55, 'when': 56, 'up': 57, 'man': 58, 'could': 59, 'has': 60, 'into': 61, 'little': 62, 'do': 63, 'who': 64, 'mr': 65, 'will': 66, 'some': 67, 'if': 68, 'down': 69, 'see': 70, 'now': 71, 'should': 72, 'our': 73, 'or': 74, 'may': 75, 'am': 76, 'us': 77, 'over': 78, 'they': 79, 'more': 80, 'think': 81, 'room': 82, 'know': 83, 'shall': 84, 'can': 85, 'about': 86, 'before': 87, 'must': 88, 'than': 89, 'only': 90, 'come': 91, 'time': 92, 'other': 93, 'came': 94, 'two': 95, 'them': 96, 'did': 97, 'door': 98, 'back': 99, '“it': 100, 'any': 101, 'face': 102, 'might': 103, 'matter': 104, 'good': 105, '“you': 106, 'much': 107, 'just': 108, 'hand': 109, 'house': 110, 'case': 111, 'way': 112, 'well': 113, 'how': 114, 'heard': 115, 'here': 116, '“and': 117, 'night': 118, 'such': 119, 'made': 120, 'however': 121, 'where': 122, 'found': 123, 'day': 124, 'away': 125, 'morning': 126, 'own': 127, 'nothing': 128, 'go': 129, 'right': 130, 'after': 131, 'like': 132, 'never': 133, 'their': 134, 'sherlock': 135, 'tell': 136, 'say': 137, 'left': 138, 'last': 139, 'through': 140, 'saw': 141, '“yes': 142, 'quite': 143, 'asked': 144, 'eyes': 145, 'most': 146, 'long': 147, 'side': 148, '“but': 149, 'took': 150, 'its': 151, 'miss': 152, 'once': 153, 'yet': 154, 'first': 155, 'street': 156, 'st': 157, 'every': 158, 'too': 159, 'round': 160, 'young': 161, 'watson': 162, 'find': 163, 'take': 164, '“the': 165, 'these': 166, 'small': 167, 'still': 168, 'thought': 169, 'myself': 170, 'few': 171, 'sir': 172, 'until': 173, '“well': 174, 'light': 175, 'off': 176, 'himself': 177, 'make': 178, 'business': 179, 'old': 180, 'hands': 181, 'without': 182, 'window': 183, 'father': 184, 'seen': 185, 'ever': 186, 'even': 187, 'three': 188, 'lady': 189, 'friend': 190, 'look': 191, 'head': 192, 'cried': 193, 'went': 194, 'seemed': 195, 'put': 196, 'having': 197, 'while': 198, 'those': 199, 'again': 200, 'done': 201, 'remarked': 202, 'open': 203, 'rather': 204, '“that': 205, 'something': 206, 'doubt': 207, 'let': 208, 'years': 209, 'though': 210, 'chair': 211, 'name': 212, '“what': 213, '“no': 214, 'half': 215, 'woman': 216, 'between': 217, 'course': 218, 'great': 219, '“oh': 220, 'get': 221, 'mind': 222, 'give': 223, 'enough': 224, 'always': 225, 'knew': 226, 'end': 227, 'answered': 228, 'same': 229, 'far': 230, 'sat': 231, 'looking': 232, 'perhaps': 233, 'got': 234, 'police': 235, 'against': 236, 'dear': 237, 'wife': 238, 'place': 239, 'looked': 240, 'black': 241, 'table': 242, 'also': 243, 'turned': 244, 'cannot': 245, 'behind': 246, 'told': 247, 'hardly': 248, '“then': 249, 'better': 250, 'anything': 251, 'front': 252, 'brought': 253, 'red': 254, 'hat': 255, 'indeed': 256, 'possible': 257, 'home': 258, 'understand': 259, 'leave': 260, 'work': 261, 'help': 262, 'why': 263, 'already': 264, 'really': 265, 'life': 266, 'within': 267, 'thing': 268, 'strange': 269, 'gave': 270, 'suddenly': 271, 'words': 272, 'son': 273, 'whole': 274, 'point': 275, 'both': 276, 'being': 277, 'papers': 278, 'minutes': 279, 'hair': 280, 'clear': 281, 'paper': 282, '“he': 283, 'gone': 284, 'under': 285, 'fire': 286, '“my': 287, 'call': 288, 'money': 289, 'sure': 290, 'wish': 291, 'set': 292, 'yourself': 293, 'gentleman': 294, 'another': 295, 'whether': 296, 'lay': 297, 'baker': 298, 'passed': 299, 'large': 300, 'days': 301, 'word': 302, 'many': 303, 'met': 304, 'dark': 305, 'since': 306, 'london': 307, 'whom': 308, 'soon': 309, 'mrs': 310, 'bed': 311, 'simon': 312, 'less': 313, 'five': 314, 'during': 315, 'men': 316, 'does': 317, 'four': 318, 'interest': 319, 'evening': 320, 'across': 321, 'lord': 322, 'lestrade': 323, 'save': 324, 'returned': 325, 'note': 326, '“there': 327, 'opened': 328, 'least': 329, '£': 330, 'strong': 331, 'among': 332, 'story': 333, 'stood': 334, '“this': 335, 'together': 336, 'believe': 337, 'facts': 338, 'question': 339, 'read': 340, 'ask': 341, 'country': 342, 'moment': 343, 'doctor': 344, 'waiting': 345, 'fellow': 346, 'rucastle': 347, 'felt': 348, 'either': 349, 'o’clock': 350, 'entered': 351, 'sitting': 352, 'use': 353, 'rushed': 354, 'mccarthy': 355, 'each': 356, 'crime': 357, 'singular': 358, 'part': 359, 'corner': 360, 'certainly': 361, 'given': 362, 'hear': 363, 'hour': 364, 'laid': 365, 'going': 366, 'seven': 367, 'sound': 368, 'else': 369, 'best': 370, 'able': 371, 'became': 372, 'road': 373, 'instant': 374, 'hope': 375, 'forward': 376, 'used': 377, 'stone': 378, 'family': 379, 'companion': 380, 'new': 381, 'heavy': 382, 'client': 383, 'near': 384, 'turn': 385, 'several': 386, 'letter': 387, 'cut': 388, 'rooms': 389, 'threw': 390, 'true': 391, 'imagine': 392, 'past': 393, 'floor': 394, 'hard': 395, 'obvious': 396, 'manner': 397, 'six': 398, 'don’t': 399, 'want': 400, 'feet': 401, 'coat': 402, 'dr': 403, 'taken': 404, 'white': 405, 'known': 406, 'station': 407, 'walked': 408, 'fear': 409, 'seems': 410, 'cry': 411, 'ten': 412, 'ran': 413, 'inspector': 414, 'lamp': 415, 'spoke': 416, 'things': 417, 'late': 418, 'marriage': 419, 'ago': 420, 'death': 421, 'lost': 422, 'dress': 423, 'appeared': 424, 'present': 425, 'year': 426, 'air': 427, 'coming': 428, 'above': 429, 'goose': 430, 'coronet': 431, 'visitor': 432, 'deep': 433, 'alone': 434, 'rose': 435, 'called': 436, 'letters': 437, 'cab': 438, 'drove': 439, 'dressed': 440, 'mine': 441, 'reason': 442, 'keep': 443, 'office': 444, 'sister': 445, 'colonel': 446, 'week': 447, 'led': 448, 'bell': 449, 'address': 450, 'blue': 451, 'followed': 452, 'king': 453, 'photograph': 454, '“we': 455, 'second': 456, 'beside': 457, 'quick': 458, 'windows': 459, 'people': 460, 'began': 461, 'absolutely': 462, 'chance': 463, 'easy': 464, 'remember': 465, 'held': 466, 'fact': 467, 'square': 468, 'nature': 469, 'attention': 470, 'eye': 471, 'steps': 472, '“a': 473, 'step': 474, 'outside': 475, '“your': 476, 'married': 477, 'likely': 478, 'twenty': 479, 'john': 480, 'started': 481, 'anyone': 482, 'struck': 483, 'heart': 484, 'silence': 485, 'grey': 486, 'ready': 487, 'yes': 488, 'girl': 489, 'glancing': 490, 'passage': 491, 'cases': 492, 'none': 493, 'sprang': 494, 'daughter': 495, 'next': 496, 'lane': 497, 'pocket': 498, 'standing': 499, 'sort': 500, 'headed': 501, 'town': 502, 'happened': 503, 'idea': 504, 'breakfast': 505, 'holder': 506, 'clair': 507, 'cold': 508, 'position': 509, 'high': 510, 'clothes': 511, '“how': 512, 'observed': 513, 'carried': 514, 'person': 515, 'glanced': 516, 'ground': 517, 'bring': 518, 'whose': 519, 'maid': 520, 'hurried': 521, 'carriage': 522, 'poor': 523, 'drawn': 524, 'closed': 525, '“ah': 526, '“‘i': 527, 'short': 528, 'bird': 529, 'occurred': 530, 'mary': 531, 'order': 532, 'mystery': 533, 'interesting': 534, '“pray': 535, 'doing': 536, 'pray': 537, 'important': 538, 'quiet': 539, 'need': 540, 'husband': 541, 'train': 542, 'kind': 543, 'afraid': 544, 'considerable': 545, 'body': 546, 'city': 547, 'sight': 548, 'points': 549, 'thin': 550, 'hosmer': 551, 'wedding': 552, 'public': 553, 'seeing': 554, 'account': 555, 'problem': 556, 'shown': 557, 'fashion': 558, 'matters': 559, 'written': 560, 'boy': 561, 'caught': 562, 'speak': 563, '“if': 564, '“why': 565, 'laughed': 566, '“very': 567, 'close': 568, 'remarkable': 569, 'quietly': 570, 'towards': 571, 'god': 572, 'mean': 573, '‘i': 574, 'drive': 575, 'cause': 576, 'turner': 577, 'hours': 578, 'fresh': 579, 'ourselves': 580, '“they': 581, 'showed': 582, 'safe': 583, '‘you': 584, 'everything': 585, '“in': 586, 'opinion': 587, 'talk': 588, 'mother': 589, 'hunter': 590, 'placed': 591, 'extraordinary': 592, 'finally': 593, 'figure': 594, 'observe': 595, '“when': 596, 'simple': 597, 'hall': 598, 'means': 599, 'sent': 600, 'peculiar': 601, 'hundred': 602, 'england': 603, 'single': 604, 'character': 605, 'voice': 606, 'slowly': 607, 'secret': 608, 'sign': 609, 'line': 610, 'lodge': 611, 'suppose': 612, 'reached': 613, 'details': 614, 'others': 615, 'direction': 616, 'box': 617, 'return': 618, 'rest': 619, 'finger': 620, 'wilson': 621, 'advertisement': 622, 'court': 623, 'effect': 624, 'experience': 625, 'colour': 626, 'advice': 627, 'pipe': 628, 'danger': 629, 'silent': 630, 'stepfather': 631, 'windibank': 632, 'pool': 633, 'k': 634, 'stoner': 635, 'love': 636, 'remained': 637, 'glad': 638, 'itself': 639, 'almost': 640, 'someone': 641, 'laughing': 642, 'yours': 643, '“not': 644, 'serious': 645, 'gold': 646, 'news': 647, 'morrow': 648, 'bedroom': 649, 'garden': 650, 'child': 651, 'listened': 652, 'wait': 653, 'afterwards': 654, 'dead': 655, 'fell': 656, 'lips': 657, 'bright': 658, 'water': 659, 'low': 660, 'locked': 661, 'happy': 662, 'along': 663, 'angel': 664, 'james': 665, 'frank': 666, 'neville': 667, 'dreadful': 668, 'appears': 669, 'times': 670, 'glance': 671, 'sit': 672, 'boots': 673, 'pay': 674, 'afternoon': 675, 'pulled': 676, 'meet': 677, 'holmes’': 678, 'drew': 679, 'making': 680, 'earth': 681, 'seem': 682, 'weeks': 683, 'wooden': 684, 'instantly': 685, 'i’ll': 686, 'surprised': 687, 'feel': 688, 'hatherley': 689, 'evidence': 690, 'miles': 691, 'innocent': 692, 'feeling': 693, 'geese': 694, 'adler': 695, 'machine': 696, 'lit': 697, 'twice': 698, 'chamber': 699, 'double': 700, 'show': 701, 'explain': 702, 'importance': 703, 'examined': 704, 'brown': 705, 'sharp': 706, 'shoulders': 707, 'impression': 708, 'appearance': 709, 'broad': 710, 'trust': 711, 'confess': 712, 'surprise': 713, 'majesty': 714, '“to': 715, 'lock': 716, 'arrived': 717, 'dropped': 718, 'won’t': 719, 'whispered': 720, 'taking': 721, 'entirely': 722, 'centre': 723, 'determined': 724, 'nor': 725, 'change': 726, 'key': 727, '“now': 728, 'ring': 729, 'turning': 730, 'company': 731, 'league': 732, 'events': 733, 'shook': 734, 'it’s': 735, '“here': 736, 'full': 737, 'smiling': 738, 'yard': 739, 'dog': 740, 'sudden': 741, 'pale': 742, 'oh': 743, 'thumb': 744, 'cleared': 745, 'dressing': 746, 'world': 747, 'kindly': 748, 'armchair': 749, 'caused': 750, 'german': 751, 'therefore': 752, 'comes': 753, 'thirty': 754, 'certain': 755, 'view': 756, 'deal': 757, 'object': 758, 'probably': 759, 'neither': 760, 'blood': 761, 'waited': 762, 'engaged': 763, 'care': 764, '“do': 765, 'slight': 766, 'live': 767, 'says': 768, 'foot': 769, 'didn’t': 770, 'answer': 771, '“thank': 772, 'claim': 773, 'third': 774, 'force': 775, 'yellow': 776, 'mad': 777, 'wrong': 778, 'coroner': 779, 'openshaw': 780, 'arthur': 781, 'toller': 782, 'irene': 783, 'society': 784, 'pass': 785, 'swiftly': 786, 'fancy': 787, 'walk': 788, 'top': 789, '“quite': 790, 'because': 791, 'thick': 792, 'lying': 793, 'received': 794, 'wrote': 795, 'scene': 796, 'glass': 797, 'continued': 798, 'bad': 799, 'pushed': 800, 'promise': 801, 'difficult': 802, 'follow': 803, 'private': 804, 'result': 805, '“so': 806, 'monday': 807, 'features': 808, 'wall': 809, 'arms': 810, 'church': 811, 'shot': 812, 'run': 813, 'excellent': 814, 'whatever': 815, 'smoke': 816, 'broke': 817, 'later': 818, 'shoulder': 819, 'walking': 820, 'impossible': 821, 'age': 822, 'affair': 823, 'assistant': 824, 'common': 825, 'cellar': 826, 'clay': 827, 'sum': 828, 'bank': 829, 'amid': 830, 'early': 831, 'clearly': 832, 'nine': 833, 'man’s': 834, 'reading': 835, 'uncle': 836, 'friends': 837, 'professional': 838, 'boscombe': 839, 'frightened': 840, 'terrible': 841, 'truth': 842, 'bent': 843, 'envelope': 844, 'den': 845, 'roylott': 846, 'ventilator': 847, 'power': 848, 'master': 849, 'signs': 850, 'spoken': 851, '“indeed': 852, 'deduce': 853, 'inside': 854, 'throwing': 855, 'example': 856, 'eight': 857, 'houses': 858, 'stairs': 859, 'absolute': 860, 'excuse': 861, 'tried': 862, 'send': 863, '“is': 864, 'wood': 865, 'situation': 866, 'expected': 867, 'faced': 868, 'running': 869, 'usual': 870, 'different': 871, 'raise': 872, 'self': 873, 'months': 874, 'slipped': 875, 'heavily': 876, 'ross': 877, '“‘oh': 878, 'died': 879, 'noble': 880, 'building': 881, 'middle': 882, 'knowledge': 883, 'adventure': 884, 'presence': 885, 'darkness': 886, 'edge': 887, 'clue': 888, 'start': 889, 'hotel': 890, 'trap': 891, 'moran': 892, 'charge': 893, 'break': 894, 'horrible': 895, 'horner': 896, 'gems': 897, 'results': 898, 'complete': 899, 'keen': 900, 'deeply': 901, 'following': 902, 'official': 903, 'practice': 904, 'tall': 905, 'lived': 906, 'can’t': 907, 'often': 908, 'sheet': 909, 'writing': 910, 'pair': 911, 'fifty': 912, 'raised': 913, 'chin': 914, 'honour': 915, '“by': 916, 'state': 917, 'passing': 918, 'subject': 919, '“she': 920, 'pretty': 921, 'inquiry': 922, 'investigation': 923, '“it’s': 924, 'evidently': 925, 'reach': 926, 'streets': 927, 'law': 928, 'nearly': 929, 'action': 930, 'cigar': 931, 'number': 932, 'knows': 933, 'carry': 934, 'besides': 935, 'copper': 936, 'blow': 937, 'draw': 938, 'precious': 939, '“good': 940, 'wonder': 941, 'broken': 942, 'wished': 943, '“on': 944, 'narrative': 945, 's': 946, 'real': 947, 'west': 948, 'statement': 949, 'human': 950, '“‘no': 951, 'piece': 952, 'beg': 953, 'lawn': 954, 'shining': 955, 'merryweather': 956, 'iron': 957, 'lens': 958, 'kept': 959, 'weary': 960, 'worn': 961, 'alive': 962, 'firm': 963, 'traces': 964, 'missing': 965, 'looks': 966, 'trouble': 967, 'horror': 968, 'grew': 969, 'opium': 970, 'lascar': 971, 'madam': 972, 'bradstreet': 973, 'band': 974, 'reasoning': 975, 'throw': 976, 'returning': 977, 'hot': 978, 'interested': 979, 'post': 980, 'quarter': 981, 'ha': 982, 'wanted': 983, 'rich': 984, 'lip': 985, 'seat': 986, 'influence': 987, 'scandal': 988, 'purpose': 989, 'acquaintance': 990, 'opening': 991, 'beautiful': 992, 'handed': 993, 'briony': 994, '“one': 995, 'ill': 996, 'dozen': 997, 'neighbourhood': 998, 'wind': 999, 'search': 1000, 'contrary': 1001, 'woman’s': 1002, 'fall': 1003, 'creature': 1004, 'arm': 1005, 'perfectly': 1006, 'questioning': 1007, 'evil': 1008, 'upstairs': 1009, 'value': 1010, 'possibly': 1011, 'remark': 1012, 'thrust': 1013, 'fortune': 1014, 'learn': 1015, 'presume': 1016, 'couple': 1017, 'ways': 1018, 'sake': 1019, 'huge': 1020, 'exceedingly': 1021, '“‘yes': 1022, '“have': 1023, 'lad': 1024, 'fingers': 1025, 'jones': 1026, 'scotland': 1027, 'narrow': 1028, 'curious': 1029, 'connection': 1030, 'plain': 1031, 'sleep': 1032, 'free': 1033, 'covered': 1034, 'pointed': 1035, 'keeper': 1036, 'violence': 1037, 'examination': 1038, 'sometimes': 1039, 'strength': 1040, 'fixed': 1041, 'pips': 1042, 'ryder': 1043, '“‘you': 1044, 'snow': 1045, 'beeches': 1046, 'drawing': 1047, 'memory': 1048, 'soul': 1049, 'books': 1050, 'study': 1051, 'immense': 1052, 'vague': 1053, 'beyond': 1054, 'merely': 1055, 'press': 1056, 'seized': 1057, 'mark': 1058, 'profession': 1059, 'easily': 1060, 'lead': 1061, 'suit': 1062, 'carefully': 1063, 'bohemia': 1064, '“precisely': 1065, 'thrown': 1066, 'coloured': 1067, 'upper': 1068, 'marked': 1069, 'occasionally': 1070, 'aware': 1071, 'attempt': 1072, 'putting': 1073, 'visit': 1074, 'herself': 1075, 'shadow': 1076, '“certainly': 1077, 'bag': 1078, 'book': 1079, 'intention': 1080, 'friend’s': 1081, 'vanished': 1082, 'latter': 1083, 'lose': 1084, 'chain': 1085, 'affairs': 1086, 'play': 1087, 'fine': 1088, 'banker': 1089, 'mouth': 1090, 'probable': 1091, 'pavement': 1092, 'cross': 1093, 'empty': 1094, 'sorry': 1095, 'conversation': 1096, 'saying': 1097, 'sutherland': 1098, 'metal': 1099, 'marks': 1100, 'worth': 1101, '“‘and': 1102, 'ears': 1103, '“‘well': 1104, 'american': 1105, 'ordered': 1106, 'shutters': 1107, 'orange': 1108, 'managed': 1109, 'unfortunate': 1110, 'pen': 1111, 'loss': 1112, 'become': 1113, 'yesterday': 1114, 'knees': 1115, 'crop': 1116, 'wild': 1117, 'corridor': 1118, 'lantern': 1119, 'longer': 1120, 'unless': 1121, 'prisoner': 1122, 'mere': 1123, 'spent': 1124, 'george': 1125, 'picked': 1126, 'assistance': 1127, 'angry': 1128, 'astonishment': 1129, 'ceiling': 1130, 'father’s': 1131, 'further': 1132, 'grounds': 1133, 'farther': 1134, 'formed': 1135, 'spite': 1136, 'cheeks': 1137, 'learned': 1138, 'beneath': 1139, 'although': 1140, 'alice': 1141, 'horsham': 1142, 'america': 1143, 'fallen': 1144, 'bar': 1145, 'sinister': 1146, 'ship': 1147, 'whistle': 1148, 'christmas': 1149, 'peterson': 1150, 'henry': 1151, 'stoke': 1152, 'fastened': 1153, 'hydraulic': 1154, 'doran': 1155, 'winchester': 1156, 'form': 1157, 'journey': 1158, 'sunk': 1159, 'nervous': 1160, 'medical': 1161, 'explained': 1162, 'frequently': 1163, 'wear': 1164, 'data': 1165, 'english': 1166, 'there’s': 1167, 'stay': 1168, 'neck': 1169, 'suggested': 1170, 'extreme': 1171, 'wrist': 1172, 'circumstances': 1173, 'familiar': 1174, 'living': 1175, '“none': 1176, 'prove': 1177, 'recovered': 1178, 'conduct': 1179, 'notes': 1180, 'shortly': 1181, 'pleasure': 1182, 'methods': 1183, 'success': 1184, 'stretched': 1185, 'lie': 1186, 'habits': 1187, 'heads': 1188, 'goes': 1189, 'continue': 1190, 'field': 1191, 'hurry': 1192, 'shouted': 1193, 'thoroughly': 1194, 'talking': 1195, 'presently': 1196, 'stepped': 1197, 'watch': 1198, 'ear': 1199, '“‘the': 1200, 'twelve': 1201, 'paid': 1202, 'secure': 1203, 'saved': 1204, 'park': 1205, 'disappeared': 1206, 'general': 1207, 'curiosity': 1208, 'naturally': 1209, 'sofa': 1210, 'alarm': 1211, '“nothing': 1212, 'jewel': 1213, 'finished': 1214, 'future': 1215, '“mr': 1216, 'furniture': 1217, 'reward': 1218, 'thank': 1219, 'bowed': 1220, 'makes': 1221, 'anxious': 1222, 'column': 1223, 'endeavoured': 1224, 'track': 1225, 'coburg': 1226, 'market': 1227, 'roof': 1228, 'folk': 1229, 'stair': 1230, 'favour': 1231, 'leaving': 1232, 'ink': 1233, '“as': 1234, 'concerned': 1235, 'gained': 1236, 'grass': 1237, 'keenly': 1238, 'tide': 1239, 'land': 1240, 'sense': 1241, 'explanation': 1242, '“ha': 1243, 'correct': 1244, 'disappearance': 1245, 'pistol': 1246, 'touch': 1247, '’”': 1248, 'solved': 1249, 'convinced': 1250, '“of': 1251, 'prevent': 1252, 'fit': 1253, 'circle': 1254, 'write': 1255, 'offered': 1256, 'handkerchief': 1257, 'rising': 1258, 'incident': 1259, 'ones': 1260, 'strike': 1261, 'appointment': 1262, 'allowed': 1263, 'fate': 1264, 'trivial': 1265, 'estate': 1266, 'arrested': 1267, 'theory': 1268, 'lies': 1269, 'natural': 1270, 'anger': 1271, 'duty': 1272, 'yards': 1273, '“witness': 1274, 'dying': 1275, 'deadly': 1276, 'rain': 1277, 'finding': 1278, 'path': 1279, 'shaking': 1280, 'page': 1281, 'solution': 1282, 'star': 1283, 'twisted': 1284, 'stable': 1285, 'bureau': 1286, 'salesman': 1287, 'eyford': 1288, 'pa': 1289, 'veil': 1290, 'lodgings': 1291, 'clearing': 1292, 'patient': 1293, 'spare': 1294, 'habit': 1295, 'getting': 1296, 'reasons': 1297, 'problems': 1298, 'tinted': 1299, 'consult': 1300, 'instead': 1301, 'mistaken': 1302, 'pity': 1303, 'cloak': 1304, 'wore': 1305, 'straight': 1306, 'suggestive': 1307, 'shrugged': 1308, 'agent': 1309, 'plainly': 1310, 'information': 1311, '“was': 1312, 'women': 1313, '“because': 1314, 'fortunate': 1315, 'drop': 1316, 'serpentine': 1317, 'ceased': 1318, 'emerged': 1319, 'pockets': 1320, 'unusual': 1321, 'furnished': 1322, 'tobacco': 1323, 'lives': 1324, 'driven': 1325, 'catch': 1326, '‘and': 1327, '“‘what': 1328, 'breaking': 1329, 'remain': 1330, 'expression': 1331, 'description': 1332, 'weapon': 1333, '“where': 1334, 'dashed': 1335, 'he’s': 1336, '“at': 1337, 'stopped': 1338, 'coffee': 1339, 'startled': 1340, 'flight': 1341, 'suspicion': 1342, 'gives': 1343, 'conclusion': 1344, 'somewhat': 1345, 'jabez': 1346, 'commonplace': 1347, 'frock': 1348, 'household': 1349, 'date': 1350, 'spaulding': 1351, 'shade': 1352, 'pain': 1353, 'careful': 1354, 'card': 1355, 'appear': 1356, 'nose': 1357, 'bill': 1358, 'criminal': 1359, 'stop': 1360, 'gas': 1361, 'winding': 1362, 'expect': 1363, 'harm': 1364, 'stand': 1365, 'smell': 1366, 'gloom': 1367, 'robbery': 1368, 'suggest': 1369, 'discovered': 1370, 'fly': 1371, 'conclusions': 1372, 'trying': 1373, 'glasses': 1374, 'passion': 1375, 'settled': 1376, 'definite': 1377, 'slip': 1378, 'bottom': 1379, '“who': 1380, 'rat': 1381, 'farm': 1382, 'series': 1383, 'difficulty': 1384, 'walls': 1385, 'trees': 1386, 'carrying': 1387, 'proof': 1388, 'club': 1389, 'bearing': 1390, 'waterloo': 1391, 'distance': 1392, 'bridge': 1393, 'swandam': 1394, 'horse': 1395, 'beauty': 1396, 'hung': 1397, 'countess': 1398, 'sister’s': 1399, 'grimesby': 1400, 'rope': 1401, 'stark': 1402, 'flora': 1403, 'perfect': 1404, 'lover': 1405, 'delicate': 1406, 'lately': 1407, 'energy': 1408, 'murder': 1409, 'notice': 1410, 'chuckled': 1411, 'dull': 1412, 'capital': 1413, 'hold': 1414, 'remains': 1415, 'wheels': 1416, 'nice': 1417, '“never': 1418, 'immediately': 1419, 'limbs': 1420, 'lower': 1421, 'hanging': 1422, 'prefer': 1423, 'secrecy': 1424, 'weight': 1425, 'exactly': 1426, 'advise': 1427, 'paced': 1428, 'duke': 1429, 'forehead': 1430, 'accustomed': 1431, 'retired': 1432, 'committed': 1433, 'ruin': 1434, 'saxe': 1435, 'marry': 1436, 'legs': 1437, 'heartily': 1438, 'funny': 1439, 'norton': 1440, 'lawyer': 1441, 'devil': 1442, 'glimpse': 1443, 'clergyman': 1444, 'bachelor': 1445, 'refused': 1446, 'bridegroom': 1447, 'plans': 1448, 'driving': 1449, 'busy': 1450, 'occur': 1451, 'formidable': 1452, 'cap': 1453, 'signal': 1454, 'trousers': 1455, 'smile': 1456, 'becomes': 1457, 'size': 1458, 'crowd': 1459, 'injured': 1460, 'lady’s': 1461, 'gang': 1462, 'bound': 1463, 'rush': 1464, 'youth': 1465, 'hopes': 1466, 'scattered': 1467, '“did': 1468, 'successful': 1469, 'stout': 1470, 'apology': 1471, 'presented': 1472, 'connected': 1473, 'larger': 1474, 'forced': 1475, 'knee': 1476, 'clean': 1477, 'waistcoat': 1478, 'collar': 1479, 'noticed': 1480, 'clever': 1481, 'vacancy': 1482, 'apply': 1483, 'eleven': 1484, 'duncan': 1485, 'earn': 1486, 'main': 1487, '“‘why': 1488, '‘there': 1489, 'north': 1490, 'south': 1491, 'east': 1492, 'despair': 1493, 'backward': 1494, '“‘it': 1495, 'filled': 1496, 'manager': 1497, 'thinking': 1498, 'duties': 1499, 'knowing': 1500, 'fairly': 1501, 'burst': 1502, 'laugh': 1503, 'wouldn’t': 1504, 'month': 1505, 'gently': 1506, 'revolver': 1507, 'game': 1508, 'aside': 1509, 'party': 1510, 'jacket': 1511, 'fantastic': 1512, 'detective': 1513, 'cunning': 1514, 'gate': 1515, 'goodness': 1516, 'stones': 1517, '“for': 1518, 'france': 1519, 'usually': 1520, 'assure': 1521, 'feared': 1522, 'highest': 1523, 'breath': 1524, 'cloth': 1525, 'settle': 1526, 'inquiries': 1527, 'working': 1528, 'depend': 1529, 'referred': 1530, 'violent': 1531, 'thousand': 1532, 'missed': 1533, 'doors': 1534, 'try': 1535, 'gather': 1536, 'whiskers': 1537, 'pleasant': 1538, 'leaning': 1539, 'fair': 1540, 'brother': 1541, 'paddington': 1542, 'aid': 1543, 'woods': 1544, 'states': 1545, 'assizes': 1546, 'pointing': 1547, 'retained': 1548, 'angle': 1549, 'jury': 1550, 'consider': 1551, 'considerably': 1552, 'reference': 1553, 'children': 1554, 'painful': 1555, 'trace': 1556, 'dried': 1557, 'leg': 1558, 'possession': 1559, 'approached': 1560, '“holmes': 1561, 'records': 1562, 'skill': 1563, 'wound': 1564, 'clad': 1565, 'lee': 1566, 'brandy': 1567, 'terror': 1568, 'initials': 1569, 'laying': 1570, 'sun': 1571, 'places': 1572, 'river': 1573, 'somewhere': 1574, 'd': 1575, 'wife’s': 1576, 'grief': 1577, 'heavens': 1578, 'cart': 1579, 'boone': 1580, 'downstairs': 1581, 'supper': 1582, 'barred': 1583, 'match': 1584, 'buy': 1585, 'alpha': 1586, 'inn': 1587, 'oakshott': 1588, 'villain': 1589, 'ladies': 1590, 'village': 1591, 'gipsies': 1592, 'wing': 1593, 'roylott’s': 1594, 'engineer': 1595, 'lysander': 1596, 'fuller’s': 1597, 'pew': 1598, 'burnwell': 1599, 'seldom': 1600, 'particularly': 1601, 'reasoner': 1602, 'sufficient': 1603, 'buried': 1604, 'fierce': 1605, 'powers': 1606, 'observation': 1607, 'remembered': 1608, 'desire': 1609, 'chest': 1610, 'scent': 1611, 'pounds': 1612, 'servant': 1613, 'fail': 1614, 'leather': 1615, 'deduction': 1616, 'weather': 1617, 'recent': 1618, 'europe': 1619, 'theories': 1620, 'endeavouring': 1621, 'crown': 1622, 'stands': 1623, 'showing': 1624, 'pull': 1625, 'bit': 1626, 'slow': 1627, 'lined': 1628, 'begin': 1629, 'murmured': 1630, 'closing': 1631, 'failed': 1632, 'travelled': 1633, 'avenue': 1634, 'rolled': 1635, 'grasp': 1636, 'whence': 1637, 'obliged': 1638, 'sympathy': 1639, 'closely': 1640, 'compelled': 1641, 'listen': 1642, 'hansom': 1643, 'altar': 1644, 'witness': 1645, 'bride': 1646, 'prompt': 1647, 'conveyed': 1648, 'ordinary': 1649, 'task': 1650, 'amiable': 1651, 'inclined': 1652, 'bear': 1653, 'refuse': 1654, 'equally': 1655, 'freely': 1656, 'heels': 1657, 'watched': 1658, 'ah': 1659, 'breathing': 1660, 'please': 1661, 'clouds': 1662, 'curled': 1663, 'nicely': 1664, 'advantage': 1665, 'quest': 1666, 'nerves': 1667, 'staring': 1668, 'dimly': 1669, 'staggered': 1670, 'stared': 1671, 'threatened': 1672, 'beaten': 1673, 'fat': 1674, 'greatest': 1675, 'rule': 1676, 'belief': 1677, 'dirty': 1678, 'gain': 1679, 'china': 1680, 'amount': 1681, 'telling': 1682, 'salary': 1683, 'offices': 1684, 'spirits': 1685, '“his': 1686, 'ought': 1687, 'founded': 1688, 'useful': 1689, 'shut': 1690, '“‘my': 1691, 'gravely': 1692, '“‘that': 1693, 'forever': 1694, '“‘then': 1695, 'bye': 1696, 'consideration': 1697, 'premises': 1698, 'minute': 1699, 'excitement': 1700, 'mantelpiece': 1701, 'lunch': 1702, 'lines': 1703, 'cup': 1704, 'brilliant': 1705, 'evident': 1706, 'parted': 1707, 'sad': 1708, 'hunting': 1709, 'wants': 1710, 'stranger': 1711, 'thief': 1712, 'massive': 1713, 'examine': 1714, 'escape': 1715, 'gentle': 1716, 'warning': 1717, 'shock': 1718, 'jump': 1719, 'bow': 1720, 'essential': 1721, 'smiled': 1722, 'practical': 1723, 'test': 1724, 'husband’s': 1725, 'drink': 1726, 'allow': 1727, 'served': 1728, 'gazing': 1729, 'leaves': 1730, 'surely': 1731, 'older': 1732, 'income': 1733, 'extremely': 1734, 'drawer': 1735, 'typewritten': 1736, 'throat': 1737, 'speech': 1738, 'swear': 1739, 'talked': 1740, 'bringing': 1741, 'asking': 1742, 'spring': 1743, 'reply': 1744, 'sideboard': 1745, 'misfortune': 1746, 'tail': 1747, 'solve': 1748, 'brow': 1749, 'disposition': 1750, 'loudly': 1751, 'rate': 1752, 'valley': 1753, 'seated': 1754, 'onto': 1755, 'gun': 1756, 'actually': 1757, 'credit': 1758, 'bristol': 1759, 'remarks': 1760, 'shattered': 1761, 'dad': 1762, 'county': 1763, 'interview': 1764, 'shone': 1765, 'eager': 1766, 'tut': 1767, 'tree': 1768, 'traced': 1769, 'examining': 1770, 'holding': 1771, '“just': 1772, 'impressed': 1773, 'meant': 1774, 'distinctly': 1775, 'certainty': 1776, 'distinct': 1777, 'grizzled': 1778, 'grip': 1779, 'sank': 1780, '“god': 1781, 'property': 1782, 'foul': 1783, 'greater': 1784, 'screamed': 1785, 'owe': 1786, 'major': 1787, 'fields': 1788, 'servants': 1789, 'receive': 1790, 'shrieked': 1791, 'spend': 1792, 'beginning': 1793, 'record': 1794, 'pressing': 1795, 'shape': 1796, 'foresight': 1797, 'guard': 1798, 'act': 1799, 'acted': 1800, 'undoubtedly': 1801, 'described': 1802, 'readily': 1803, 'lonely': 1804, 'eventually': 1805, 'b': 1806, 'calling': 1807, 'lone': 1808, 'touched': 1809, 'swinging': 1810, 'whitney': 1811, 'sweet': 1812, 'poison': 1813, 'thoughts': 1814, 'loose': 1815, 'sill': 1816, 'beggar': 1817, 'fainted': 1818, 'swept': 1819, 'valuable': 1820, 'gown': 1821, 'previous': 1822, 'dream': 1823, 'carbuncle': 1824, '“perhaps': 1825, 'gasped': 1826, 'kitchen': 1827, 'brixton': 1828, 'commission': 1829, 'advance': 1830, 'cheetah': 1831, 'security': 1832, 'dangerous': 1833, 'shoes': 1834, 'justice': 1835, 'unpleasant': 1836, 'robert': 1837, 'niece': 1838, 'stoper': 1839, 'emotion': 1840, 'sneer': 1841, 'rise': 1842, 'drug': 1843, 'attracted': 1844, 'tragedy': 1845, 'march': 1846, 'incidents': 1847, 'cigars': 1848, 'indicated': 1849, 'burned': 1850, 'changed': 1851, 'obviously': 1852, 'remove': 1853, 'mud': 1854, 'hence': 1855, 'boot': 1856, 'member': 1857, 'process': 1858, 'instance': 1859, 'chronicle': 1860, 'signature': 1861, 'deepest': 1862, 'quarters': 1863, 'mask': 1864, 'mistake': 1865, 'bought': 1866, 'volume': 1867, 'cloud': 1868, 'doubts': 1869, '“come': 1870, 'height': 1871, 'sleeves': 1872, 'silk': 1873, 'apparently': 1874, 'strongly': 1875, 'communicate': 1876, 'wishes': 1877, 'unknown': 1878, 'delicacy': 1879, 'precaution': 1880, 'seriously': 1881, 'families': 1882, 'lounging': 1883, 'agitation': 1884, 'gesture': 1885, 'tore': 1886, 'conceal': 1887, '“let': 1888, '“hum': 1889, 'sell': 1890, 'attempts': 1891, 'anxiety': 1892, 'enter': 1893, 'groom': 1894, 'respectable': 1895, 'guess': 1896, 'watching': 1897, 'wonderful': 1898, 'runs': 1899, 'bonnet': 1900, 'except': 1901, 'godfrey': 1902, 'inner': 1903, 'cabman': 1904, 'repeated': 1905, 'bore': 1906, 'earnestly': 1907, 'wondering': 1908, 'neat': 1909, 'buttoned': 1910, 'tie': 1911, 'lovely': 1912, 'sovereign': 1913, 'driver': 1914, '‘the': 1915, 'dragged': 1916, 'generally': 1917, 'occasion': 1918, '“which': 1919, 'arrest': 1920, 'rely': 1921, 'discuss': 1922, 'arranged': 1923, 'visible': 1924, 'fitted': 1925, 'averse': 1926, 'capable': 1927, 'rattled': 1928, 'quarrel': 1929, 'hurt': 1930, '“he’s': 1931, 'brave': 1932, 'comfortable': 1933, 'principal': 1934, 'blinds': 1935, 'couch': 1936, 'playing': 1937, 'ashamed': 1938, 'ulster': 1939, 'tossed': 1940, 'rushing': 1941, 'everyone': 1942, 'row': 1943, 'palm': 1944, 'trick': 1945, 'shake': 1946, 'panel': 1947, 'escaped': 1948, 'satisfaction': 1949, 'slept': 1950, 'named': 1951, 'hurriedly': 1952, 'midnight': 1953, 'completely': 1954, 'suspicious': 1955, 'peace': 1956, 'loved': 1957, 'preserve': 1958, '“from': 1959, 'snake': 1960, 'custom': 1961, 'share': 1962, 'adventures': 1963, 'daring': 1964, 'effort': 1965, 'otherwise': 1966, 'unique': 1967, 'positive': 1968, 'kindness': 1969, 'detail': 1970, 'similar': 1971, 'pride': 1972, 'newspaper': 1973, 'takes': 1974, 'worked': 1975, 'willing': 1976, 'vincent': 1977, 'satisfied': 1978, 'price': 1979, 'hole': 1980, 'fault': 1981, 'particulars': 1982, 'gentlemen': 1983, 'tint': 1984, 'stream': 1985, 'recall': 1986, 'cocked': 1987, 'gazed': 1988, 'disappointment': 1989, 'below': 1990, 'friday': 1991, 'encyclopædia': 1992, 'saturday': 1993, 'golden': 1994, 'shelf': 1995, 'laughter': 1996, 'landlord': 1997, 'william': 1998, 'struggle': 1999, 'questions': 2000, 'mysterious': 2001, 'asleep': 2002, 'french': 2003, 'bushes': 2004, 'announced': 2005, 'brightly': 2006, 'stick': 2007, 'fourth': 2008, 'beat': 2009, 'contrast': 2010, 'shop': 2011, 'chase': 2012, 'expedition': 2013, 'recognised': 2014, 'confidence': 2015, 'murderer': 2016, 'striking': 2017, 'pitch': 2018, 'peeped': 2019, 'expense': 2020, 'method': 2021, 'removed': 2022, 'existence': 2023, 'puzzled': 2024, 'feature': 2025, 'de': 2026, 'tips': 2027, 'stock': 2028, 'ball': 2029, 'leadenhall': 2030, '“that’s': 2031, 'weak': 2032, 'meaning': 2033, 'respect': 2034, 'bundle': 2035, 'leaned': 2036, 'describe': 2037, 'sleeve': 2038, 'printed': 2039, 'sallow': 2040, 'solid': 2041, 'assured': 2042, 'conviction': 2043, 'scoundrel': 2044, 'breast': 2045, 'personal': 2046, 'telegram': 2047, 'camp': 2048, 'local': 2049, 'injuries': 2050, 'son’s': 2051, 'innocence': 2052, 'rapidly': 2053, 'temper': 2054, 'terribly': 2055, 'victoria': 2056, 'prison': 2057, 'continually': 2058, 'charming': 2059, 'health': 2060, 'fancies': 2061, 'grasped': 2062, 'tracks': 2063, 'dust': 2064, 'indian': 2065, 'folded': 2066, 'ballarat': 2067, 'deduced': 2068, 'cord': 2069, 'needed': 2070, 'worse': 2071, 'cover': 2072, 'deed': 2073, 'easier': 2074, 'conjecture': 2075, 'tapping': 2076, 'keys': 2077, 'india': 2078, 'protruding': 2079, 'burning': 2080, 'green': 2081, 'uncle’s': 2082, 'newly': 2083, 'sundial': 2084, '‘but': 2085, 'dundee': 2086, 'unable': 2087, 'discoloured': 2088, 'particular': 2089, '“th': 2090, 'safety': 2091, 'art': 2092, 'necessary': 2093, 'stains': 2094, 'quickly': 2095, 'victim': 2096, 'forget': 2097, 'dim': 2098, 'accident': 2099, 'savannah': 2100, 'names': 2101, 'rid': 2102, 'clock': 2103, 'lap': 2104, 'forty': 2105, 'promised': 2106, 'supply': 2107, 'lot': 2108, 'hearty': 2109, 'nights': 2110, 'you’ll': 2111, 'deserted': 2112, 'bricks': 2113, 'fears': 2114, 'cripple': 2115, 'shirt': 2116, 'surrey': 2117, 'scream': 2118, '“only': 2119, 'tied': 2120, 'sold': 2121, 'giving': 2122, 'permission': 2123, 'breckinridge': 2124, 'big': 2125, 'unlocked': 2126, 'intimate': 2127, 'metallic': 2128, 'joy': 2129, 'milk': 2130, 'cast': 2131, 'due': 2132, 'fee': 2133, 'aloysius': 2134, 'ceremony': 2135, 'millar': 2136, 'fowler': 2137, 'admirably': 2138, 'observing': 2139, 'false': 2140, 'actions': 2141, 'trained': 2142, 'introduce': 2143, 'interests': 2144, 'finds': 2145, 'bohemian': 2146, 'associated': 2147, 'blind': 2148, 'eagerly': 2149, 'risen': 2150, 'rang': 2151, 'formerly': 2152, 'waved': 2153, 'trifle': 2154, 'wet': 2155, 'sole': 2156, 'vile': 2157, 'forefinger': 2158, 'cigarette': 2159, 'trifling': 2160, 'pink': 2161, 'services': 2162, 'royal': 2163, 'safely': 2164, 'twist': 2165, 'companion’s': 2166, 'brougham': 2167, 'apiece': 2168, 'promises': 2169, 'extended': 2170, 'completed': 2171, 'brimmed': 2172, 'length': 2173, 'uncertain': 2174, 'colleague': 2175, 'count': 2176, 'von': 2177, 'hereditary': 2178, 'energetic': 2179, 'gigantic': 2180, 'system': 2181, 'sea': 2182, 'legal': 2183, 'purposes': 2184, 'steel': 2185, 'informed': 2186, 'crimes': 2187, 'subtle': 2188, 'possibility': 2189, 'drunken': 2190, 'choked': 2191, 'ended': 2192, 'built': 2193, 'stories': 2194, 'preposterous': 2195, 'rubbing': 2196, 'shag': 2197, 'dinner': 2198, 'handsome': 2199, 'temple': 2200, 'advantages': 2201, 'mistress': 2202, 'keeping': 2203, 'guinea': 2204, 'landau': 2205, 'delighted': 2206, 'provided': 2207, 'interfere': 2208, 'rocket': 2209, 'confined': 2210, 'peering': 2211, 'occupant': 2212, 'smoking': 2213, 'searched': 2214, 'increased': 2215, 'flushed': 2216, 'fists': 2217, 'crowded': 2218, 'rough': 2219, 'solemnly': 2220, 'borne': 2221, 'hardened': 2222, 'motion': 2223, 'sooner': 2224, 'shriek': 2225, 'figures': 2226, 'clapped': 2227, 'thinks': 2228, 'beautifully': 2229, 'wire': 2230, 'delay': 2231, 'greeting': 2232, '“i’ve': 2233, 'loves': 2234, 'elderly': 2235, 'gaze': 2236, '“all': 2237, 'shutter': 2238, 'dated': 2239, 'level': 2240, 'highly': 2241, 'partner': 2242, 'bizarre': 2243, 'liberty': 2244, 'guide': 2245, 'wrinkled': 2246, 'british': 2247, 'pierced': 2248, 'overcoat': 2249, 'altogether': 2250, 'occupation': 2251, 'glances': 2252, 'labour': 2253, 'snuff': 2254, 'especially': 2255, 'shiny': 2256, 'desk': 2257, 'suffer': 2258, 'purely': 2259, 'ejaculated': 2260, 'isn’t': 2261, 'pawnbroker’s': 2262, 'fourteen': 2263, 'debts': 2264, 'here’s': 2265, 'enormous': 2266, 'yourselves': 2267, 'fill': 2268, 'warmly': 2269, 'perceive': 2270, 'fatal': 2271, 'conditions': 2272, 'congratulate': 2273, 'hoped': 2274, 'using': 2275, 'moved': 2276, '“‘where': 2277, 'personally': 2278, 'richer': 2279, 'expensive': 2280, 'pick': 2281, 'absence': 2282, 'music': 2283, 'lids': 2284, 'parts': 2285, 'hurrying': 2286, 'exact': 2287, 'block': 2288, 'violin': 2289, 'wrapped': 2290, 'reaction': 2291, 'dense': 2292, 'neighbours': 2293, 'entering': 2294, 'rack': 2295, 'night’s': 2296, 'starting': 2297, 'treasure': 2298, 'rubber': 2299, 'brain': 2300, 'boxes': 2301, 'sounds': 2302, 'hollow': 2303, 'criminals': 2304, 'companions': 2305, 'distinguish': 2306, 'deeper': 2307, 'bulky': 2308, 'clutched': 2309, '“you’ll': 2310, '“really': 2311, 'motive': 2312, 'tangled': 2313, 'stained': 2314, 'link': 2315, 'invent': 2316, 'confessed': 2317, 'unnatural': 2318, 'teeth': 2319, 'homely': 2320, 'analysis': 2321, 'glove': 2322, 'clang': 2323, 'communication': 2324, 'maiden': 2325, 'boat': 2326, 'abstracted': 2327, 'typewriting': 2328, 'i’m': 2329, 'plumber': 2330, 'tottenham': 2331, 'separate': 2332, 'paying': 2333, 'staying': 2334, 'flush': 2335, 'fringe': 2336, 'school': 2337, 'visitors': 2338, 'fond': 2339, 'wheeler': 2340, 'treated': 2341, 'unforeseen': 2342, 'vanish': 2343, 'directed': 2344, 'upward': 2345, 'material': 2346, 'fully': 2347, 'torn': 2348, 'gaiters': 2349, 'elastic': 2350, 'c': 2351, 'bears': 2352, 'puffing': 2353, 'chemical': 2354, 'girl’s': 2355, 'linen': 2356, 'succeed': 2357, 'devoted': 2358, 'utterly': 2359, 'seek': 2360, 'engagement': 2361, 'whip': 2362, 'bitter': 2363, 'disguise': 2364, 'recognise': 2365, 'request': 2366, 'list': 2367, 'stated': 2368, 'platform': 2369, 'largest': 2370, 'mile': 2371, 'mentioned': 2372, 'excited': 2373, 'blunt': 2374, 'inquest': 2375, 'wednesday': 2376, 'aged': 2377, 'season': 2378, 'service': 2379, 'confession': 2380, 'forgotten': 2381, 'deceased': 2382, 'hideous': 2383, 'allusion': 2384, 'disturbed': 2385, 'consciousness': 2386, 'approach': 2387, 'hypothesis': 2388, 'sky': 2389, 'newspapers': 2390, 'bless': 2391, 'absurd': 2392, 'forming': 2393, 'rattle': 2394, 'dignity': 2395, 'wandered': 2396, 'backed': 2397, 'novel': 2398, 'wander': 2399, 'unhappy': 2400, 'accused': 2401, 'mccarthy’s': 2402, 'tale': 2403, '‘cooee': 2404, 'deductions': 2405, 'inferences': 2406, 'animal': 2407, 'highroad': 2408, 'knife': 2409, 'commence': 2410, 'judge': 2411, 'smoked': 2412, 'special': 2413, 'ashes': 2414, 'answering': 2415, 'acting': 2416, 'jack': 2417, 'policeman': 2418, 'tongue': 2419, 'submitted': 2420, 'exceptional': 2421, 'bars': 2422, 'fireplace': 2423, 'reported': 2424, 'war': 2425, 'plantation': 2426, 'disturb': 2427, 'postmark': 2428, 'attic': 2429, 'brass': 2430, 'shows': 2431, 'suicide': 2432, 'nd': 2433, 'proceed': 2434, 'contents': 2435, 'destroyed': 2436, 'southern': 2437, 'january': 2438, '‘it': 2439, 'command': 2440, 'error': 2441, 'roads': 2442, 'troubles': 2443, 'begun': 2444, 'hudson': 2445, 'visited': 2446, 'pulling': 2447, 'pondicherry': 2448, '“excellent': 2449, 'sailing': 2450, 'confederate': 2451, 'succeeded': 2452, 'miserable': 2453, 'chill': 2454, 'h': 2455, 'proved': 2456, 'shaken': 2457, 'direct': 2458, 'trade': 2459, 'cupboard': 2460, 'dates': 2461, 'gravesend': 2462, 'themselves': 2463, 'isa': 2464, 'george’s': 2465, 'foolish': 2466, 'flew': 2467, 'control': 2468, 'birds': 2469, 'doctor’s': 2470, 'doubtless': 2471, 'errand': 2472, 'muttered': 2473, 'legged': 2474, 'pitiable': 2475, 'clair’s': 2476, 'sombre': 2477, 'twinkled': 2478, 'plenty': 2479, 'garments': 2480, 'hugh': 2481, 'matches': 2482, 'scar': 2483, '“mrs': 2484, 'pennies': 2485, 'gravel': 2486, 'associate': 2487, 'bare': 2488, 'apartment': 2489, 'joking': 2490, 'crossed': 2491, 'sharply': 2492, 'whitewashed': 2493, 'exposure': 2494, 'articles': 2495, 'begging': 2496, 'wit’s': 2497, 'pile': 2498, 'commissionaire': 2499, 'lining': 2500, 'unnecessary': 2501, 'article': 2502, 'regretted': 2503, 'agency': 2504, 'determine': 2505, 'swung': 2506, 'guilt': 2507, 'nodded': 2508, 'egg': 2509, 'i’d': 2510, 'speckled': 2511, 'knock': 2512, 'leatherhead': 2513, 'soothing': 2514, 'helen': 2515, 'berkshire': 2516, 'event': 2517, 'approaching': 2518, 'accept': 2519, 'baboon': 2520, 'central': 2521, '“‘very': 2522, '“‘ah': 2523, 'moments': 2524, 'forth': 2525, 'unconscious': 2526, 'move': 2527, 'portion': 2528, 'boards': 2529, 'brisk': 2530, 'lash': 2531, 'noise': 2532, 'occasional': 2533, 'soft': 2534, 'inconvenience': 2535, 'thus': 2536, 'deposit': 2537, 'ferguson': 2538, 'balmoral': 2539, 'disturbance': 2540, 'friendly': 2541, 'moulton': 2542, '’frisco': 2543, 'beryls': 2544, 'streatham': 2545, 'moving': 2546, 'drunk': 2547, 'rucastles': 2548, 'skylight': 2549, 'rucastle’s': 2550, 'akin': 2551, 'precise': 2552, 'admirable': 2553, 'motives': 2554, 'factor': 2555, 'crack': 2556, 'happiness': 2557, 'around': 2558, 'cocaine': 2559, 'clues': 2560, 'mysteries': 2561, 'abandoned': 2562, 'mission': 2563, 'reigning': 2564, 'daily': 2565, 'former': 2566, '—i': 2567, 'civil': 2568, 'scarlet': 2569, 'pacing': 2570, 'introspective': 2571, 'rubbed': 2572, 'strikes': 2573, 'parallel': 2574, 'carelessly': 2575, 'edges': 2576, 'walks': 2577, 'silver': 2578, 'successive': 2579, 'baffled': 2580, 'lighting': 2581, 'presumably': 2582, 'woven': 2583, 'contraction': 2584, 'speaking': 2585, 'discover': 2586, 'wearing': 2587, 'guineas': 2588, 'paused': 2589, 'loud': 2590, 'tap': 2591, 'taste': 2592, 'secured': 2593, 'beryl': 2594, 'resolution': 2595, 'discretion': 2596, 'history': 2597, 'incisive': 2598, 'impatiently': 2599, 'uncontrollable': 2600, 'hurled': 2601, 'consulting': 2602, 'monograph': 2603, 'born': 2604, 'hum': 2605, 'produce': 2606, 'resolute': 2607, 'expenses': 2608, 'added': 2609, 'landlady': 2610, 'surrounded': 2611, 'exalted': 2612, 'disreputable': 2613, 'tweed': 2614, 'suited': 2615, 'limp': 2616, 'helpless': 2617, 'employed': 2618, 'villa': 2619, 'lounged': 2620, 'mews': 2621, 'returns': 2622, 'male': 2623, 'plan': 2624, 'ominous': 2625, 'relation': 2626, 'visits': 2627, 'gentleman’s': 2628, 'chambers': 2629, 'difficulties': 2630, 'remarkably': 2631, 'brushed': 2632, 'monica': 2633, 'coachman': 2634, 'hadn’t': 2635, 'fare': 2636, 'jumped': 2637, 'knot': 2638, 'lucky': 2639, 'arrangements': 2640, '“some': 2641, 'beef': 2642, 'beer': 2643, 'co': 2644, 'operation': 2645, 'eat': 2646, 'neutral': 2647, 'join': 2648, 'costume': 2649, 'stage': 2650, 'acute': 2651, 'group': 2652, 'scissors': 2653, 'guardsmen': 2654, 'fro': 2655, 'unlikely': 2656, 'carries': 2657, '“her': 2658, 'orders': 2659, 'loafer': 2660, 'sides': 2661, 'scuffle': 2662, 'attend': 2663, 'lights': 2664, 'voices': 2665, '“surely': 2666, 'proceedings': 2667, 'compunction': 2668, 'grace': 2669, 'slipping': 2670, 'shouting': 2671, 'moist': 2672, 'paint': 2673, 'suspected': 2674, 'instinct': 2675, 'overpowering': 2676, 'responded': 2677, 'hesitated': 2678, 'searching': 2679, '“yesterday': 2680, 'annoyance': 2681, 'drawers': 2682, 'pursued': 2683, 'cruelly': 2684, 'possess': 2685, 'truly': 2686, 'epistle': 2687, 'coldly': 2688, 'immensely': 2689, 'indebted': 2690, 'merry': 2691, 'utmost': 2692, 'routine': 2693, 'enthusiasm': 2694, 'effects': 2695, 'imagination': 2696, 'thousands': 2697, 'inspection': 2698, 'average': 2699, 'check': 2700, 'albert': 2701, 'dangling': 2702, 'faded': 2703, 'forgot': 2704, 'smooth': 2705, 'elbow': 2706, 'reputation': 2707, 'nominal': 2708, 'pope’s': 2709, 'announcement': 2710, 'fortunes': 2711, 'job': 2712, 'wages': 2713, 'pictures': 2714, 'keeps': 2715, 'widower': 2716, 'gets': 2717, '“‘never': 2718, 'handy': 2719, '“‘tell': 2720, '“‘but': 2721, 'grown': 2722, 'cared': 2723, 'chairs': 2724, 'wrung': 2725, 'tugged': 2726, 'yelled': 2727, 'tales': 2728, 'benefactor': 2729, '“‘dear': 2730, 'objection': 2731, 'awkward': 2732, 'mostly': 2733, '“‘is': 2734, '“‘certainly': 2735, 'pleased': 2736, 'sheets': 2737, 'delight': 2738, 'risk': 2739, 'cost': 2740, 'comical': 2741, 'roots': 2742, 'joke': 2743, 'splash': 2744, 'sinking': 2745, 'james’s': 2746, 'enclosure': 2747, 'fight': 2748, 'board': 2749, 'vigorously': 2750, 'knocked': 2751, 'shaven': 2752, 'judgment': 2753, 'inquired': 2754, 'picture': 2755, 'blocked': 2756, 'realise': 2757, 'stately': 2758, 'branch': 2759, 'suburban': 2760, 'clients': 2761, 'stalls': 2762, 'unlike': 2763, 'lust': 2764, 'happen': 2765, 'oxford': 2766, 'pea': 2767, '“still': 2768, 'higher': 2769, 'stake': 2770, 'raising': 2771, 'i’ve': 2772, 'labyrinth': 2773, 'director': 2774, 'imbecile': 2775, 'vault': 2776, 'crate': 2777, 'magnifying': 2778, 'minutely': 2779, 'seconds': 2780, 'satisfy': 2781, 'directors': 2782, 'warnings': 2783, 'reserve': 2784, 'meantime': 2785, 'pack': 2786, 'cards': 2787, 'choose': 2788, 'tension': 2789, 'hearing': 2790, 'spark': 2791, 'writhing': 2792, 'protruded': 2793, 'tearing': 2794, 'aperture': 2795, 'rested': 2796, 'flashed': 2797, 'blandly': 2798, 'pal': 2799, 'wrists': 2800, 'veins': 2801, 'stare': 2802, 'custody': 2803, 'manage': 2804, '“had': 2805, 'vulgar': 2806, 'vanishing': 2807, 'beating': 2808, 'ascertaining': 2809, 'exclaimed': 2810, 'rings': 2811, 'tout': 2812, 'identity': 2813, 'dare': 2814, 'roofs': 2815, 'leading': 2816, 'limits': 2817, 'fascinating': 2818, 'wanting': 2819, 'observer': 2820, 'vital': 2821, 'heading': 2822, '‘a': 2823, 'meal': 2824, 'lid': 2825, 'opposite': 2826, 'curling': 2827, 'feather': 2828, 'buttons': 2829, 'realising': 2830, 'wasn’t': 2831, 'younger': 2832, 'travel': 2833, 'treat': 2834, 'purple': 2835, 'plush': 2836, '“were': 2837, 'worst': 2838, 'clerks': 2839, 'glare': 2840, 'pledge': 2841, 'independent': 2842, 'advertised': 2843, 'sealed': 2844, 'faith': 2845, 'pressed': 2846, 'instructive': 2847, 'jet': 2848, 'gloves': 2849, 'softly': 2850, 'wonderfully': 2851, 'hit': 2852, 'impressions': 2853, 'odd': 2854, 'toe': 2855, 'neatly': 2856, 'violet': 2857, 'bushy': 2858, 'relatives': 2859, 'gravity': 2860, 'sized': 2861, 'penetrating': 2862, 'troubled': 2863, 'wash': 2864, 'useless': 2865, 'discovering': 2866, 'typewriter': 2867, 'characteristics': 2868, 'waste': 2869, 'stepping': 2870, 'moisture': 2871, 'cruel': 2872, 'huddled': 2873, 'crushed': 2874, 'difference': 2875, 'warm': 2876, 'hearted': 2877, 'rights': 2878, 'groaned': 2879, 'flattered': 2880, 'attentions': 2881, 'dramatic': 2882, 'deserved': 2883, 'punishment': 2884, 'swift': 2885, '“there’s': 2886, 'respects': 2887, 'suspicions': 2888, 'minor': 2889, 'spotted': 2890, 'revealed': 2891, 'characteristic': 2892, 'wired': 2893, '“will': 2894, 'ungrateful': 2895, 'rummaged': 2896, 'accounts': 2897, 'invariably': 2898, 'murdered': 2899, 'conjectured': 2900, 'district': 2901, 'proprietor': 2902, 'australian': 2903, 'terms': 2904, 'neighbouring': 2905, 'mccarthys': 2906, 'june': 2907, 'rd': 2908, 'lake': 2909, 'crowder': 2910, 'reeds': 2911, 'patience': 2912, 'border': 2913, 'blows': 2914, 'paces': 2915, 'verdict': 2916, 'thoughtfully': 2917, 'grave': 2918, 'flying': 2919, 'confirm': 2920, 'equal': 2921, 'considering': 2922, 'minds': 2923, 'coroner’s': 2924, 'guilty': 2925, 'hanged': 2926, 'paragraph': 2927, 'strolled': 2928, 'refusal': 2929, 'uttered': 2930, 'aroused': 2931, '“‘do': 2932, 'severe': 2933, 'pains': 2934, 'strongest': 2935, 'tea': 2936, 'pressure': 2937, 'tender': 2938, 'union': 2939, 'plot': 2940, 'flung': 2941, 'instincts': 2942, 'bone': 2943, 'spot': 2944, 'brains': 2945, 'insight': 2946, 'keenest': 2947, 'barmaid': 2948, '“an': 2949, 'add': 2950, 'rent': 2951, 'helped': 2952, 'replied': 2953, 'is—”': 2954, 'merest': 2955, 'moonshine': 2956, 'widespread': 2957, 'stricken': 2958, 'measured': 2959, 'brows': 2960, 'whipcord': 2961, 'silently': 2962, 'damp': 2963, 'listening': 2964, 'losing': 2965, 'calmly': 2966, 'whoever': 2967, 'presumption': 2968, 'map': 2969, 'injury': 2970, 'surgeon': 2971, 'stump': 2972, 'beard': 2973, 'drooping': 2974, 'eyebrows': 2975, 'disease': 2976, 'avoid': 2977, 'gaol': 2978, 'attacked': 2979, 'killed': 2980, 'wicked': 2981, 'mixed': 2982, 'desperate': 2983, 'signed': 2984, 'exposed': 2985, 'objections': 2986, 'ignorance': 2987, 'degree': 2988, 'logical': 2989, 'retain': 2990, 'barque': 2991, 'louder': 2992, 'chimney': 2993, 'gale': 2994, 'mother’s': 2995, 'chalk': 2996, 'awful': 2997, 'elias': 2998, 'retire': 2999, 'florida': 3000, 'begged': 3001, 'lumber': 3002, 'foreign': 3003, 'plate': 3004, 'skin': 3005, 'trembling': 3006, 'scrawled': 3007, 'flap': 3008, 'ascended': 3009, 'fluffy': 3010, 'enemy': 3011, 'persuade': 3012, 'foresee': 3013, 'carpet': 3014, '‘we': 3015, 'vain': 3016, 'senseless': 3017, 'pit': 3018, 'footmarks': 3019, 'elapsed': 3020, 'crumpled': 3021, 'division': 3022, 'relations': 3023, 'understood': 3024, 'education': 3025, 'rare': 3026, 'sensational': 3027, 'writer': 3028, 'vessel': 3029, 'bending': 3030, 'branches': 3031, 'oak': 3032, 'impunity': 3033, 'efforts': 3034, 'united': 3035, 'movement': 3036, 'constable': 3037, 'passers': 3038, 'residence': 3039, 'landing': 3040, 'authorities': 3041, 'decoyed': 3042, 'draught': 3043, 'dock': 3044, 'homeward': 3045, 'trough': 3046, 'wave': 3047, 'kate': 3048, 'sleeping': 3049, 'tread': 3050, 'oil': 3051, 'bodies': 3052, 'glimmered': 3053, 'faint': 3054, 'monotonous': 3055, 'attendant': 3056, 'nerve': 3057, 'th': 3058, 'midst': 3059, 'hour’s': 3060, 'wharf': 3061, 'vilest': 3062, 'cedars': 3063, 'kent': 3064, 'regular': 3065, 'invaluable': 3066, 'style': 3067, '“last': 3068, 'perform': 3069, 'ejaculation': 3070, 'attempted': 3071, 'constables': 3072, 'discovery': 3073, 'curtain': 3074, 'powerful': 3075, 'investigations': 3076, 'denied': 3077, 'declared': 3078, 'throws': 3079, 'horse’s': 3080, 'springing': 3081, 'forgive': 3082, 'dining': 3083, 'fainting': 3084, 'simply': 3085, 'hearts': 3086, 'rug': 3087, 'basket': 3088, 'inquire': 3089, 'pencil': 3090, 'posted': 3091, 'ignorant': 3092, 'wake': 3093, 'summer': 3094, 'stirring': 3095, 'metropolis': 3096, 'ledger': 3097, 'charged': 3098, 'sponge': 3099, 'sleeper': 3100, 'horrid': 3101, 'sleepy': 3102, 'pillow': 3103, 'submit': 3104, 'imprisonment': 3105, 'debt': 3106, 'chosen': 3107, 'sums': 3108, 'poured': 3109, 'cracked': 3110, 'crackling': 3111, 'frost': 3112, 'belongs': 3113, 'battered': 3114, 'intellectual': 3115, 'roughs': 3116, 'fled': 3117, 'ruefully': 3118, 'decline': 3119, 'leads': 3120, 'training': 3121, 'lime': 3122, 'cream': 3123, 'loop': 3124, 'replace': 3125, 'gathered': 3126, 'indoors': 3127, 'candle': 3128, 'dazed': 3129, 'electric': 3130, 'cosmopolitan': 3131, 'struggled': 3132, 'recalled': 3133, 'windigate': 3134, 'stars': 3135, 'covent': 3136, 'stall': 3137, 'bet': 3138, 'fowls': 3139, 'bred': 3140, 'speedily': 3141, 'slippers': 3142, 'felony': 3143, 'wealth': 3144, 'god’s': 3145, 'thieves': 3146, 'kilburn': 3147, 'brute': 3148, 'jem': 3149, 'heaven': 3150, 'crisp': 3151, 'rumours': 3152, 'hampshire': 3153, 'aristocratic': 3154, 'sentence': 3155, 'morose': 3156, 'disappointed': 3157, 'julia': 3158, 'railway': 3159, 'avert': 3160, 'wandering': 3161, 'harrow': 3162, 'manor': 3163, 'inhabited': 3164, 'bedrooms': 3165, 'awakened': 3166, 'terrified': 3167, 'writhed': 3168, '“are': 3169, 'wide': 3170, 'repairs': 3171, 'awake': 3172, 'broadened': 3173, 'poker': 3174, 'prices': 3175, 'wasted': 3176, 'tapped': 3177, 'slit': 3178, 'perplexity': 3179, 'original': 3180, 'fool': 3181, 'cat': 3182, 'saucer': 3183, 'roused': 3184, 'clearer': 3185, 'blowing': 3186, 'clump': 3187, 'cane': 3188, 'stronger': 3189, 'tightly': 3190, 'causing': 3191, 'hastened': 3192, 'murderous': 3193, 'convincing': 3194, 'believed': 3195, 'agony': 3196, 'composed': 3197, 'nearer': 3198, '“‘there': 3199, 'recompense': 3200, '“‘quite': 3201, 'unfortunately': 3202, 'lest': 3203, 'threshold': 3204, 'slammed': 3205, 'pushing': 3206, 'creases': 3207, 'secretary': 3208, 'descending': 3209, 'levers': 3210, 'moonlight': 3211, 'englishman': 3212, 'social': 3213, 'faithfully': 3214, 'hatty': 3215, 'stretching': 3216, 'california': 3217, 'dowry': 3218, 'offer': 3219, 'footing': 3220, 'bouquet': 3221, 'bride’s': 3222, 'dissatisfied': 3223, 'blame': 3224, 'allowance': 3225, 'francis': 3226, 'select': 3227, 'loving': 3228, 'banking': 3229, 'lucy': 3230, 'dishonoured': 3231, 'rage': 3232, 'arthur’s': 3233, 'concealed': 3234, 'tradesmen’s': 3235, 'cousin': 3236, 'sweetheart': 3237, 'mirror': 3238, 'serve': 3239, 'sorrow': 3240, 'governess': 3241, 'parents': 3242, 'smack': 3243, 'southampton': 3244, 'employer': 3245, 'suite': 3246, 'ladder': 3247, 'mention': 3248, 'men’s': 3249, 'admit': 3250, 'adjusted': 3251, 'instrument': 3252, 'questionable': 3253, 'drifted': 3254, 'faculties': 3255, 'hopeless': 3256, 'doings': 3257, 'summons': 3258, 'accomplished': 3259, 'holland': 3260, 'night—it': 3261, 'twentieth': 3262, 'wooing': 3263, 'employing': 3264, 'brilliantly': 3265, 'mood': 3266, 'attitude': 3267, 'dreams': 3268, 'suits': 3269, 'harness': 3270, 'thursday': 3271, 'scored': 3272, 'cuts': 3273, 'scraped': 3274, 'specimen': 3275, 'smelling': 3276, 'pronounce': 3277, 'active': 3278, 'ease': 3279, 'hundreds': 3280, 'experiences': 3281, 'aloud': 3282, 'desires': 3283, 'trusted': 3284, 'exaggerated': 3285, 'amiss': 3286, '“such': 3287, 'packet': 3288, 'stiff': 3289, 'monogram': 3290, 'shelves': 3291, 'sparkled': 3292, 'resolve': 3293, 'horses’': 3294, 'hoofs': 3295, 'grating': 3296, 'whistled': 3297, 'inches': 3298, 'bands': 3299, 'flame': 3300, 'consisted': 3301, 'flaming': 3302, 'halfway': 3303, 'trimmed': 3304, 'fur': 3305, 'extending': 3306, 'accent': 3307, 'kramm': 3308, 'nobleman': 3309, 'title': 3310, 'grow': 3311, 'ormstein': 3312, 'settling': 3313, 'languid': 3314, 'condescend': 3315, 'addressing': 3316, 'grand': 3317, 'confide': 3318, 'briefly': 3319, 'index': 3320, 'adopted': 3321, 'sandwiched': 3322, 'entangled': 3323, 'compromising': 3324, 'forgery': 3325, '“stolen': 3326, 'seal': 3327, 'ransacked': 3328, 'waylaid': 3329, '“absolutely': 3330, 'propose': 3331, 'scandinavia': 3332, 'strict': 3333, 'yawn': 3334, 'carte': 3335, 'blanche': 3336, 'kingdom': 3337, 'cabinet': 3338, 'chat': 3339, 'ii': 3340, 'precisely': 3341, 'grim': 3342, 'recorded': 3343, 'apart': 3344, 'failing': 3345, 'freemasonry': 3346, 'horsey': 3347, 'noting': 3348, 'ostlers': 3349, 'horses': 3350, 'exchange': 3351, 'twopence': 3352, 'sings': 3353, 'drives': 3354, 'dashing': 3355, 'calls': 3356, 'confidant': 3357, 'campaign': 3358, 'sounded': 3359, 'transferred': 3360, 'issue': 3361, 'widened': 3362, 'balancing': 3363, 'aquiline': 3364, 'waving': 3365, 'gross': 3366, 'regent': 3367, 'edgeware': 3368, '“away': 3369, 'sticking': 3370, 'die': 3371, 'perch': 3372, 'shabby': 3373, 'fast': 3374, 'faster': 3375, '“‘thank': 3376, '“‘come': 3377, 'mumbling': 3378, 'assisting': 3379, 'license': 3380, 'unexpected': 3381, 'departure': 3382, 'measures': 3383, 'separated': 3384, 'directions': 3385, 'ringing': 3386, '“nor': 3387, 'insist': 3388, '“entirely': 3389, 'shaped': 3390, 'baggy': 3391, 'sympathetic': 3392, 'assumed': 3393, 'actor': 3394, 'science': 3395, 'dusk': 3396, 'lamps': 3397, 'animated': 3398, 'grinder': 3399, 'edged': 3400, 'chances': 3401, 'political': 3402, 'burgled': 3403, '“pshaw': 3404, 'gleam': 3405, 'curve': 3406, 'earning': 3407, 'loungers': 3408, 'struggling': 3409, 'savagely': 3410, 'sticks': 3411, 'protect': 3412, 'outlined': 3413, 'he’ll': 3414, 'purse': 3415, 'treachery': 3416, 'intrusted': 3417, 'injuring': 3418, 'preventing': 3419, '“fire': 3420, 'guessed': 3421, 'piteous': 3422, 'spectacle': 3423, 'fathom': 3424, 'impulse': 3425, 'baby': 3426, 'reaches': 3427, 'sliding': 3428, 'narrowly': 3429, 'safer': 3430, '“our': 3431, 'practically': 3432, 'mister': 3433, 'slim': 3434, 'iii': 3435, 'impatience': 3436, 'descended': 3437, '“irene': 3438, 'majesty’s': 3439, 'queen': 3440, 'charing': 3441, 'chagrin': 3442, 'esq': 3443, 'till': 3444, 'preceding': 3445, 'reveal': 3446, 'freedom': 3447, 'departed': 3448, 'celebrated': 3449, 'resource': 3450, 'wronged': 3451, 'affect': 3452, 'wit': 3453, 'speaks': 3454, 'refers': 3455, 'fiery': 3456, 'intrusion': 3457, 'withdraw': 3458, 'abruptly': 3459, 'helper': 3460, 'fingertips': 3461, 'embellish': 3462, 'smaller': 3463, 'portly': 3464, 'puffed': 3465, 'flattened': 3466, 'indications': 3467, 'velvet': 3468, 'blazing': 3469, 'manual': 3470, 'developed': 3471, 'insult': 3472, 'compass': 3473, 'cuff': 3474, 'fish': 3475, 'literature': 3476, 'addition': 3477, 'explaining': 3478, 'follows': 3479, 'ezekiah': 3480, 'hopkins': 3481, 'u': 3482, 'eligible': 3483, 'fleet': 3484, 'april': 3485, 'ideas': 3486, 'employé': 3487, 'employers': 3488, 'faults': 3489, 'photography': 3490, 'rabbit': 3491, 'vice': 3492, 'vacancies': 3493, 'trustees': 3494, 'crib': 3495, 'mat': 3496, 'one’s': 3497, 'extra': 3498, 'millionaire': 3499, 'instructions': 3500, 'berths': 3501, '“‘not': 3502, 'applying': 3503, 'holiday': 3504, 'brick': 3505, 'entertaining': 3506, 'pinch': 3507, '“‘this': 3508, 'plunged': 3509, 'deceived': 3510, 'wax': 3511, 'disgust': 3512, 'groan': 3513, '‘is': 3514, 'fund': 3515, '‘that': 3516, 'spread': 3517, 'lengthened': 3518, '“‘in': 3519, 'sickness': 3520, 'billet': 3521, 'copy': 3522, 'britannica': 3523, 'blotting': 3524, 'persuaded': 3525, 'copying': 3526, 'reasoned': 3527, 'anyhow': 3528, 'quill': 3529, 'foolscap': 3530, 'bade': 3531, 'week’s': 3532, 'degrees': 3533, 'cardboard': 3534, 'curt': 3535, 'roar': 3536, 'flushing': 3537, 'morris': 3538, 'temporary': 3539, 'convenience': 3540, 'edward': 3541, 'paul’s': 3542, 'caps': 3543, 'wisely': 3544, 'issues': 3545, 'hang': 3546, 'pound': 3547, '“about': 3548, 'acid': 3549, 'earrings': 3550, 'complain': 3551, 'proves': 3552, 'featureless': 3553, 'thrusting': 3554, 'nodding': 3555, 'plays': 3556, 'patients': 3557, 'underground': 3558, 'storied': 3559, 'laurel': 3560, 'wilson’s': 3561, 'spies': 3562, 'enemy’s': 3563, 'traffic': 3564, 'flowing': 3565, 'inward': 3566, 'footpaths': 3567, 'swarm': 3568, 'abutted': 3569, 'enthusiastic': 3570, 'merit': 3571, 'hound': 3572, 'relentless': 3573, 'witted': 3574, 'conceive': 3575, 'alternately': 3576, 'represented': 3577, 'swing': 3578, 'languor': 3579, 'devouring': 3580, 'intuition': 3581, 'hunt': 3582, 'contemplation': 3583, 'army': 3584, 'heel': 3585, 'confused': 3586, 'nocturnal': 3587, 'armed': 3588, 'hint': 3589, 'puzzle': 3590, 'buttoning': 3591, 'deference': 3592, 'grandfather': 3593, 'introducing': 3594, 'turns': 3595, 'agree': 3596, 'humming': 3597, 'endless': 3598, 'bulldog': 3599, 'claws': 3600, 'thoroughfare': 3601, 'cabs': 3602, 'severely': 3603, 'solemn': 3604, 'perched': 3605, 'cracks': 3606, 'pawnbroker': 3607, 'banks': 3608, 'chairman': 3609, 'strengthen': 3610, 'resources': 3611, 'borrowed': 3612, 'napoleons': 3613, 'contains': 3614, 'packed': 3615, 'bullion': 3616, 'misgivings': 3617, 'preparations': 3618, 'flash': 3619, 'shooting': 3620, 'moment’s': 3621, 'dank': 3622, 'holes': 3623, 'heavier': 3624, 'lurid': 3625, 'womanly': 3626, 'chink': 3627, 'momentary': 3628, 'rending': 3629, 'gaping': 3630, 'streamed': 3631, 'sprung': 3632, 'compliment': 3633, 'clattered': 3634, 'serenely': 3635, 'sweeping': 3636, 'repay': 3637, 'whisky': 3638, 'soda': 3639, 'ingenious': 3640, 'rogue': 3641, 'elaborate': 3642, 'tunnel': 3643, 'burrowing': 3644, 'remaining': 3645, 'admiration': 3646, 'yawning': 3647, '“alas': 3648, 'commonplaces': 3649, 'race': 3650, 'c’est': 3651, 'infinitely': 3652, 'generations': 3653, 'outré': 3654, 'foreseen': 3655, 'bald': 3656, 'artistic': 3657, 'magistrate': 3658, 'adviser': 3659, 'everybody': 3660, 'contact': 3661, 'cruelty': 3662, 'print': 3663, 'push': 3664, 'argument': 3665, 'happens': 3666, 'complained': 3667, 'hurling': 3668, 'charm': 3669, 'simpler': 3670, 'presents': 3671, 'duchess': 3672, 'hesitating': 3673, 'symptoms': 3674, 'announce': 3675, 'loomed': 3676, 'tiny': 3677, 'courtesy': 3678, 'purport': 3679, 'vacuous': 3680, 'bang': 3681, 'fifteen': 3682, 'hardy': 3683, 'foreman': 3684, 'superior': 3685, 'traveller': 3686, 'impatient': 3687, 'indulge': 3688, 'brings': 3689, 'stole': 3690, 'gasfitters’': 3691, 'tickets': 3692, 'anywhere': 3693, 'annoyed': 3694, 'cashier': 3695, 'daylight': 3696, 'retiring': 3697, 'testament': 3698, 'marrying': 3699, 'sly': 3700, 'shamefully': 3701, 'pledged': 3702, 'catastrophe': 3703, 'foresaw': 3704, 'wink': 3705, 'sob': 3706, 'dwell': 3707, 'camberwell': 3708, 'westhouse': 3709, 'marbank': 3710, 'fenchurch': 3711, 'whenever': 3712, 'summoned': 3713, 'wreaths': 3714, 'spinning': 3715, 'invisible': 3716, 'nails': 3717, 'lace': 3718, 'slate': 3719, 'darker': 3720, 'greyish': 3721, 'defined': 3722, 'farthest': 3723, 'pince': 3724, 'nez': 3725, 'ventured': 3726, 'slightly': 3727, 'noted': 3728, 'amusing': 3729, 'moustache': 3730, 'sided': 3731, 'conclusive': 3732, 'instituted': 3733, 'answers': 3734, 'engaging': 3735, 'sufferer': 3736, 'assist': 3737, 'bottles': 3738, 'drawback': 3739, 'footfall': 3740, 'skinned': 3741, 'insinuating': 3742, 'nearest': 3743, 'controlled': 3744, 'abroad': 3745, 'individuality': 3746, 'handwriting': 3747, 'correspondence': 3748, 'suavely': 3749, 'transparent': 3750, 'collapsed': 3751, 'ghastly': 3752, 'glitter': 3753, 'actionable': 3754, 'stammered': 3755, 'petty': 3756, 'stuck': 3757, 'affectionate': 3758, 'forbidding': 3759, 'insisted': 3760, 'decidedly': 3761, 'expressed': 3762, 'produced': 3763, 'meetings': 3764, 'vows': 3765, 'exacted': 3766, 'constraint': 3767, 'unlocking': 3768, '“yet': 3769, 'jove': 3770, 'clatter': 3771, 'blooded': 3772, 'ends': 3773, 'gallows': 3774, 'devoid': 3775, 'smallest': 3776, 'sample': 3777, 'inform': 3778, 'scenery': 3779, 'rattling': 3780, 'gaunt': 3781, 'travelling': 3782, 'seats': 3783, 'intervals': 3784, 'established': 3785, 'opportunity': 3786, 'herefordshire': 3787, 'australia': 3788, 'ex': 3789, 'colonies': 3790, 'avoided': 3791, 'serving': 3792, 'employ': 3793, 'picking': 3794, 'flowers': 3795, 'quarrelling': 3796, 'inflicted': 3797, 'butt': 3798, 'damning': 3799, 'circumstantial': 3800, 'culprit': 3801, 'recollect': 3802, 'incapable': 3803, 'understanding': 3804, 'earth—”': 3805, 'shave': 3806, 'jaw': 3807, 'quote': 3808, 'deserts': 3809, 'brightest': 3810, 'indignation': 3811, 'policy': 3812, 'restraint': 3813, 'according': 3814, 'displayed': 3815, '“many': 3816, 'wrongfully': 3817, 'arrival': 3818, 'roughly': 3819, 'turner’s': 3820, 'popular': 3821, 'manners': 3822, 'enemies': 3823, 'mumbled': 3824, 'delirious': 3825, 'final': 3826, 'decide': 3827, '‘cooee’': 3828, 'confusion': 3829, '“‘how': 3830, 'concluded': 3831, 'lean': 3832, 'hereford': 3833, 'concern': 3834, 'flaw': 3835, 'hide': 3836, 'quarrels': 3837, '“may': 3838, 'wreck': 3839, 'mines': 3840, 'compared': 3841, 'groping': 3842, 'hellish': 3843, 'contained': 3844, 'extent': 3845, 'delirium': 3846, 'indicate': 3847, 'screening': 3848, 'admire': 3849, 'hangs': 3850, 'boarding': 3851, 'clutches': 3852, 'maddening': 3853, 'sheer': 3854, 'frenzy': 3855, 'suffered': 3856, 'depends': 3857, 'cloudless': 3858, 'obligations': 3859, 'heiress': 3860, 'cocksure': 3861, 'tackle': 3862, 'senior': 3863, 'fog': 3864, 'blotches': 3865, 'lichen': 3866, 'chimneys': 3867, 'desired': 3868, 'thinker': 3869, 'downward': 3870, 'compressed': 3871, 'nostrils': 3872, 'provoked': 3873, 'snarl': 3874, 'meadows': 3875, 'situated': 3876, 'wealthy': 3877, 'belt': 3878, 'sodden': 3879, 'trampled': 3880, 'mole': 3881, 'waterproof': 3882, '“these': 3883, 'tiptoes': 3884, 'gathering': 3885, 'bark': 3886, 'moss': 3887, 'regained': 3888, 'growing': 3889, 'corresponds': 3890, 'smokes': 3891, 'uses': 3892, '“look': 3893, 'colony': 3894, 'utter': 3895, 'conception': 3896, 'strangers': 3897, 'trifles': 3898, 'stride': 3899, 'ash': 3900, 'variety': 3901, 'bitten': 3902, 'waiter': 3903, 'possessed': 3904, 'outstanding': 3905, 'ashen': 3906, 'corners': 3907, 'hears': 3908, 'required': 3909, 'diggings': 3910, 'chap': 3911, 'reckless': 3912, 'luck': 3913, 'highway': 3914, 'spared': 3915, 'leaf': 3916, 'grinning': 3917, 'stroke': 3918, 'dislike': 3919, 'braved': 3920, 'regard': 3921, 'snap': 3922, 'limb': 3923, 'temptation': 3924, 'giant': 3925, 'frame': 3926, 'happily': 3927, 'publicity': 3928, 'analytical': 3929, 'narratives': 3930, 'ending': 3931, 'explanations': 3932, 'surmise': 3933, 'amateur': 3934, 'island': 3935, 'sketch': 3936, 'equinoctial': 3937, 'gales': 3938, 'storm': 3939, 'sobbed': 3940, 'newcomer': 3941, 'umbrella': 3942, 'weighed': 3943, '“give': 3944, 'hook': 3945, 'dry': 3946, 'mixture': 3947, 'prendergast': 3948, 'inexplicable': 3949, 'commencement': 3950, 'blaze': 3951, 'aversion': 3952, 'republican': 3953, 'exercise': 3954, 'drank': 3955, 'youngster': 3956, 'liked': 3957, 'exception': 3958, '—a': 3959, 'bills': 3960, 'pattered': 3961, 'putty': 3962, 'glared': 3963, '‘k': 3964, '‘my': 3965, 'sins': 3966, 'palpitating': 3967, 'rusty': 3968, 'belonged': 3969, 'fordham': 3970, 'grate': 3971, 'mass': 3972, 'treble': 3973, '‘to': 3974, 'deadliest': 3975, 'dread': 3976, 'emerge': 3977, 'tear': 3978, 'screaming': 3979, 'fits': 3980, 'basin': 3981, 'eccentricity': 3982, 'repute': 3983, 'politics': 3984, 'opposing': 3985, 'outstretched': 3986, 'scared': 3987, '“‘some': 3988, '‘what': 3989, 'nonsense': 3990, 'fuss': 3991, 'obstinate': 3992, 'hill': 3993, 'hesitation': 3994, 'causes': 3995, 'message': 3996, 'inexorable': 3997, 'deaths': 3998, 'fluttered': 3999, 'diary': 4000, 'notices': 4001, 'mccauley': 4002, 'paramore': 4003, 'swain': 4004, 'revenge': 4005, 'web': 4006, 'perils': 4007, 'elbows': 4008, 'ideal': 4009, '“would': 4010, 'attain': 4011, 'senses': 4012, 'zero': 4013, 'profound': 4014, 'regards': 4015, 'eccentric': 4016, 'item': 4017, 'library': 4018, 'assume': 4019, 'mail': 4020, 'urged': 4021, 'persons': 4022, 'individual': 4023, 'klux': 4024, 'klan': 4025, 'derived': 4026, 'resemblance': 4027, 'georgia': 4028, 'views': 4029, 'outrages': 4030, 'openly': 4031, 'organisation': 4032, 'government': 4033, 'implicate': 4034, 'entries': 4035, 'subdued': 4036, 'lifted': 4037, 'haste': 4038, 'condition': 4039, 'riverside': 4040, 'hurts': 4041, 'hungry': 4042, 'bite': 4043, 'addressed': 4044, 'calhoun': 4045, 'port': 4046, 'february': 4047, 'native': 4048, 'badly': 4049, 'atlantic': 4050, 'college': 4051, 'drenched': 4052, 'mingled': 4053, 'wine': 4054, 'timid': 4055, 'pluck': 4056, 'escort': 4057, 'whitney’s': 4058, 'cheery': 4059, 'alley': 4060, 'wharves': 4061, 'circles': 4062, 'pipes': 4063, 'brazier': 4064, 'charcoal': 4065, 'beckoning': 4066, 'exclamation': 4067, 'haggard': 4068, 'd’you': 4069, 'frighten': 4070, 'you’ve': 4071, 'sleepers': 4072, 'skirt': 4073, 'wrinkles': 4074, 'recommend': 4075, 'straightened': 4076, 'favoured': 4077, 'prey': 4078, 'sworn': 4079, 'clink': 4080, 'trusty': 4081, 'bedded': 4082, 'succession': 4083, 'gradually': 4084, 'drifting': 4085, 'tax': 4086, 'villas': 4087, 'absurdly': 4088, 'maybe': 4089, 'counties': 4090, 'remarking': 4091, 'aberdeen': 4092, 'fresno': 4093, 'proceeded': 4094, 'agitated': 4095, 'frantically': 4096, 'plucked': 4097, 'ascend': 4098, 'aspect': 4099, 'swore': 4100, 'toy': 4101, 'drops': 4102, 'bloodstains': 4103, 'protested': 4104, 'lodger': 4105, 'threadneedle': 4106, 'greasy': 4107, 'outer': 4108, 'escorted': 4109, 'communicated': 4110, 'bleeding': 4111, 'source': 4112, 'afford': 4113, 'weighted': 4114, 'sink': 4115, 'coins': 4116, 'feasible': 4117, 'outskirts': 4118, 'hedge': 4119, 'villages': 4120, 'sits': 4121, 'disposal': 4122, 'whoa': 4123, 'eagerness': 4124, 'hysterical': 4125, '“frankly': 4126, 'roared': 4127, 'snatched': 4128, 'coarse': 4129, 'pause': 4130, 'venture': 4131, 'rearranging': 4132, 'insufficient': 4133, 'pillows': 4134, 'eastern': 4135, 'ounce': 4136, 'sleeps': 4137, 'incredulity': 4138, 'gladstone': 4139, 'vegetables': 4140, 'flagged': 4141, 'projecting': 4142, 'cells': 4143, 'bath': 4144, 'tattered': 4145, 'repulsive': 4146, 'perpetual': 4147, 'needs': 4148, 'cell': 4149, 'stooped': 4150, 'bewilderment': 4151, 'destiny': 4152, '“with': 4153, 'grin': 4154, 'patted': 4155, 'passionately': 4156, 'schoolmaster': 4157, 'famous': 4158, 'flesh': 4159, 'plaster': 4160, 'smearing': 4161, 'coppers': 4162, 'evenings': 4163, 'saving': 4164, 'improved': 4165, 'varied': 4166, 'takings': 4167, 'relief': 4168, 'identified': 4169, 'confided': 4170, 'hush': 4171, 'studied': 4172, 'seedy': 4173, 'jerked': 4174, 'whimsical': 4175, 'recover': 4176, 'owner': 4177, 'goodge': 4178, 'shocked': 4179, 'unimpeachable': 4180, '‘for': 4181, 'bird’s': 4182, 'bakers': 4183, 'eaten': 4184, 'advertise': 4185, 'securer': 4186, 'dusty': 4187, 'infer': 4188, 'represent': 4189, 'moral': 4190, 'retrogression': 4191, 'disregarding': 4192, 'patent': 4193, 'improbable': 4194, 'capacity': 4195, 'flat': 4196, 'recently': 4197, 'affection': 4198, 'tallow': 4199, 'stain': 4200, 'frequent': 4201, '“eh': 4202, 'flapped': 4203, '“see': 4204, 'radiance': 4205, 'diamond': 4206, 'morcar’s': 4207, 'mercy': 4208, 'induce': 4209, 'gem': 4210, 'inst': 4211, 'morcar': 4212, 'morocco': 4213, 'transpired': 4214, 'catherine': 4215, 'cusack': 4216, 'intense': 4217, 'tossing': 4218, 'sequence': 4219, 'rifled': 4220, 'bored': 4221, 'bitterly': 4222, 'introduction': 4223, 'advertising': 4224, 'pet': 4225, 'jewels': 4226, 'robberies': 4227, 'woodcock': 4228, 'scotch': 4229, 'recovering': 4230, 'confine': 4231, 'museum': 4232, 'pence': 4233, 'strode': 4234, 'blew': 4235, 'footfalls': 4236, 'doctors’': 4237, 'holborn': 4238, 'establish': 4239, 'faces': 4240, 'trim': 4241, 'slabs': 4242, 'recommended': 4243, 'you’d': 4244, 'fiver': 4245, 'ate': 4246, 'snapped': 4247, 'numbers': 4248, 'noiseless': 4249, 'daresay': 4250, 'nearing': 4251, 'hubbub': 4252, 'framed': 4253, 'fiercely': 4254, 'knots': 4255, 'overtook': 4256, '“excuse': 4257, 'verge': 4258, 'cheerily': 4259, '“can': 4260, 'dash': 4261, 'proofs': 4262, '“get': 4263, 'sternly': 4264, 'crawl': 4265, 'fattened': 4266, 'pouring': 4267, 'maggie': 4268, 'handling': 4269, 'dealer’s': 4270, 'reaching': 4271, 'forgiveness': 4272, 'chief': 4273, 'tend': 4274, 'roylotts': 4275, 'sharing': 4276, 'beds': 4277, 'admiring': 4278, 'veiled': 4279, 'strain': 4280, 'consulted': 4281, 'devote': 4282, 'wickedness': 4283, 'dangers': 4284, 'survivor': 4285, 'richest': 4286, 'borders': 4287, 'gambler': 4288, 'acres': 4289, 'relative': 4290, 'butler': 4291, 'twins': 4292, 're': 4293, 'resided': 4294, 'obstacle': 4295, 'stepfather’s': 4296, 'disgraceful': 4297, 'correspondent': 4298, 'aunt': 4299, 'fortnight': 4300, 'deprived': 4301, 'seared': 4302, 'wretched': 4303, 'clanging': 4304, 'hinges': 4305, 'dreadfully': 4306, 'hastening': 4307, 'crash': 4308, 'fashioned': 4309, 'flooring': 4310, 'doctors': 4311, 'pure': 4312, '“two': 4313, 'housekeeper': 4314, 'glided': 4315, 'whistles': 4316, 'falling': 4317, 'agricultural': 4318, 'fleshless': 4319, 'furiously': 4320, 'snarled': 4321, 'imprudence': 4322, 'investments': 4323, 'tooth': 4324, 'fleecy': 4325, 'wayside': 4326, 'hedges': 4327, 'slope': 4328, 'shorter': 4329, 'stile': 4330, 'gossip': 4331, 'wings': 4332, 'comparatively': 4333, 'modern': 4334, 'erected': 4335, 'firmly': 4336, 'dummy': 4337, 'attached': 4338, 'researches': 4339, '“what’s': 4340, 'gates': 4341, 'hoarse': 4342, 'clamped': 4343, 'goodness’': 4344, 'cheerful': 4345, 'exchanged': 4346, 'gaped': 4347, 'affected': 4348, 'noiselessly': 4349, 'eyed': 4350, 'tones': 4351, 'parish': 4352, 'befall': 4353, 'lashed': 4354, 'handle': 4355, 'rigid': 4356, 'reconsidered': 4357, 'fangs': 4358, 'responsible': 4359, 'conscience': 4360, 'finer': 4361, 'worthy': 4362, 'fewer': 4363, 'crisis': 4364, 'bloodless': 4365, 'surface': 4366, 'braced': 4367, 'province': 4368, 'cleaver': 4369, 'horrify': 4370, 'cleaned': 4371, 'genial': 4372, 'joined': 4373, 'orphan': 4374, 'residing': 4375, 'exceptionally': 4376, 'bones': 4377, '“‘mr': 4378, 'discreet': 4379, 'bosom': 4380, '“‘if': 4381, 'thoughtful': 4382, '“‘precisely': 4383, '“‘we': 4384, 'product': 4385, 'enable': 4386, 'compress': 4387, 'cool': 4388, 'astonished': 4389, 'winds': 4390, 'obeyed': 4391, 'porter': 4392, 'chestnut': 4393, 'glossy': 4394, 'muttering': 4395, 'tone': 4396, 'uneasiness': 4397, 'radius': 4398, 'stillness': 4399, 'preliminary': 4400, 'sick': 4401, 'warn': 4402, 'entreaties': 4403, 'footsteps': 4404, 'newcomers': 4405, 'introduced': 4406, '‘by': 4407, 'ushered': 4408, 'columns': 4409, 'cylinders': 4410, 'shrunk': 4411, 'engine': 4412, '‘hullo': 4413, 'shapeless': 4414, 'implored': 4415, 'erect': 4416, 'moon': 4417, 'conscious': 4418, 'etc': 4419, 'hills': 4420, 'thanks': 4421, 'becher': 4422, 'flames': 4423, 'realised': 4424, 'whereabouts': 4425, 'perturbed': 4426, 'machinery': 4427, 'mould': 4428, 'remainder': 4429, 'autumnal': 4430, 'persistence': 4431, 'listless': 4432, 'lazily': 4433, 'fashionable': 4434, 'backwater': 4435, 'sees': 4436, 'postpone': 4437, 'grosvenor': 4438, 'san': 4439, 'francisco': 4440, 'management': 4441, 'hanover': 4442, 'invited': 4443, 'lancaster': 4444, 'honeymoon': 4445, 'floating': 4446, 'prepared': 4447, 'prolonged': 4448, 'fortunately': 4449, 'jealousy': 4450, 'allegro': 4451, '“lord': 4452, 'advanced': 4453, 'bowing': 4454, 'class': 4455, 'pardon': 4456, 'arrive': 4457, 'amused': 4458, 'mining': 4459, 'sacrifice': 4460, 'locket': 4461, '“lady': 4462, 'confidential': 4463, 'slang': 4464, 'expressive': 4465, 'doran’s': 4466, 'complaint': 4467, 'devotedly': 4468, 'wiser': 4469, 'serves': 4470, 'cravat': 4471, 'heaven’s': 4472, 'wardrobe': 4473, '“you’re': 4474, 'fragment': 4475, 'sherry': 4476, 'humble': 4477, 'briskly': 4478, 'dropping': 4479, 'humiliation': 4480, 'offended': 4481, 'resist': 4482, '‘why': 4483, 'miners’': 4484, 'doubted': 4485, 'gordon': 4486, 'citizens': 4487, 'hotels': 4488, 'shillings': 4489, 'gracious': 4490, 'disgrace': 4491, 'noblest': 4492, 'belonging': 4493, 'disagreeable': 4494, '“‘one': 4495, 'magnificent': 4496, 'lowest': 4497, 'propriety': 4498, 'national': 4499, 'parr': 4500, 'spoiled': 4501, 'implore': 4502, '“‘look': 4503, 'stolen': 4504, 'probed': 4505, 'ruined': 4506, 'knitted': 4507, 'straighten': 4508, 'considered': 4509, 'slam': 4510, 'complex': 4511, 'banker’s': 4512, 'accepted': 4513, 'fairbank': 4514, 'financier': 4515, 'entrance': 4516, 'suspect': 4517, 'suspecting': 4518, 'rude': 4519, 'dearest': 4520, 'stealthily': 4521, 'opponent': 4522, 'maids': 4523, 'prosecution': 4524, 'sensationalism': 4525, 'erred': 4526, 'glowing': 4527, 'wont': 4528, 'logic': 4529, 'glimmer': 4530, 'bordered': 4531, 'whim': 4532, 'favourably': 4533, 'spence': 4534, 'munro': 4535, 'governesses': 4536, 'fold': 4537, 'accomplishments': 4538, 'child’s': 4539, 'amusement': 4540, 'obey': 4541, 'commands': 4542, 'heh': 4543, '“‘or': 4544, 'ladies’': 4545, 'settles': 4546, 'fads': 4547, 'philadelphia': 4548, '“‘jephro': 4549, 'natured': 4550, 'cease': 4551, 'bradshaw': 4552, 'swan': 4553, 'countryside': 4554, 'devised': 4555, 'unreasoning': 4556, 'savage': 4557, 'planning': 4558, 'nursery': 4559, 'performance': 4560, 'impertinent': 4561, 'mastiff': 4562, 'muzzle': 4563, 'coil': 4564, 'trunk': 4565, 'tresses': 4566, 'observant': 4567, 'jovial': 4568, 'shuttered': 4569, 'jest': 4570, 'worrying': 4571, 'eclipses': 4572, 'predominates': 4573, 'sex': 4574, 'emotions': 4575, 'abhorrent': 4576, 'balanced': 4577, 'softer': 4578, 'passions': 4579, 'gibe': 4580, 'observer—excellent': 4581, 'intrusions': 4582, 'finely': 4583, 'temperament': 4584, 'distracting': 4585, 'mental': 4586, 'grit': 4587, 'sensitive': 4588, 'lenses': 4589, 'disturbing': 4590, 'dubious': 4591, 'centred': 4592, 'establishment': 4593, 'absorb': 4594, 'loathed': 4595, 'alternating': 4596, 'ambition': 4597, 'drowsiness': 4598, 'occupied': 4599, 'odessa': 4600, 'trepoff': 4601, 'atkinson': 4602, 'brothers': 4603, 'trincomalee': 4604, 'delicately': 4605, 'successfully': 4606, 'activity': 4607, 'shared': 4608, 'readers': 4609, 'silhouette': 4610, 'clasped': 4611, 'created': 4612, 'effusive': 4613, 'spirit': 4614, 'gasogene': 4615, '“wedlock': 4616, '“seven': 4617, 'intended': 4618, 'clumsy': 4619, 'careless': 4620, 'centuries': 4621, 'mess': 4622, 'jane': 4623, 'incorrigible': 4624, 'simplicity': 4625, 'shoe': 4626, 'firelight': 4627, 'crusted': 4628, 'malignant': 4629, 'slitting': 4630, 'slavey': 4631, 'iodoform': 4632, 'nitrate': 4633, 'bulge': 4634, 'secreted': 4635, 'stethoscope': 4636, 'ridiculously': 4637, 'distinction': 4638, '“frequently': 4639, 'seventeen': 4640, 'notepaper': 4641, '“read': 4642, 'undated': 4643, 'theorise': 4644, 'insensibly': 4645, 'begins': 4646, 'imitate': 4647, 'processes': 4648, 'peculiarly': 4649, '“peculiar—that': 4650, '“e”': 4651, '“g': 4652, '“p': 4653, '“g”': 4654, '“t”': 4655, 'texture': 4656, 'maker': 4657, '‘g’': 4658, '‘t’': 4659, '‘gesellschaft': 4660, '‘company': 4661, 'customary': 4662, '‘co': 4663, '‘p': 4664, '‘papier': 4665, '‘eg': 4666, 'continental': 4667, 'gazetteer': 4668, '“eglow': 4669, 'eglonitz—here': 4670, 'egria': 4671, 'country—in': 4672, 'carlsbad': 4673, '‘remarkable': 4674, 'wallenstein': 4675, 'numerous': 4676, 'factories': 4677, 'mills': 4678, 'triumphant': 4679, 'construction': 4680, 'sentence—‘this': 4681, 'frenchman': 4682, 'russian': 4683, 'uncourteous': 4684, 'verbs': 4685, 'writes': 4686, 'prefers': 4687, 'curb': 4688, 'beauties': 4689, 'boswell': 4690, 'client—”': 4691, 'authoritative': 4692, 'hercules': 4693, 'richness': 4694, 'astrakhan': 4695, 'slashed': 4696, 'fronts': 4697, 'breasted': 4698, 'brooch': 4699, 'calves': 4700, 'tops': 4701, 'barbaric': 4702, 'opulence': 4703, 'cheekbones': 4704, 'vizard': 4705, 'obstinacy': 4706, 'harsh': 4707, 'binding': 4708, 'european': 4709, 'august': 4710, 'employs': 4711, 'dryly': 4712, 'quench': 4713, 'compromise': 4714, 'implicates': 4715, 'kings': 4716, 'apparent': 4717, 'depicted': 4718, 'reopened': 4719, 'desperation': 4720, 'wilhelm': 4721, 'gottsreich': 4722, 'sigismond': 4723, 'cassel': 4724, 'felstein': 4725, 'incognito': 4726, 'prague': 4727, 'shutting': 4728, 'lengthy': 4729, 'warsaw': 4730, 'adventuress': 4731, '“kindly': 4732, 'docketing': 4733, 'paragraphs': 4734, 'concerning': 4735, 'furnish': 4736, 'biography': 4737, 'hebrew': 4738, 'rabbi': 4739, 'staff': 4740, 'commander': 4741, 'fishes': 4742, 'jersey': 4743, 'contralto—hum': 4744, 'la': 4745, 'scala': 4746, 'prima': 4747, 'donna': 4748, 'imperial': 4749, 'opera': 4750, 'warsaw—yes': 4751, 'operatic': 4752, 'stage—ha': 4753, 'london—quite': 4754, 'desirous': 4755, 'how—”': 4756, 'certificates': 4757, 'blackmailing': 4758, 'authenticity': 4759, '“pooh': 4760, 'pooh': 4761, '“imitated': 4762, '“bought': 4763, 'indiscretion': 4764, 'mad—insane': 4765, 'compromised': 4766, 'prince': 4767, '“five': 4768, 'burglars': 4769, 'diverted': 4770, 'luggage': 4771, 'reproachfully': 4772, 'clotilde': 4773, 'lothman': 4774, 'meningen': 4775, 'principles': 4776, '“threatens': 4777, 'lengths': 4778, 'go—none': 4779, 'betrothal': 4780, 'publicly': 4781, 'proclaimed': 4782, 'langham': 4783, 'progress': 4784, 'provinces': 4785, 'chamois': 4786, 'scribbled': 4787, 'receipt': 4788, 'mademoiselle’s': 4789, 'john’s': 4790, 'awaiting': 4791, 'masterly': 4792, 'disentangled': 4793, 'inextricable': 4794, 'invariable': 4795, 'kempt': 4796, 'whiskered': 4797, 'inflamed': 4798, 'amazing': 4799, 'disguises': 4800, 'nod': 4801, 'sequel': 4802, 'bijou': 4803, 'chubb': 4804, 'fasteners': 4805, 'coach': 4806, 'lent': 4807, 'fills': 4808, 'biographies': 4809, 'daintiest': 4810, 'planet': 4811, 'concerts': 4812, 'depended': 4813, 'moustached—evidently': 4814, 'glimpses': 4815, 'excitedly': 4816, 'flurried': 4817, '‘drive': 4818, '‘first': 4819, 'hankey’s': 4820, 'tags': 4821, 'buckles': 4822, 'cabby': 4823, 'steaming': 4824, 'surpliced': 4825, 'expostulating': 4826, 'aisle': 4827, 'idler': 4828, '‘you’ll': 4829, 'responses': 4830, 'vouching': 4831, 'tying': 4832, 'spinster': 4833, 'thanking': 4834, 'beamed': 4835, 'informality': 4836, 'sally': 4837, 'menaced': 4838, 'immediate': 4839, 'necessitate': 4840, 'food': 4841, 'busier': 4842, 'tray': 4843, 'hungrily': 4844, 'madame': 4845, 'unpleasantness': 4846, 'hand—so—you': 4847, 'roll': 4848, 'plumber’s': 4849, 'rejoin': 4850, 'prepare': 4851, 'role': 4852, 'minded': 4853, 'nonconformist': 4854, 'benevolent': 4855, 'hare': 4856, 'equalled': 4857, 'vary': 4858, 'specialist': 4859, 'lighted': 4860, 'pictured': 4861, 'succinct': 4862, 'locality': 4863, 'shabbily': 4864, 'wheel': 4865, 'flirting': 4866, 'nurse': 4867, 'mouths': 4868, 'simplifies': 4869, 'princess': 4870, 'concealment': 4871, 'secretive': 4872, 'secreting': 4873, 'guardianship': 4874, 'indirect': 4875, 'resolved': 4876, 'rumble': 4877, 'sidelights': 4878, 'smart': 4879, 'loafing': 4880, 'elbowed': 4881, 'superb': 4882, 'hospital': 4883, 'marm': 4884, 'conspiring': 4885, 'kindliness': 4886, 'blackest': 4887, 'spectators': 4888, 'ill—gentlemen': 4889, 'maids—joined': 4890, 'assuring': 4891, 'rejoiced': 4892, 'uproar': 4893, 'accomplice': 4894, 'motioned': 4895, 'values': 4896, 'darlington': 4897, 'substitution': 4898, 'arnsworth': 4899, 'castle': 4900, 'grabs': 4901, 'unmarried': 4902, 'recess': 4903, 'replaced': 4904, 'excuses': 4905, 'precipitance': 4906, 'regain': 4907, 'deuce': 4908, 'toast': 4909, 'grasping': 4910, 'simplify': 4911, '“married': 4912, 'yet—': 4913, 'relapsed': 4914, 'moody': 4915, 'sardonic': 4916, 'continent': 4917, 'hoarsely': 4918, 'dismantled': 4919, 'plunging': 4920, 'superscribed': 4921, '“sherlock': 4922, '—you': 4923, 'betrayed': 4924, 'warned': 4925, 'actress': 4926, 'imprudently': 4927, 'antagonist': 4928, 'nest': 4929, 'hindrance': 4930, 'safeguard': 4931, 'née': 4932, 'woman—oh': 4933, 'inviolate': 4934, 'ring—”': 4935, 'emerald': 4936, 'amazement': 4937, '“irene’s': 4938, 'cleverness': 4939, 'honourable': 4940, 'autumn': 4941, 'florid': 4942, 'cordially': 4943, 'bob': 4944, 'encircled': 4945, '“try': 4946, 'settee': 4947, 'relapsing': 4948, 'judicial': 4949, 'moods': 4950, 'conventions': 4951, 'humdrum': 4952, 'everyday': 4953, 'relish': 4954, 'prompted': 4955, 'combinations': 4956, 'proposition': 4957, 'doubting': 4958, 'piling': 4959, 'breaks': 4960, 'acknowledges': 4961, 'strangest': 4962, 'recommence': 4963, 'indication': 4964, 'greatcoat': 4965, 'tradesman': 4966, 'obese': 4967, 'pompous': 4968, 'shepherd’s': 4969, 'unbuttoned': 4970, 'drab': 4971, 'brassy': 4972, 'ornament': 4973, 'frayed': 4974, 'discontent': 4975, '“beyond': 4976, 'freemason': 4977, 'gospel': 4978, 'ship’s': 4979, 'carpenter': 4980, 'muscles': 4981, 'intelligence': 4982, 'rules': 4983, 'arc': 4984, 'breastpin': 4985, 'patch': 4986, 'tattooed': 4987, 'tattoo': 4988, 'contributed': 4989, 'staining': 4990, 'fishes’': 4991, 'scales': 4992, 'chinese': 4993, 'coin': 4994, '‘omne': 4995, 'ignotum': 4996, 'pro': 4997, 'magnifico': 4998, 'shipwreck': 4999, 'candid': 5000, 'planted': 5001, 'bequest': 5002, 'lebanon': 5003, 'pennsylvania': 5004, 'entitles': 5005, 'wriggled': 5006, 'scratch': 5007, 'mopping': 5008, 'assistants': 5009, 'obliging': 5010, 'smarter': 5011, 'snapping': 5012, 'camera': 5013, 'improving': 5014, 'diving': 5015, 'develop': 5016, 'worker': 5017, 'cooking': 5018, 'clean—that’s': 5019, 'asks': 5020, '‘here’s': 5021, 'wits’': 5022, '“‘have': 5023, 'occupations': 5024, 'prick': 5025, 'providing': 5026, 'splendid': 5027, 'millions': 5028, 'londoners': 5029, 'competition': 5030, 'tramped': 5031, 'coster’s': 5032, 'barrow': 5033, 'were—straw': 5034, 'lemon': 5035, 'irish': 5036, 'setter': 5037, 'liver': 5038, 'vivid': 5039, 'butted': 5040, 'dejected': 5041, 'wedged': 5042, 'refreshed': 5043, 'redder': 5044, 'candidate': 5045, 'disqualify': 5046, 'favourable': 5047, '‘he': 5048, 'requirement': 5049, 'bashful': 5050, 'congratulated': 5051, 'injustice': 5052, 'hesitate': 5053, 'released': 5054, 'wigs': 5055, 'cobbler’s': 5056, 'trooped': 5057, 'pensioners': 5058, 'propagation': 5059, 'maintenance': 5060, 'stretch': 5061, '“‘ten': 5062, 'mornings': 5063, 'forfeit': 5064, 'comply': 5065, 'budge': 5066, '“‘it’s': 5067, 'avail': 5068, '‘neither': 5069, 'pens': 5070, 'provide': 5071, 'hoax': 5072, 'fraud': 5073, 'cheer': 5074, 'bedtime': 5075, 'penny': 5076, 'bottle': 5077, 'complimented': 5078, 'planked': 5079, 'sovereigns': 5080, 'dared': 5081, '“eight': 5082, 'abbots': 5083, 'archery': 5084, 'armour': 5085, 'architecture': 5086, 'attica': 5087, 'diligence': 5088, 'b’s': 5089, 'writings': 5090, 'hammered': 5091, 'tack': 5092, 'dissolved': 5093, 'october': 5094, 'surveyed': 5095, 'rueful': 5096, 'overtopped': 5097, 'elsewhere': 5098, 'shoving': 5099, 'refreshingly': 5100, 'accountant': 5101, '‘his': 5102, 'solicitor': 5103, 'manufactory': 5104, 'artificial': 5105, 'graver': 5106, '“grave': 5107, 'grievance': 5108, 'prank—if': 5109, 'prank—upon': 5110, 'endeavour': 5111, 'advertisement—how': 5112, 'applicant': 5113, 'cheap': 5114, '“small': 5115, 'gipsy': 5116, 'attended': 5117, 'frankly': 5118, 'puzzling': 5119, 'identify': 5120, 'hawk': 5121, '“sarasate': 5122, 'absorbing': 5123, 'programme': 5124, 'italian': 5125, 'introspect': 5126, 'aldersgate': 5127, 'poky': 5128, 'genteel': 5129, 'dingy': 5130, 'railed': 5131, 'weedy': 5132, 'clumps': 5133, 'laden': 5134, 'uncongenial': 5135, 'atmosphere': 5136, 'gilt': 5137, 'balls': 5138, '“jabez': 5139, 'wilson”': 5140, 'puckered': 5141, 'thumped': 5142, 'strand': 5143, '“third': 5144, 'promptly': 5145, '“smart': 5146, 'smartest': 5147, '“evidently': 5148, 'counts': 5149, 'explore': 5150, 'arteries': 5151, 'roadway': 5152, 'commerce': 5153, 'outward': 5154, 'pedestrians': 5155, 'shops': 5156, 'stagnant': 5157, 'quitted': 5158, 'hobby': 5159, 'mortimer’s': 5160, 'tobacconist': 5161, 'vegetarian': 5162, 'restaurant': 5163, 'mcfarlane’s': 5164, 'depot': 5165, 'we’ve': 5166, 'sandwich': 5167, 'sweetness': 5168, 'harmony': 5169, 'vex': 5170, 'conundrums': 5171, 'musician': 5172, 'performer': 5173, 'composer': 5174, 'dreamy': 5175, 'sleuth': 5176, 'dual': 5177, 'asserted': 5178, 'exactness': 5179, 'astuteness': 5180, 'poetic': 5181, 'contemplative': 5182, 'predominated': 5183, 'improvisations': 5184, 'editions': 5185, 'unacquainted': 5186, 'askance': 5187, 'mortals': 5188, 'enwrapped': 5189, 'complicates': 5190, '“ten': 5191, 'oppressed': 5192, 'stupidity': 5193, 'dealings': 5194, 'grotesque': 5195, 'kensington': 5196, 'copier': 5197, 'man—a': 5198, 'hansoms': 5199, 'peter': 5200, 'oppressively': 5201, '“watson': 5202, '“we’re': 5203, 'couples': 5204, 'consequential': 5205, 'gloomily': 5206, 'loftily': 5207, 'theoretical': 5208, 'makings': 5209, 'sholto': 5210, 'agra': 5211, 'exciting': 5212, '“john': 5213, 'smasher': 5214, 'forger': 5215, 'bracelets': 5216, 'eton': 5217, 'build': 5218, 'orphanage': 5219, 'cornwall': 5220, 'communicative': 5221, 'tunes': 5222, 'farrington': 5223, 'virtue': 5224, 'tenacious': 5225, 'lobster': 5226, 'dismissed': 5227, 'guidance': 5228, 'terminated': 5229, 'conducted': 5230, 'piled': 5231, 'crates': 5232, 'vulnerable': 5233, 'flags': 5234, 'imperilled': 5235, 'sufficed': 5236, 'doctor—as': 5237, 'divined—in': 5238, 'unpack': 5239, 'layers': 5240, 'foil': 5241, 'justified': 5242, 'screen': 5243, 'partie': 5244, 'carrée': 5245, 'positions': 5246, 'disadvantage': 5247, 'crouched': 5248, 'slide': 5249, 'darkness—such': 5250, 'experienced': 5251, 'expectancy': 5252, 'depressing': 5253, 'subduing': 5254, 'retreat': 5255, 'officers': 5256, 'comparing': 5257, 'dawn': 5258, 'sighing': 5259, 'glint': 5260, 'gash': 5261, 'area': 5262, 'withdrawn': 5263, 'boyish': 5264, 'waist': 5265, 'hauling': 5266, 'lithe': 5267, 'chisel': 5268, 'bags': 5269, 'scott': 5270, 'archie': 5271, 'intruder': 5272, 'dived': 5273, 'skirts': 5274, 'barrel': 5275, 'clinked': 5276, 'coolness': 5277, 'tails': 5278, 'effective': 5279, 'quicker': 5280, 'climbing': 5281, 'fix': 5282, 'derbies': 5283, 'filthy': 5284, 'handcuffs': 5285, '‘sir’': 5286, '‘please': 5287, 'snigger': 5288, 'highness': 5289, 'detected': 5290, 'defeated': 5291, 'scores': 5292, 'refund': 5293, 'amply': 5294, 'repaid': 5295, 'managing': 5296, 'clay’s': 5297, 'accomplice’s': 5298, 'lure': 5299, 'incites': 5300, 'securing': 5301, 'intrigue': 5302, 'expenditure': 5303, 'assistant’s': 5304, 'fondness': 5305, 'coolest': 5306, 'cellar—something': 5307, 'skirmishes': 5308, 'concert': 5309, 'presence—in': 5310, 'unfeigned': 5311, 'ennui': 5312, '“‘l’homme': 5313, 'rien—l’œuvre': 5314, 'gustave': 5315, 'flaubert': 5316, 'sand': 5317, '“life': 5318, 'hover': 5319, 'peep': 5320, 'queer': 5321, 'coincidences': 5322, 'plannings': 5323, 'chains': 5324, 'fiction': 5325, 'conventionalities': 5326, 'stale': 5327, 'unprofitable': 5328, 'reports': 5329, 'realism': 5330, 'selection': 5331, 'producing': 5332, 'realistic': 5333, 'report': 5334, 'stress': 5335, 'platitudes': 5336, 'contain': 5337, 'essence': 5338, 'unofficial': 5339, 'throughout': 5340, 'continents': 5341, 'here”—i': 5342, 'ground—“let': 5343, 'bruise': 5344, 'crudest': 5345, 'writers': 5346, 'crude': 5347, 'dundas': 5348, 'separation': 5349, 'teetotaler': 5350, 'teller': 5351, 'acknowledge': 5352, 'snuffbox': 5353, 'amethyst': 5354, 'splendour': 5355, 'commenting': 5356, 'souvenir': 5357, 'unimportant': 5358, 'apt': 5359, 'bigger': 5360, 'intricate': 5361, 'marseilles': 5362, 'boa': 5363, 'tilted': 5364, 'coquettish': 5365, 'devonshire': 5366, 'panoply': 5367, 'oscillated': 5368, 'fidgeted': 5369, 'plunge': 5370, 'swimmer': 5371, '“oscillation': 5372, 'affaire': 5373, 'cœur': 5374, 'discriminate': 5375, 'oscillates': 5376, 'symptom': 5377, 'perplexed': 5378, 'grieved': 5379, 'sailed': 5380, 'merchant': 5381, 'pilot': 5382, 'welcomed': 5383, 'humoured': 5384, '“you’ve': 5385, '“else': 5386, 'overlook': 5387, 'etherege': 5388, 'windibank—that': 5389, 'father—took': 5390, 'tidy': 5391, 'wines': 5392, 'goodwill': 5393, 'rambling': 5394, 'inconsequential': 5395, 'concentration': 5396, '“does': 5397, 'ned': 5398, 'auckland': 5399, 'zealand': 5400, '½': 5401, 'per': 5402, 'cent': 5403, 'bargain': 5404, 'burden': 5405, 'draws': 5406, 'pays': 5407, 'sutherland’s': 5408, 'nervously': 5409, 'sunday': 5410, 'denying': 5411, 'him—that': 5412, 'hosmer—mr': 5413, 'angel—was': 5414, 'street—and—”': 5415, '“no—except': 5416, 'chaffed': 5417, 'typewrite': 5418, 'axiom': 5419, 'shy': 5420, 'hated': 5421, 'conspicuous': 5422, 'gentlemanly': 5423, 'he’d': 5424, 'quinsy': 5425, 'swollen': 5426, 'glands': 5427, 'whispering': 5428, 'proposed': 5429, 'earnest': 5430, 'fonder': 5431, 'bordeaux': 5432, 'saviour’s': 5433, 'king’s': 5434, 'pancras': 5435, '“most': 5436, 'notion': 5437, 'shilling': 5438, 'muff': 5439, 'accurate': 5440, 'saturday’s': 5441, 'lyon': 5442, 'angel’s': 5443, 'travels': 5444, 'claret': 5445, 'importers': 5446, 'oily': 5447, 'counsellor': 5448, 'infinite': 5449, 'trite': 5450, 'andover': 5451, 'hague': 5452, 'unnoticed': 5453, 'suggestiveness': 5454, 'straw': 5455, 'brickish': 5456, 'beads': 5457, 'sewn': 5458, 'ornaments': 5459, '“’pon': 5460, 'concentrate': 5461, 'trouser': 5462, 'typewritist': 5463, 'presses': 5464, 'sewing': 5465, 'type': 5466, 'broadest': 5467, 'dint': 5468, 'decorated': 5469, 'fifth': 5470, 'dipped': 5471, 'elementary': 5472, '“missing': 5473, 'fourteenth': 5474, 'ft': 5475, 'complexion': 5476, 'infirmity': 5477, 'harris': 5478, 'anybody': 5479, 'quotes': 5480, 'balzac': 5481, '‘hosmer': 5482, 'angel’': 5483, 'superscription': 5484, 'suggestive—in': 5485, 'deny': 5486, 'breach': 5487, 'interim': 5488, 'demeanour': 5489, 'weird': 5490, 'tangle': 5491, 'unravel': 5492, 'disappearing': 5493, 'bedside': 5494, 'dénouement': 5495, 'recesses': 5496, 'array': 5497, 'tubes': 5498, 'pungent': 5499, 'cleanly': 5500, 'hydrochloric': 5501, 'bisulphate': 5502, 'baryta': 5503, 'salt': 5504, 'deserting': 5505, 'sturdy': 5506, 'bland': 5507, 'sidled': 5508, 'excitable': 5509, 'impulsive': 5510, 'noised': 5511, 'alike': 5512, 'slurring': 5513, '‘e': 5514, 'defect': 5515, '‘r': 5516, '‘e’s’': 5517, 'slurred': 5518, '‘r’s’': 5519, 'tailless': 5520, 'alluded': 5521, 'do—really': 5522, 'that’s': 5523, '“it—it’s': 5524, 'selfish': 5525, 'heartless': 5526, 'contradict': 5527, 'enjoyed': 5528, 'restive': 5529, 'conceives': 5530, 'creditable': 5531, 'connivance': 5532, 'disguised': 5533, 'masked': 5534, 'whisper': 5535, 'doubly': 5536, 'lovers': 5537, 'affections': 5538, 'deception': 5539, 'pretended': 5540, 'journeys': 5541, 'cumbrous': 5542, 'permanent': 5543, 'suitor': 5544, 'fidelity': 5545, 'allusions': 5546, 'happening': 5547, 'conveniently': 5548, 'assurance': 5549, 'assault': 5550, 'illegal': 5551, 'to—”': 5552, 'banged': 5553, 'speed': 5554, 'profited': 5555, 'spectacles': 5556, 'hinted': 5557, 'confirmed': 5558, 'inferred': 5559, 'isolated': 5560, 'verify': 5561, '“having': 5562, 'corroboration': 5563, 'eliminated': 5564, 'disguise—the': 5565, 'travellers': 5566, 'peculiarities': 5567, 'defects': 5568, 'tallied': 5569, 'voilà': 5570, 'persian': 5571, 'taketh': 5572, 'tiger': 5573, 'cub': 5574, 'whoso': 5575, 'snatches': 5576, 'delusion': 5577, 'hafiz': 5578, 'horace': 5579, 'iv': 5580, 'anstruther': 5581, 'afghanistan': 5582, 'valise': 5583, 'gaunter': 5584, 'taller': 5585, 'fitting': 5586, 'worthless': 5587, 'biassed': 5588, 'litter': 5589, 'meditation': 5590, 'paradoxical': 5591, 'profoundly': 5592, 'singularity': 5593, 'granted': 5594, '“boscombe': 5595, 'landed': 5596, 'farms': 5597, 'charles': 5598, 'tenant': 5599, 'equality': 5600, 'eighteen': 5601, 'wives': 5602, 'sport': 5603, 'servants—a': 5604, 'spreading': 5605, 'farmhouse': 5606, 'witnesses': 5607, 'depose': 5608, 'adds': 5609, 'thickly': 5610, 'wooded': 5611, 'elder': 5612, 'language': 5613, '‘wilful': 5614, 'murder’': 5615, 'tuesday': 5616, 'magistrates': 5617, '“circumstantial': 5618, 'tricky': 5619, 'shift': 5620, 'uncompromising': 5621, 'landowner': 5622, 'westward': 5623, 'digesting': 5624, 'breakfasts': 5625, 'deceptive': 5626, '“besides': 5627, 'boasting': 5628, 'destroy': 5629, 'military': 5630, 'neatness': 5631, 'characterises': 5632, 'sunlight': 5633, 'shaving': 5634, 'positively': 5635, 'slovenly': 5636, 'illuminated': 5637, 'inference': 5638, 'therein': 5639, 'métier': 5640, 'constabulary': 5641, 'informing': 5642, 'removing': 5643, 'protestation': 5644, '“coming': 5645, 'rift': 5646, 'feigned': 5647, 'scheming': 5648, 'acceptance': 5649, 'firmness': 5650, 'filial': 5651, 'bandy': 5652, 'reproach': 5653, 'contrition': 5654, 'healthy': 5655, 'slighter': 5656, 'encouraging': 5657, 'supporters': 5658, 'absent': 5659, 'cobb': 5660, 'visiting': 5661, 'warren': 5662, '“cooee': 5663, 'ensued': 5664, 'becoming': 5665, 'ungovernable': 5666, 'outcry': 5667, 'expiring': 5668, 'expired': 5669, 'knelt': 5670, 'prejudice': 5671, 'arise': 5672, 'juryman': 5673, 'fatally': 5674, 'plaid': 5675, '“': 5676, '“‘a': 5677, '“‘about': 5678, 'concluding': 5679, 'discrepancy': 5680, 'signalled': 5681, 'cushioned': 5682, '“both': 5683, 'evolved': 5684, 'whither': 5685, 'petrarch': 5686, 'swindon': 5687, 'stroud': 5688, 'gleaming': 5689, 'severn': 5690, 'ferret': 5691, 'furtive': 5692, 'dustcoat': 5693, 'leggings': 5694, 'rustic': 5695, 'surroundings': 5696, 'recognising': 5697, 'complimentary': 5698, 'barometric': 5699, 'caseful': 5700, 'cigarettes': 5701, 'abomination': 5702, 'indulgently': 5703, 'pikestaff': 5704, 'plainer': 5705, 'repeatedly': 5706, 'fastening': 5707, 'loophole': 5708, 'defiantly': 5709, 'disagreements': 5710, 'and—and—well': 5711, 'blush': 5712, 'willows': 5713, 'misses': 5714, 'undertaking': 5715, 'impulsively': 5716, 'minutes’': 5717, 'disappoint': 5718, 'reconsider': 5719, '“ample': 5720, 'puny': 5721, 'supposing': 5722, 'calamity': 5723, 'screams': 5724, 'glade': 5725, 'weekly': 5726, 'verbatim': 5727, 'surgeon’s': 5728, 'deposition': 5729, 'posterior': 5730, 'parietal': 5731, 'occipital': 5732, 'commonly': 5733, 'cudgelled': 5734, 'hardihood': 5735, 'kneeling': 5736, 'tissue': 5737, 'improbabilities': 5738, 'lestrade’s': 5739, 'fagged': 5740, '“could': 5741, 'comely': 5742, 'thereby': 5743, 'madly': 5744, 'insanely': 5745, 'idiot': 5746, 'registry': 5747, 'upbraided': 5748, 'goading': 5749, 'supporting': 5750, 'bermuda': 5751, 'dockyard': 5752, 'consoled': 5753, 'crucial': 5754, 'meredith': 5755, 'foretold': 5756, 'despaired': 5757, 'sixty': 5758, 'constitution': 5759, 'proposal': 5760, 'winking': 5761, 'demurely': 5762, '“anyhow': 5763, 'warmth': 5764, 'junior': 5765, 'brighter': 5766, 'roofed': 5767, 'smokeless': 5768, 'transformed': 5769, 'logician': 5770, 'darkened': 5771, 'steely': 5772, 'sinewy': 5773, 'dilate': 5774, 'concentrated': 5775, 'unheeded': 5776, 'marshy': 5777, 'bounded': 5778, 'detour': 5779, 'meadow': 5780, 'indifferent': 5781, 'contemptuous': 5782, 'reed': 5783, 'girt': 5784, 'boundary': 5785, 'jutting': 5786, 'pinnacles': 5787, 'site': 5788, 'landowner’s': 5789, 'dwelling': 5790, 'fished': 5791, 'rake': 5792, 'vanishes': 5793, 'herd': 5794, 'buffalo': 5795, 'wallowed': 5796, 'soles': 5797, 'again—of': 5798, 'beech': 5799, 'jagged': 5800, 'pathway': 5801, 'luncheon': 5802, 'lain': 5803, 'limps': 5804, 'wears': 5805, 'soled': 5806, 'sceptic': 5807, '“theories': 5808, '“nous': 5809, 'verrons': 5810, 'unfinished': 5811, 'populous': 5812, 'undertake': 5813, 'pained': 5814, 'perplexing': 5815, 'preach': 5816, 'expound': 5817, 'research': 5818, 'presuming': 5819, 'earshot': 5820, 'attract': 5821, 'australians': 5822, '“arat': 5823, '“ballarat': 5824, 'syllables': 5825, 'narrowed': 5826, 'garment': 5827, 'granting': 5828, 'vagueness': 5829, 'personality': 5830, 'lameness': 5831, 'limped—he': 5832, 'lame': 5833, 'handedness': 5834, 'enables': 5835, 'varieties': 5836, 'rotterdam': 5837, 'tip': 5838, 'net': 5839, 'ushering': 5840, 'impressive': 5841, 'limping': 5842, 'decrepitude': 5843, 'craggy': 5844, 'combined': 5845, 'tinged': 5846, 'chronic': 5847, 'heart—it': 5848, 'diabetes': 5849, 'jot': 5850, 'extremity': 5851, 'incarnate': 5852, 'blasted': 5853, '’’s': 5854, 'bush': 5855, 'robber': 5856, 'stopping': 5857, 'wagons': 5858, 'convoy': 5859, 'melbourne': 5860, 'troopers': 5861, 'emptied': 5862, 'saddles': 5863, 'volley': 5864, 'boys': 5865, 'swag': 5866, 'wagon': 5867, 'pals': 5868, 'chanced': 5869, 'earned': 5870, 'wee': 5871, 'investment': 5872, '“‘here': 5873, 'touching': 5874, '‘we’ll': 5875, 'don’t—it’s': 5876, 'abiding': 5877, 'hail': 5878, 'forgetfulness': 5879, 'cursed': 5880, 'midway': 5881, 'uppermost': 5882, 'urging': 5883, 'slut': 5884, 'bond': 5885, 'sinned': 5886, 'martyrdom': 5887, 'atone': 5888, 'meshes': 5889, 'venomous': 5890, 'beast': 5891, 'fetch': 5892, 'intend': 5893, 'condemned': 5894, 'mortal': 5895, '“farewell': 5896, 'deathbeds': 5897, 'tottering': 5898, 'stumbled': 5899, 'tricks': 5900, 'worms': 5901, 'baxter’s': 5902, 'acquitted': 5903, 'defending': 5904, 'counsel': 5905, 'prospect': 5906, 'rests': 5907, 'v': 5908, 'qualities': 5909, 'illustrate': 5910, 'beginnings': 5911, 'partially': 5912, 'startling': 5913, 'tempted': 5914, 'headings': 5915, 'paradol': 5916, 'mendicant': 5917, 'luxurious': 5918, 'warehouse': 5919, 'sophy': 5920, 'anderson': 5921, 'grice': 5922, 'patersons': 5923, 'uffa': 5924, 'poisoning': 5925, 'time—a': 5926, 'september': 5927, 'elemental': 5928, 'forces': 5929, 'mankind': 5930, 'civilisation': 5931, 'untamed': 5932, 'beasts': 5933, 'cage': 5934, 'moodily': 5935, 'indexing': 5936, 'clark': 5937, 'russell’s': 5938, 'howl': 5939, 'blend': 5940, 'text': 5941, 'lengthen': 5942, 'swash': 5943, 'waves': 5944, 'dweller': 5945, '“except': 5946, 'encourage': 5947, 'crony': 5948, 'landlady’s': 5949, 'vacant': 5950, 'groomed': 5951, 'trimly': 5952, 'refinement': 5953, 'streaming': 5954, 'anxiously': 5955, 'intruding': 5956, 'snug': 5957, 'distinctive': 5958, 'tankerville': 5959, 'cheating': 5960, 'times—three': 5961, 'successes': 5962, 'appeal': 5963, 'sons—my': 5964, 'joseph': 5965, 'factory': 5966, 'coventry': 5967, 'enlarged': 5968, 'invention': 5969, 'bicycling': 5970, 'patentee': 5971, 'unbreakable': 5972, 'tire': 5973, 'competence': 5974, 'emigrated': 5975, 'planter': 5976, 'fought': 5977, 'jackson’s': 5978, 'hood': 5979, 'sussex': 5980, 'negroes': 5981, 'franchise': 5982, 'tempered': 5983, 'mouthed': 5984, 'sober': 5985, 'backgammon': 5986, 'draughts': 5987, 'representative': 5988, 'tradespeople': 5989, 'sixteen': 5990, 'privacy': 5991, 'attics': 5992, 'permit': 5993, 'boy’s': 5994, 'keyhole': 5995, 'collection': 5996, 'trunks': 5997, 'bundles': 5998, 'day—it': 5999, 'stamp': 6000, 'colonel’s': 6001, '‘from': 6002, '‘pondicherry': 6003, 'overtaken': 6004, '“‘death': 6005, 'gum': 6006, 'cashbox': 6007, '“‘they': 6008, 'checkmate': 6009, 'oath': 6010, '‘tell': 6011, 'disadvantages': 6012, 'descend': 6013, 'enjoy': 6014, 'pondered': 6015, 'sensation': 6016, 'cooped': 6017, 'sheep': 6018, 'tumultuously': 6019, 'brazen': 6020, 'glisten': 6021, 'abuse': 6022, 'sallies': 6023, 'scummed': 6024, '‘suicide': 6025, 'winced': 6026, 'ado': 6027, 'interposed': 6028, 'reception': 6029, 'supposed': 6030, 'label': 6031, '‘letters': 6032, 'memoranda': 6033, 'receipts': 6034, 'register’': 6035, 'soldier': 6036, 'reconstruction': 6037, 'politicians': 6038, 'cock': 6039, 'bull': 6040, '‘so': 6041, '‘here': 6042, '“‘put': 6043, 'peeping': 6044, '“‘pooh': 6045, 'gripping': 6046, 'courage': 6047, 'civilised': 6048, 'tomfoolery': 6049, '“‘from': 6050, 'sundials': 6051, 'forbid': 6052, 'argue': 6053, 'forebodings': 6054, 'freebody': 6055, 'forts': 6056, 'portsdown': 6057, 'imploring': 6058, 'pits': 6059, 'abound': 6060, 'skull': 6061, 'fareham': 6062, 'twilight': 6063, 'unfenced': 6064, '‘death': 6065, 'accidental': 6066, 'nigh': 6067, 'inheritance': 6068, 'dispose': 6069, 'dependent': 6070, 'curse': 6071, 'generation': 6072, 'comfort': 6073, 'london—eastern': 6074, '‘put': 6075, 'truth”—he': 6076, 'hands—“i': 6077, 'rabbits': 6078, 'resistless': 6079, 'precautions': 6080, '“tut': 6081, 'jokes': 6082, 'accidents': 6083, 'clenched': 6084, '“incredible': 6085, 'imbecility': 6086, '“has': 6087, 'raved': 6088, 'advised': 6089, 'us—no': 6090, 'remembrance': 6091, 'unburned': 6092, 'margins': 6093, 'destruction': 6094, 'helps': 6095, 'ragged': 6096, '“march': 6097, 'enigmatical': 6098, 'augustine': 6099, 'folding': 6100, 'assert': 6101, 'weave': 6102, 'theirs': 6103, 'threatens': 6104, 'punish': 6105, 'parties': 6106, 'meanwhile': 6107, 'imminent': 6108, 'splashed': 6109, 'elements—blown': 6110, 'weed': 6111, 'gale—and': 6112, 'reabsorbed': 6113, 'glow': 6114, 'chased': 6115, '“save': 6116, 'sholtos': 6117, '“formed': 6118, 'pursue': 6119, 'bearings': 6120, 'cuvier': 6121, 'correctly': 6122, 'accurately': 6123, 'sought': 6124, 'utilise': 6125, 'implies': 6126, 'encyclopædias': 6127, 'accomplishment': 6128, 'rightly': 6129, 'friendship': 6130, 'document': 6131, 'philosophy': 6132, 'astronomy': 6133, 'botany': 6134, 'variable': 6135, 'geology': 6136, 'region': 6137, 'chemistry': 6138, 'anatomy': 6139, 'unsystematic': 6140, 'player': 6141, 'boxer': 6142, 'swordsman': 6143, 'poisoner': 6144, 'grinned': 6145, 'stocked': 6146, 'muster': 6147, 'willingly': 6148, 'climate': 6149, 'provincial': 6150, 'solitude': 6151, 'suggests': 6152, 'successors': 6153, 'postmarks': 6154, 'seaports': 6155, 'probability—the': 6156, 'probability—is': 6157, 'threat': 6158, 'fulfilment': 6159, 'token': 6160, 'steamer': 6161, '“more': 6162, 'urgency': 6163, 'caution': 6164, 'senders': 6165, 'persecution': 6166, 'deceive': 6167, 'determination': 6168, 'ceases': 6169, 'badge': 6170, 'never—”': 6171, 'voice—“have': 6172, 'ku': 6173, '“‘ku': 6174, 'fanciful': 6175, 'cocking': 6176, 'rifle': 6177, 'soldiers': 6178, 'notably': 6179, 'tennessee': 6180, 'louisiana': 6181, 'carolinas': 6182, 'principally': 6183, 'terrorising': 6184, 'negro': 6185, 'voters': 6186, 'murdering': 6187, 'opposed': 6188, 'preceded': 6189, 'shape—a': 6190, 'sprig': 6191, 'melon': 6192, 'seeds': 6193, 'receiving': 6194, 'abjure': 6195, 'unfailingly': 6196, 'systematic': 6197, 'braving': 6198, 'perpetrators': 6199, 'flourished': 6200, 'classes': 6201, 'community': 6202, 'sporadic': 6203, 'outbreaks': 6204, 'coincident': 6205, 'implacable': 6206, 'register': 6207, 'seen—”': 6208, '‘sent': 6209, 'c’—that': 6210, 'society’s': 6211, 'brightness': 6212, 'openshaw’s': 6213, 'unopened': 6214, '‘tragedy': 6215, '“‘between': 6216, 'cook': 6217, 'stormy': 6218, 'rescue': 6219, 'steamboats': 6220, 'exhibited': 6221, 'stages': 6222, 'depressed': 6223, 'sends': 6224, 'death—': 6225, 'clasping': 6226, 'unclasping': 6227, 'devils': 6228, 'embankment': 6229, 'win': 6230, 'spun': 6231, 'flies': 6232, 'loaf': 6233, 'devoured': 6234, 'voraciously': 6235, 'washing': 6236, '“starving': 6237, 'unavenged': 6238, 'devilish': 6239, 'pieces': 6240, 'squeezed': 6241, '“s': 6242, 'j': 6243, 'o': 6244, '“captain': 6245, 'await': 6246, 'enters': 6247, 'chuckling': 6248, 'sleepless': 6249, 'precursor': 6250, 'captain': 6251, 'leader': 6252, '“over': 6253, 'lloyd’s': 6254, 'registers': 6255, 'files': 6256, 'career': 6257, 'ships': 6258, 'tonnage': 6259, '“texas': 6260, 'origin': 6261, 'vessels': 6262, 'easterly': 6263, 'goodwins': 6264, 'isle': 6265, 'wight': 6266, 'mates': 6267, 'americans': 6268, 'finns': 6269, 'germans': 6270, 'stevedore': 6271, 'loading': 6272, 'cargo': 6273, 'cable': 6274, 'murderers': 6275, 'stern': 6276, '“l': 6277, 'carved': 6278, 'vi': 6279, 'theological': 6280, 'addicted': 6281, 'freak': 6282, 'quincey’s': 6283, 'sensations': 6284, 'laudanum': 6285, 'slave': 6286, 'pasty': 6287, 'pin': 6288, 'pupils': 6289, '’—there': 6290, 'needle': 6291, 'linoleum': 6292, 'stuff': 6293, 'lighthouse': 6294, 'comfortably': 6295, 'soothed': 6296, 'comforted': 6297, 'surest': 6298, 'hitherto': 6299, 'orgies': 6300, 'twitching': 6301, 'spell': 6302, 'dregs': 6303, 'docks': 6304, 'ruffians': 6305, 'speeding': 6306, 'eastward': 6307, 'lurking': 6308, 'slop': 6309, 'gin': 6310, 'steep': 6311, 'gap': 6312, 'cave': 6313, 'ordering': 6314, 'ceaseless': 6315, 'flickering': 6316, 'latch': 6317, 'terraced': 6318, 'forecastle': 6319, 'emigrant': 6320, 'poses': 6321, 'chins': 6322, 'lack': 6323, 'lustre': 6324, 'shadows': 6325, 'waxed': 6326, 'waned': 6327, 'bowls': 6328, 'gushes': 6329, 'tailing': 6330, 'heed': 6331, 'neighbour': 6332, 'stool': 6333, 'resting': 6334, 'malay': 6335, 'berth': 6336, 'unkempt': 6337, 'twitter': 6338, '“nearly': 6339, 'pipes—i': 6340, 'kate—poor': 6341, 'stupefying': 6342, 'fumes': 6343, '“walk': 6344, 'absorbed': 6345, 'lassitude': 6346, 'subsided': 6347, 'doddering': 6348, 'lipped': 6349, 'senility': 6350, 'sottish': 6351, 'mischief': 6352, 'requests': 6353, 'mastery': 6354, 'normal': 6355, 'decrepit': 6356, 'shuffled': 6357, 'injections': 6358, 'weaknesses': 6359, 'incoherent': 6360, 'ramblings': 6361, 'sots': 6362, 'purchase': 6363, 'rascally': 6364, 'vengeance': 6365, 'moonless': 6366, '“ay': 6367, 'forefingers': 6368, 'shrilly—a': 6369, 'tunnels': 6370, 'lanterns': 6371, 'comrade': 6372, 'chronicler': 6373, '“near': 6374, 'flicked': 6375, 'balustraded': 6376, 'murky': 6377, 'sluggishly': 6378, 'wilderness': 6379, 'mortar': 6380, 'songs': 6381, 'shouts': 6382, 'belated': 6383, 'revellers': 6384, 'wrack': 6385, 'rifts': 6386, 'sorely': 6387, 'current': 6388, 'gift': 6389, '’pon': 6390, 'meets': 6391, 'somehow': 6392, 'thread': 6393, 'concisely': 6394, '“proceed': 6395, 'ago—to': 6396, '—there': 6397, 'brewer': 6398, 'companies': 6399, 'cannon': 6400, 'temperate': 6401, 'ascertain': 6402, 'weighing': 6403, 'earlier': 6404, 'commissions': 6405, 'parcel': 6406, 'expecting': 6407, 'shipping': 6408, 'shopping': 6409, 'company’s': 6410, 'describes': 6411, 'irresistible': 6412, 'feminine': 6413, 'necktie': 6414, '“convinced': 6415, 'steps—for': 6416, 'night—and': 6417, 'aided': 6418, 'dane': 6419, 'acts': 6420, 'accompanied': 6421, 'resistance': 6422, 'crippled': 6423, 'wretch': 6424, 'stoutly': 6425, 'denial': 6426, 'deluded': 6427, 'cascade': 6428, 'children’s': 6429, 'abominable': 6430, 'strip': 6431, 'windowsill': 6432, 'socks': 6433, 'watch—all': 6434, 'exit': 6435, 'swimming': 6436, 'villains': 6437, 'implicated': 6438, 'antecedents': 6439, 'accessory': 6440, 'defence': 6441, 'regulations': 6442, 'pretends': 6443, 'vestas': 6444, 'charity': 6445, 'descends': 6446, 'harvest': 6447, 'reaped': 6448, 'disfigured': 6449, 'mendicants': 6450, 'chaff': 6451, 'prime': 6452, 'nurtured': 6453, 'weakness': 6454, 'compensated': 6455, 'barton': 6456, 'arresting': 6457, 'remedied': 6458, 'incriminate': 6459, 'nail': 6460, 'adding': 6461, 'strenuously': 6462, 'assertion': 6463, 'dreaming': 6464, 'protesting': 6465, 'ebbing': 6466, 'uncovered': 6467, 'receded': 6468, 'stuffed': 6469, 'pennies—': 6470, 'eddy': 6471, 'stripped': 6472, 'sucked': 6473, 'speciously': 6474, 'seize': 6475, 'swim': 6476, 'rushes': 6477, 'hoard': 6478, 'accumulated': 6479, 'fruits': 6480, 'beggary': 6481, 'stuffs': 6482, 'coat’s': 6483, 'solved—what': 6484, 'disappearance—are': 6485, 'detailing': 6486, 'whirling': 6487, 'straggling': 6488, 'middlesex': 6489, 'conducting': 6490, 'welcome': 6491, 'hate': 6492, 'blonde': 6493, 'mousseline': 6494, 'soie': 6495, 'chiffon': 6496, 'flood': 6497, 'campaigner': 6498, 'feelings': 6499, '“upon': 6500, 'embarrassed': 6501, '“murdered': 6502, 'galvanised': 6503, 'smoothing': 6504, 'intently': 6505, 'stamped': 6506, '“coarse': 6507, 'blotted': 6508, 'signet': 6509, '“‘dearest': 6510, 'rectify': 6511, '—neville': 6512, 'octavo': 6513, 'gummed': 6514, 'chewing': 6515, 'lighten': 6516, '“unless': 6517, 'discourage': 6518, 'respond': 6519, 'corroborate': 6520, 'unthinkable': 6521, 'inarticulate': 6522, 'leaped': 6523, 'unsolved': 6524, 'fathomed': 6525, 'preparing': 6526, 'collecting': 6527, 'cushions': 6528, 'armchairs': 6529, 'constructed': 6530, 'divan': 6531, 'briar': 6532, 'vacantly': 6533, 'motionless': 6534, 'haze': 6535, 'heap': 6536, '“awake': 6537, '“game': 6538, 'fools': 6539, 'deserve': 6540, 'kicked': 6541, 'bathroom': 6542, 'sunshine': 6543, 'carts': 6544, 'lifeless': 6545, 'flicking': 6546, 'gallop': 6547, 'wisdom': 6548, 'earliest': 6549, 'risers': 6550, 'sleepily': 6551, 'wellington': 6552, 'wheeled': 6553, 'saluted': 6554, '“inspector': 6555, 'peaked': 6556, 'frogged': 6557, 'telephone': 6558, 'beggarman': 6559, 'boone—the': 6560, 'remanded': 6561, '“dirty': 6562, 'tinker’s': 6563, 'coarsely': 6564, 'grime': 6565, 'ugliness': 6566, 'wheal': 6567, 'tools': 6568, 'doesn’t': 6569, 'slumber': 6570, 'jug': 6571, 'moistened': 6572, 'prisoner’s': 6573, 'peeled': 6574, 'seamed': 6575, 'twitch': 6576, 'refined': 6577, 'haired': 6578, '“great': 6579, 'abandons': 6580, '“be': 6581, '—': 6582, 'cake': 6583, 'illegally': 6584, 'detained': 6585, 'convince': 6586, 'proper': 6587, 'endured': 6588, 'ay': 6589, 'execution': 6590, 'blot': 6591, 'chesterfield': 6592, 'reporter': 6593, 'editor': 6594, 'volunteered': 6595, 'base': 6596, 'secrets': 6597, 'attainments': 6598, 'painted': 6599, 'appropriate': 6600, 'ostensibly': 6601, 'seller': 6602, 'plied': 6603, 'writ': 6604, 'fortnight’s': 6605, 'creditor': 6606, 'arduous': 6607, 'dollars': 6608, 'won': 6609, 'reporting': 6610, 'inspiring': 6611, 'filling': 6612, 'squalid': 6613, 'transform': 6614, 'year—which': 6615, 'takings—but': 6616, 'facility': 6617, 'repartee': 6618, 'ambitious': 6619, 'entreated': 6620, 'pigments': 6621, 'wig': 6622, 'pierce': 6623, 'betray': 6624, 'reopening': 6625, 'thames': 6626, 'preference': 6627, 'scrawl': 6628, 'unobserved': 6629, 'sailor': 6630, 'customer': 6631, 'approvingly': 6632, 'prosecuted': 6633, 'oaths': 6634, 'consuming': 6635, 'vii': 6636, 'wishing': 6637, 'compliments': 6638, 'forceps': 6639, 'suspended': 6640, 'interrupt': 6641, 'one”—he': 6642, 'hat—“but': 6643, 'instruction': 6644, 'warmed': 6645, 'ice': 6646, 'crystals': 6647, 'linked': 6648, 'it—that': 6649, 'million': 6650, 'beings': 6651, 'jostling': 6652, 'space': 6653, 'humanity': 6654, 'combination': 6655, 'allude': 6656, 'category': 6657, 'trophy': 6658, 'billycock': 6659, 'roasting': 6660, 'peterson’s': 6661, 'honest': 6662, 'jollification': 6663, 'gaslight': 6664, 'tallish': 6665, 'stagger': 6666, 'slung': 6667, 'defend': 6668, 'smashed': 6669, 'assailants': 6670, 'uniform': 6671, 'battle': 6672, 'spoils': 6673, 'victory': 6674, 'restored': 6675, 'baker’': 6676, '‘h': 6677, 'legible': 6678, 'ours': 6679, 'restore': 6680, 'finder': 6681, 'fulfil': 6682, 'ultimate': 6683, 'maker’s': 6684, '“h': 6685, 'brim': 6686, 'patches': 6687, 'handing': 6688, 'balance': 6689, 'probability': 6690, 'remonstrance': 6691, 'sedentary': 6692, 'anoints': 6693, 'attained': 6694, 'stupid': 6695, 'cubic': 6696, 'brims': 6697, 'quality': 6698, 'ribbed': 6699, 'assuredly': 6700, 'disc': 6701, 'hats': 6702, 'weakening': 6703, 'daubing': 6704, 'plausible': 6705, 'discloses': 6706, 'barber': 6707, 'adhesive': 6708, 'odour': 6709, 'gritty': 6710, 'wearer': 6711, 'perspired': 6712, 'wife—you': 6713, 'accumulation': 6714, 'allows': 6715, '“nay': 6716, 'offering': 6717, 'tallow—walks': 6718, 'guttering': 6719, 'fairer': 6720, 'scintillating': 6721, 'bean': 6722, 'purity': 6723, 'trove': 6724, 'plumped': 6725, 'sentimental': 6726, 'considerations': 6727, 'background': 6728, 'aright': 6729, 'december': 6730, 'smoothed': 6731, 'doubled': 6732, '“hotel': 6733, 'solder': 6734, 'casket': 6735, 'deposed': 6736, 'ryder’s': 6737, 'dismay': 6738, 'summarily': 6739, 'offence': 6740, 'played': 6741, 'simplest': 6742, 'recourse': 6743, '‘found': 6744, 'concise': 6745, 'mischance': 6746, 'globe': 6747, 'pall': 6748, 'mall': 6749, 'gazette': 6750, 'standard': 6751, 'echo': 6752, 'bonny': 6753, 'glints': 6754, 'sparkles': 6755, 'nucleus': 6756, 'focus': 6757, 'devil’s': 6758, 'baits': 6759, 'facet': 6760, 'bloody': 6761, 'amoy': 6762, 'ruby': 6763, 'murders': 6764, 'vitriol': 6765, 'grain': 6766, 'crystallised': 6767, 'purveyor': 6768, 'dine': 6769, 'occurrences': 6770, 'delayed': 6771, 'semicircle': 6772, 'fanlight': 6773, 'geniality': 6774, 'circulation': 6775, 'adapted': 6776, 'winter': 6777, 'rounded': 6778, 'intelligent': 6779, 'sloping': 6780, 'tremor': 6781, 'lank': 6782, 'staccato': 6783, 'choosing': 6784, 'learning': 6785, 'usage': 6786, 'shamefaced': 6787, '“shillings': 6788, 'plentiful': 6789, 'assaulted': 6790, 'sigh': 6791, 'feathers': 6792, 'wish—”': 6793, 'relics': 6794, 'disjecta': 6795, 'membra': 6796, 'shrug': 6797, 'fowl': 6798, 'fancier': 6799, 'tucked': 6800, 'museum—we': 6801, 'host': 6802, 'duly': 6803, 'pomposity': 6804, 'ulsters': 6805, 'cravats': 6806, 'throats': 6807, 'shots': 6808, 'crisply': 6809, 'wimpole': 6810, 'harley': 6811, 'wigmore': 6812, 'bloomsbury': 6813, 'ruddy': 6814, 'aproned': 6815, 'them’s': 6816, '“breckinridge': 6817, 'prosperity': 6818, 'frosty': 6819, '“remember': 6820, 'years’': 6821, 'penal': 6822, 'servitude': 6823, 'endell': 6824, 'zigzag': 6825, 'slums': 6826, 'helping': 6827, '“sold': 6828, 'marble': 6829, 'flare': 6830, '“fine': 6831, 'akimbo': 6832, 'let’s': 6833, 'supplied': 6834, 'shan’t': 6835, '“warm': 6836, 'pestered': 6837, '‘where': 6838, '‘who': 6839, '“d’you': 6840, 'handled': 6841, 'nipper': 6842, 'teach': 6843, 'grimly': 6844, '“bring': 6845, 'finish': 6846, 'suppliers': 6847, 'road—': 6848, '‘mrs': 6849, 'poultry': 6850, 'supplier': 6851, 'what’s': 6852, 'entry': 6853, '“‘december': 6854, 'underneath': 6855, '“‘sold': 6856, 'chagrined': 6857, 'slab': 6858, '‘pink': 6859, '’un’': 6860, 'wager': 6861, 'surly': 6862, 'should—”': 6863, 'cringing': 6864, 'pestering': 6865, 'silly': 6866, 'whined': 6867, 'proosia': 6868, 'inquirer': 6869, 'flitted': 6870, 'striding': 6871, 'flaring': 6872, 'vestige': 6873, 'quavering': 6874, 'overhearing': 6875, 'longed': 6876, 'quivering': 6877, 'hailed': 6878, 'cosy': 6879, 'robinson': 6880, 'sidelong': 6881, 'sweetly': 6882, 'alias': 6883, 'hopeful': 6884, 'windfall': 6885, 'claspings': 6886, 'unclaspings': 6887, 'filed': 6888, 'seasonable': 6889, '“or': 6890, 'interested—white': 6891, 'quivered': 6892, 'dead—the': 6893, 'bonniest': 6894, 'glaring': 6895, 'disown': 6896, 'game’s': 6897, '“hold': 6898, 'shrimp': 6899, 'tinge': 6900, 'accuser': 6901, 'see—her': 6902, 'ladyship’s': 6903, 'acquired': 6904, 'scrupulous': 6905, 'room—you': 6906, 'cusack—and': 6907, 'then—”': 6908, '“think': 6909, 'bible': 6910, 'christ’s': 6911, 'cringe': 6912, 'parched': 6913, 'sweat': 6914, 'upset': 6915, 'wondered': 6916, 'maudsley': 6917, 'pentonville': 6918, 'agonies': 6919, 'waddling': 6920, 'shed': 6921, 'birds—a': 6922, 'prying': 6923, 'gulp': 6924, 'gullet': 6925, '“‘whatever': 6926, 'fattest': 6927, '‘we’ve': 6928, 'you—jem’s': 6929, 'yonder': 6930, 'expressly': 6931, 'huffed': 6932, '‘which': 6933, 'flock': 6934, 'kill': 6935, '“‘gone': 6936, '“‘which': 6937, '“‘breckinridge': 6938, 'chose': 6939, 'tailed': 6940, 'now—and': 6941, 'branded': 6942, 'convulsive': 6943, 'sobbing': 6944, '“after': 6945, 'deficiencies': 6946, 'collapse': 6947, 'commuting': 6948, 'viii': 6949, 'seventy': 6950, 'tragic': 6951, 'comic': 6952, 'acquirement': 6953, 'association': 6954, 'bachelors': 6955, 'freed': 6956, 'untimely': 6957, 'woke': 6958, 'riser': 6959, 'blinked': 6960, 'resentment': 6961, 'retorted': 6962, 'then—a': 6963, 'insists': 6964, 'outset': 6965, 'keener': 6966, 'rapid': 6967, 'intuitions': 6968, 'basis': 6969, 'unravelled': 6970, 'accompany': 6971, 'shivering': 6972, 'shiver': 6973, 'changing': 6974, 'requested': 6975, 'restless': 6976, 'hunted': 6977, 'premature': 6978, 'comprehensive': 6979, 'soothingly': 6980, 'patting': 6981, 'forearm': 6982, 'ticket': 6983, 'spattered': 6984, 'vehicle': 6985, '“whatever': 6986, 'continues': 6987, 'to—none': 6988, 'cares': 6989, 'farintosh': 6990, 'sore': 6991, 'surrounds': 6992, '“farintosh': 6993, 'opal': 6994, 'tiara': 6995, 'defray': 6996, 'averted': 6997, 'manifold': 6998, 'encompass': 6999, 'oldest': 7000, 'saxon': 7001, 'western': 7002, 'estates': 7003, 'century': 7004, 'heirs': 7005, 'dissolute': 7006, 'wasteful': 7007, 'regency': 7008, 'mortgage': 7009, 'squire': 7010, 'pauper': 7011, 'adapt': 7012, 'obtained': 7013, 'enabled': 7014, 'calcutta': 7015, 'perpetrated': 7016, 'term': 7017, 'widow': 7018, 'bengal': 7019, 'artillery': 7020, 'money—not': 7021, 'year—and': 7022, 'bequeathed': 7023, 'provision': 7024, 'annual': 7025, 'died—she': 7026, 'crewe': 7027, 'ancestral': 7028, 'exchanging': 7029, 'overjoyed': 7030, 'ferocious': 7031, 'mania': 7032, 'intensified': 7033, 'tropics': 7034, 'brawls': 7035, 'folks': 7036, 'blacksmith': 7037, 'parapet': 7038, 'vagabonds': 7039, 'encamp': 7040, 'bramble': 7041, 'hospitality': 7042, 'tents': 7043, 'animals': 7044, 'villagers': 7045, 'whiten': 7046, 'honoria': 7047, 'westphail': 7048, 'marines': 7049, 'cushion': 7050, 'buildings': 7051, '“perfectly': 7052, 'chatting': 7053, '‘have': 7054, '“‘because': 7055, 'from—perhaps': 7056, 'consequence': 7057, '“always': 7058, 'impending': 7059, 'links': 7060, 'bind': 7061, 'souls': 7062, 'allied': 7063, 'howling': 7064, 'splashing': 7065, 'shawl': 7066, 'revolved': 7067, 'blanched': 7068, 'swaying': 7069, 'drunkard': 7070, 'convulsed': 7071, '‘oh': 7072, 'fain': 7073, 'stabbed': 7074, 'convulsion': 7075, 'beloved': 7076, 'creaking': 7077, 'charred': 7078, '“showing': 7079, 'investigated': 7080, 'notorious': 7081, 'satisfactory': 7082, 'staples': 7083, 'band—a': 7084, '“sometimes': 7085, 'handkerchiefs': 7086, 'adjective': 7087, 'waters': 7088, 'lonelier': 7089, 'armitage—percy': 7090, 'armitage—the': 7091, 'armitage': 7092, 'crane': 7093, 'opposition': 7094, 'thrill': 7095, 'herald': 7096, '“miss': 7097, 'frill': 7098, 'fringed': 7099, 'visitor’s': 7100, 'livid': 7101, 'spots': 7102, 'trip': 7103, 'lightened': 7104, '“dark': 7105, 'impassable': 7106, 'combine': 7107, 'stepdaughter’s': 7108, 'doorway': 7109, 'breadth': 7110, 'span': 7111, 'bile': 7112, 'apparition': 7113, 'stepdaughter': 7114, 'crocuses': 7115, 'imperturbably': 7116, 'meddler': 7117, 'busybody': 7118, 'decided': 7119, 'meddle': 7120, 'feeble': 7121, '“fancy': 7122, 'insolence': 7123, 'confound': 7124, 'zest': 7125, 'allowing': 7126, 'commons': 7127, 'excursion': 7128, 'total': 7129, 'girls': 7130, 'pittance': 7131, 'morning’s': 7132, 'dawdling': 7133, 'eley’s': 7134, 'pokers': 7135, 'brush': 7136, 'catching': 7137, 'hired': 7138, 'lanes': 7139, 'shoots': 7140, 'timbered': 7141, 'thickening': 7142, 'grove': 7143, 'jutted': 7144, 'gables': 7145, 'mansion': 7146, '“stoke': 7147, 'cluster': 7148, 'footpath': 7149, 'shading': 7150, 'climbed': 7151, 'architects': 7152, 'splendidly': 7153, 'sketched': 7154, 'aunt’s': 7155, 'blotched': 7156, 'curving': 7157, 'crab': 7158, 'partly': 7159, 'caved': 7160, 'repair': 7161, 'scaffolding': 7162, 'workmen': 7163, 'outsides': 7164, '“exactly': 7165, '“pending': 7166, 'alterations': 7167, 'unapproachable': 7168, 'tested': 7169, 'masonry': 7170, 'scratching': 7171, 'bolted': 7172, 'counterpaned': 7173, 'wicker': 7174, 'wilton': 7175, 'panelling': 7176, 'worm': 7177, 'tassel': 7178, 'housekeeper’s': 7179, 'newer': 7180, 'crawled': 7181, 'panelled': 7182, 'tug': 7183, '“won’t': 7184, 'builder': 7185, '“done': 7186, 'changes': 7187, 'character—dummy': 7188, 'ropes': 7189, 'ventilators': 7190, 'ventilate': 7191, 'technical': 7192, 'satisfying': 7193, 'squatted': 7194, '“hullo': 7195, 'liking': 7196, 'reverie': 7197, 'compliance': 7198, 'pretence': 7199, 'headache': 7200, 'undo': 7201, 'hasp': 7202, 'occupy': 7203, 'investigate': 7204, 'pity’s': 7205, 'fright': 7206, 'tangible': 7207, 'threaten': 7208, 'looming': 7209, 'undoing': 7210, 'fury': 7211, 'clinched': 7212, 'scruples': 7213, 'element': 7214, 'coincidence': 7215, 'dies': 7216, 'rope—or': 7217, 'hinting': 7218, '“subtle': 7219, 'palmer': 7220, 'pritchard': 7221, 'horrors': 7222, 'extinguished': 7223, 'twinkling': 7224, 'unrepaired': 7225, 'breaches': 7226, 'darted': 7227, 'distorted': 7228, 'pets': 7229, 'daytime': 7230, 'creeping': 7231, 'trumpet': 7232, 'vigil': 7233, 'ray': 7234, 'catlike': 7235, 'whine': 7236, 'boomed': 7237, 'heated': 7238, 'straining': 7239, 'audible—a': 7240, 'steam': 7241, 'escaping': 7242, 'kettle': 7243, 'flashing': 7244, 'loathing': 7245, 'swelled': 7246, 'yell': 7247, 'distant': 7248, 'parsonage': 7249, 'echoes': 7250, 'beam': 7251, 'ajar': 7252, 'ankles': 7253, 'heelless': 7254, 'turkish': 7255, 'brownish': 7256, 'speckles': 7257, 'headgear': 7258, 'reared': 7259, 'squat': 7260, 'loathsome': 7261, 'serpent': 7262, 'swamp': 7263, 'adder': 7264, 'recoil': 7265, 'schemer': 7266, 'falls': 7267, 'digs': 7268, 'shelter': 7269, 'noose': 7270, 'reptile’s': 7271, 'arm’s': 7272, 'prolong': 7273, 'indiscreetly': 7274, 'erroneous': 7275, '‘band': 7276, 'coupled': 7277, 'creatures': 7278, 'ruthless': 7279, 'rapidity': 7280, 'punctures': 7281, 'dispel': 7282, 'hastily': 7283, 'hiss': 7284, 'snakish': 7285, 'indirectly': 7286, 'weigh': 7287, 'ix': 7288, 'engineer’s': 7289, 'intimacy': 7290, 'notice—that': 7291, 'hatherley’s': 7292, 'warburton’s': 7293, 'madness': 7294, 'afforded': 7295, 'inception': 7296, 'openings': 7297, 'deductive': 7298, 'achieved': 7299, 'en': 7300, 'bloc': 7301, 'evolve': 7302, 'clears': 7303, 'furnishes': 7304, 'lapse': 7305, 'weaken': 7306, 'summarise': 7307, 'forgo': 7308, 'steadily': 7309, 'officials': 7310, 'cured': 7311, 'lingering': 7312, 'virtues': 7313, 'ally': 7314, 'jerking': 7315, 'caged': 7316, 'couldn’t': 7317, 'dooties': 7318, 'heather': 7319, 'mottled': 7320, 'masculine': 7321, 'suffering': 7322, 'inquiring': 7323, 'victor': 7324, 'abode': 7325, 'regret': 7326, '“stop': 7327, '“pull': 7328, 'caraffe': 7329, 'outbursts': 7330, 'unwound': 7331, 'shudder': 7332, 'spongy': 7333, 'hacked': 7334, 'bled': 7335, 'twig': 7336, 'hydraulics': 7337, 'attack': 7338, 'sponged': 7339, 'cotton': 7340, 'wadding': 7341, 'carbolised': 7342, 'bandages': 7343, 'wincing': 7344, '“capital': 7345, 'bandage': 7346, '“i’ll': 7347, '“we’ll': 7348, 'plugs': 7349, 'dottles': 7350, 'collected': 7351, 'rashers': 7352, 'eggs': 7353, 'tired': 7354, 'stimulant': 7355, 'bandaged': 7356, 'cure': 7357, 'lidded': 7358, 'detailed': 7359, 'apprenticed': 7360, 'venner': 7361, 'matheson': 7362, 'greenwich': 7363, 'dreary': 7364, 'consultations': 7365, 'clerk': 7366, '‘colonel': 7367, 'stark’': 7368, 'engraved': 7369, 'exceeding': 7370, 'thinness': 7371, 'sharpened': 7372, 'tense': 7373, 'emaciation': 7374, 'proficient': 7375, 'preserving': 7376, '‘may': 7377, 'qualifications': 7378, '“‘undoubtedly': 7379, 'essential—absolute': 7380, '“‘absolute': 7381, 'darting': 7382, 'lightning': 7383, '“‘that’s': 7384, 'master’s': 7385, 'repulsion': 7386, 'antics': 7387, 'restrain': 7388, '“‘most': 7389, 'stamping': 7390, 'gear': 7391, 'munificent': 7392, '“‘to': 7393, 'oxfordshire': 7394, 'convenient': 7395, 'judged': 7396, '‘not': 7397, 'accommodate': 7398, 'commit': 7399, 'eavesdroppers': 7400, '“‘entirely': 7401, 'place—a': 7402, 'place—within': 7403, 'left—both': 7404, 'secretly': 7405, 'operations': 7406, 'jealously': 7407, 'engineers': 7408, 'rouse': 7409, 'excavating': 7410, 'dug': 7411, 'revealing': 7412, 'tenfold': 7413, 'patron': 7414, 'necessity': 7415, 'injunction': 7416, 'passenger': 7417, 'wicket': 7418, 'interjected': 7419, '“tired': 7420, 'interrupted': 7421, 'intensity': 7422, 'lurched': 7423, 'jolted': 7424, 'frosted': 7425, 'blur': 7426, 'hazarded': 7427, 'monotony': 7428, 'monosyllables': 7429, 'bumping': 7430, 'smoothness': 7431, 'porch': 7432, 'fleeting': 7433, 'faintly': 7434, 'fumbled': 7435, 'broader': 7436, 'gloss': 7437, 'gruff': 7438, 'monosyllable': 7439, '“‘perhaps': 7440, 'harmonium': 7441, 'treatises': 7442, 'volumes': 7443, 'poetry': 7444, 'hoping': 7445, 'ticking': 7446, 'steal': 7447, 'towns': 7448, 'secluded': 7449, 'tune': 7450, '“suddenly': 7451, 'hinders': 7452, '‘get': 7453, 'headstrong': 7454, 'engage': 7455, 'wearisome': 7456, 'slink': 7457, 'payment': 7458, 'monomaniac': 7459, 'renew': 7460, 'overhead': 7461, 'despairing': 7462, 'chinchilla': 7463, '“‘on': 7464, '‘perhaps': 7465, '‘mr': 7466, 'dig': 7467, 'corridors': 7468, 'passages': 7469, 'staircases': 7470, 'thresholds': 7471, 'hollowed': 7472, 'carpets': 7473, 'peeling': 7474, 'unhealthy': 7475, 'unconcerned': 7476, 'disregarded': 7477, 'countryman': 7478, '“colonel': 7479, '‘actually': 7480, 'piston': 7481, 'tons': 7482, 'lateral': 7483, 'transmit': 7484, 'multiply': 7485, 'stiffness': 7486, 'exercising': 7487, 'whishing': 7488, 'leakage': 7489, 'regurgitation': 7490, 'rod': 7491, 'socket': 7492, 'fabrication': 7493, 'designed': 7494, 'inadequate': 7495, 'crust': 7496, 'scraping': 7497, 'cadaverous': 7498, 'tricked': 7499, 'rashness': 7500, 'baleful': 7501, 'kicks': 7502, 'shoves': 7503, 'clank': 7504, 'swish': 7505, 'leaking': 7506, 'cylinder': 7507, 'jerkily': 7508, 'grind': 7509, 'pulp': 7510, 'remorseless': 7511, 'clanking': 7512, 'drowned': 7513, 'cries': 7514, 'upraised': 7515, 'spine': 7516, 'shuddered': 7517, 'wavering': 7518, 'gush': 7519, 'frantic': 7520, 'plucking': 7521, 'foolishly': 7522, 'rejected': 7523, 'breathlessly': 7524, '‘they': 7525, 'scorn': 7526, 'butcher’s': 7527, 'wholesome': 7528, 'clambered': 7529, 'saviour': 7530, 'ruffian': 7531, 'risks': 7532, '“‘fritz': 7533, 'fritz': 7534, '‘remember': 7535, 'elise': 7536, 'loosened': 7537, 'dizziness': 7538, 'throbbing': 7539, 'painfully': 7540, 'buzzing': 7541, 'dew': 7542, 'wounded': 7543, 'smarting': 7544, 'pursuers': 7545, 'ugly': 7546, '“half': 7547, 'ponderous': 7548, 'cuttings': 7549, '‘lost': 7550, 'jeremiah': 7551, 'hayling': 7552, 'represents': 7553, 'overhauled': 7554, 'explains': 7555, '“undoubtedly': 7556, 'pirates': 7557, 'captured': 7558, 'ordnance': 7559, 'compasses': 7560, 'softened': 7561, 'agrees': 7562, 'diversity': 7563, 'boxed': 7564, 'casting': 7565, 'vote': 7566, '“six': 7567, 'ruse': 7568, 'coiners': 7569, 'scale': 7570, 'amalgam': 7571, 'crowns': 7572, 'destined': 7573, 'ostrich': 7574, 'landscape': 7575, 'steamed': 7576, '“whose': 7577, '“dr': 7578, 'becher’s': 7579, '“tell': 7580, 'foreigner': 7581, 'topped': 7582, 'spouting': 7583, 'engines': 7584, 'vainly': 7585, 'striving': 7586, 'peasant': 7587, 'containing': 7588, 'fugitives': 7589, 'ingenuity': 7590, 'firemen': 7591, 'severed': 7592, 'sunset': 7593, 'reduced': 7594, 'piping': 7595, 'dearly': 7596, 'masses': 7597, 'nickel': 7598, 'tin': 7599, 'stored': 7600, 'unusually': 7601, 'bold': 7602, 'assisted': 7603, '“experience': 7604, '“indirectly': 7605, 'x': 7606, 'termination': 7607, 'moves': 7608, 'scandals': 7609, 'eclipsed': 7610, 'piquant': 7611, 'gossips': 7612, 'drama': 7613, 'memoir': 7614, 'episode': 7615, 'stroll': 7616, 'jezail': 7617, 'bullet': 7618, 'relic': 7619, 'afghan': 7620, 'throbbed': 7621, 'saturated': 7622, 'crest': 7623, 'monger': 7624, 'humbler': 7625, 'unwelcome': 7626, 'summonses': 7627, 'affectation': 7628, 'status': 7629, 'diligently': 7630, '—lord': 7631, 'tells': 7632, 'implicit': 7633, 'reliance': 7634, 'assures': 7635, 'paramount': 7636, '“‘robert': 7637, 'mansions': 7638, 'smear': 7639, 'arrange': 7640, 'extracts': 7641, 'flattening': 7642, '“‘lord': 7643, 'walsingham': 7644, 'vere': 7645, '‘arms': 7646, 'azure': 7647, 'caltrops': 7648, 'fess': 7649, 'sable': 7650, 'mature': 7651, 'administration': 7652, 'inherit': 7653, 'plantagenet': 7654, 'descent': 7655, 'tudor': 7656, 'distaff': 7657, 'refer': 7658, 'disliked': 7659, 'van': 7660, 'now—though': 7661, 'selections': 7662, 'rumour': 7663, 'cal': 7664, '“terse': 7665, 'amplifying': 7666, 'protection': 7667, 'principle': 7668, 'britain': 7669, 'cousins': 7670, 'prizes': 7671, 'invaders': 7672, 'arrows': 7673, 'definitely': 7674, 'graceful': 7675, 'westbury': 7676, 'festivities': 7677, 'currently': 7678, 'expectancies': 7679, 'birchmoor': 7680, 'californian': 7681, 'gainer': 7682, 'alliance': 7683, 'transition': 7684, 'peeress': 7685, '“anything': 7686, 'later—that': 7687, 'last—there': 7688, 'backwater’s': 7689, 'petersfield': 7690, '“before': 7691, 'incomplete': 7692, '‘singular': 7693, 'occurrence': 7694, 'wedding’': 7695, 'consternation': 7696, 'episodes': 7697, 'persistently': 7698, 'affecting': 7699, 'disregard': 7700, 'performed': 7701, 'eustace': 7702, 'clara': 7703, 'alicia': 7704, 'whittington': 7705, 'ascertained': 7706, 'bridal': 7707, 'alleging': 7708, 'ejected': 7709, 'footman': 7710, 'interruption': 7711, 'indisposition': 7712, 'comment': 7713, 'footmen': 7714, 'apparelled': 7715, 'believing': 7716, 'conjunction': 7717, 'speedy': 7718, 'danseuse': 7719, 'now—so': 7720, 'worlds': 7721, 'cultured': 7722, 'nosed': 7723, 'petulance': 7724, 'steady': 7725, 'undue': 7726, 'stoop': 7727, 'bend': 7728, 'curly': 7729, 'foppishness': 7730, 'eyeglasses': 7731, 'extend': 7732, 'prints': 7733, 'correct—this': 7734, 'supplementing': 7735, 'directly': 7736, 'pacific': 7737, 'invested': 7738, 'leaps': 7739, 'bounds': 7740, 'lady’s—your': 7741, 'mountains': 7742, 'tomboy': 7743, 'unfettered': 7744, 'traditions': 7745, 'impetuous—volcanic': 7746, 'fearless': 7747, 'resolutions': 7748, 'bear”—he': 7749, 'cough—“had': 7750, 'heroic': 7751, 'dishonourable': 7752, 'repugnant': 7753, 'ivory': 7754, 'miniature': 7755, 'artist': 7756, 'lustrous': 7757, 'exquisite': 7758, 'renewed': 7759, 'fait': 7760, 'accompli': 7761, 'possible—at': 7762, 'relate': 7763, 'childish': 7764, 'vestry': 7765, 'exclude': 7766, '“alice': 7767, 'liberties': 7768, 'overhear': 7769, '‘jumping': 7770, '“american': 7771, 'deposes': 7772, 'hyde': 7773, 'years—i': 7774, 'ungenerously': 7775, 'uttering': 7776, 'abusive': 7777, 'expressions': 7778, 'threatening': 7779, 'fellows': 7780, 'supposition': 7781, 'transformer': 7782, 'characters': 7783, 'propound': 7784, 'deranged': 7785, 'back—i': 7786, 'aspired': 7787, 'success—i': 7788, 'conceivable': 7789, 'detain': 7790, '“should': 7791, 'trout': 7792, 'thoreau’s': 7793, '“without': 7794, 'pre': 7795, 'existing': 7796, 'munich': 7797, 'franco': 7798, 'prussian': 7799, 'cases—but': 7800, 'hullo': 7801, 'tumbler': 7802, 'attired': 7803, 'nautical': 7804, 'canvas': 7805, 'twinkle': 7806, 'infernal': 7807, 'dragging': 7808, 'trafalgar': 7809, 'fountain': 7810, 'tumbled': 7811, 'watered': 7812, 'satin': 7813, 'wreath': 7814, 'soaked': 7815, 'nut': 7816, 'margin': 7817, 'implicating': 7818, 'bitterness': 7819, 'blunders': 7820, 'slapped': 7821, '“listen': 7822, 'f': 7823, 'm': 7824, 'confederates': 7825, 'lured': 7826, 'riveted': 7827, '“extremely': 7828, 'triumph': 7829, 'you’re': 7830, '“‘oct': 7831, 'cocktail': 7832, 'drawled': 7833, 'rival': 7834, 'myth': 7835, 'sadly': 7836, 'outdoor': 7837, 'confectioner’s': 7838, 'unpacked': 7839, 'epicurean': 7840, 'lodging': 7841, 'mahogany': 7842, 'brace': 7843, 'pheasant': 7844, 'pâté': 7845, 'foie': 7846, 'gras': 7847, 'pie': 7848, 'ancient': 7849, 'cobwebby': 7850, 'luxuries': 7851, 'genii': 7852, 'arabian': 7853, 'bustling': 7854, 'messenger': 7855, 'measure': 7856, 'authority': 7857, 'subjected': 7858, 'purest': 7859, 'standpoint': 7860, 'abrupt': 7861, 'unprecedented': 7862, 'lenient': 7863, 'advocate': 7864, '“allow': 7865, 'hay': 7866, 'pleading': 7867, '“we’ve': 7868, 'wiry': 7869, 'sunburnt': 7870, 'alert': 7871, '“frank': 7872, 'mcquire’s': 7873, 'rockies': 7874, 'petered': 7875, 'poorer': 7876, 'lasting': 7877, 'shouldn’t': 7878, 'montana': 7879, 'prospecting': 7880, 'arizona': 7881, 'mexico': 7882, 'apache': 7883, 'indians': 7884, 'frank’s': 7885, 'rails': 7886, 'ghost': 7887, 'buzz': 7888, 'bee': 7889, 'scribble': 7890, 'beckoned': 7891, 'me—seemed': 7892, 'also—but': 7893, 'apaches': 7894, 'openness': 7895, 'again—just': 7896, 'sending': 7897, 'lords': 7898, 'paris': 7899, 'meanly': 7900, 'relaxed': 7901, 'frowning': 7902, 'lordship': 7903, 'acquiesce': 7904, 'developments': 7905, 'included': 7906, 'stalked': 7907, 'folly': 7908, 'monarch': 7909, 'blundering': 7910, 'minister': 7911, 'flag': 7912, 'quartering': 7913, 'stripes': 7914, 'narrated': 7915, 'viewed': 7916, 'undergo': 7917, 'repented': 7918, 'acquire': 7919, 'exclusion': 7920, 'womanhood': 7921, 'scenes': 7922, 'simon’s': 7923, 'device': 7924, 'obtaining': 7925, 'resort': 7926, 'significant': 7927, 'jumping—which': 7928, 'parlance': 7929, 'prior': 7930, 'to—the': 7931, 'husband—the': 7932, 'eightpence': 7933, 'northumberland': 7934, 'items': 7935, 'duplicate': 7936, 'forwarded': 7937, 'thither': 7938, 'paternal': 7939, 'mercifully': 7940, 'bleak': 7941, 'xi': 7942, 'madman': 7943, 'shimmering': 7944, 'wintry': 7945, 'ploughed': 7946, 'crumbly': 7947, 'heaped': 7948, 'dangerously': 7949, 'slippery': 7950, 'passengers': 7951, 'metropolitan': 7952, 'imposing': 7953, 'commanding': 7954, 'pearl': 7955, 'springs': 7956, 'waggled': 7957, 'contortions': 7958, 'professionally': 7959, 'resounded': 7960, 'gesticulating': 7961, 'smiles': 7962, 'swayed': 7963, 'chatted': 7964, 'fatigued': 7965, 'heaving': 7966, 'fighting': 7967, 'tight': 7968, 'unseat': 7969, 'affliction': 7970, 'frightful': 7971, 'compose': 7972, 'befallen': 7973, 'alexander': 7974, 'stevenson': 7975, 'foremost': 7976, 'remunerative': 7977, 'funds': 7978, 'increasing': 7979, 'depositors': 7980, 'lucrative': 7981, 'loans': 7982, 'libraries': 7983, 'than—well': 7984, 'earth—one': 7985, 'overwhelmed': 7986, 'advancing': 7987, 'borrow': 7988, 'unwise': 7989, '“‘for': 7990, '“‘next': 7991, 'parley': 7992, '‘were': 7993, 'businesslike': 7994, 'possessions': 7995, 'empire': 7996, 'imbedded': 7997, 'jewellery': 7998, 'chasing': 7999, 'incalculable': 8000, 'estimate': 8001, 'illustrious': 8002, 'doubt—’': 8003, 'reclaim': 8004, '“‘ample': 8005, 'refrain': 8006, '“seeing': 8007, 'responsibility': 8008, 'entailed': 8009, 'ensue': 8010, 'consented': 8011, 'alter': 8012, 'bankers’': 8013, 'safes': 8014, 'breathe': 8015, 'reliability': 8016, 'admirers': 8017, 'holmes—a': 8018, 'grievous': 8019, 'fade': 8020, 'sterner': 8021, 'wayward': 8022, 'purses': 8023, 'squander': 8024, 'turf': 8025, 'fascination': 8026, 'everywhere': 8027, 'talker': 8028, 'glamour': 8029, 'cynical': 8030, 'distrusted': 8031, 'sunbeam': 8032, 'house—sweet': 8033, 'alas': 8034, 'late—forever': 8035, 'suppressing': 8036, '‘can': 8037, 'generous': 8038, 'demand': 8039, 'farthing': 8040, 'secure—a': 8041, '‘did': 8042, '“‘she': 8043, 'kissed': 8044, 'singularly': 8045, 'lucid': 8046, 'tended': 8047, 'ere': 8048, '“‘arthur': 8049, 'wrenching': 8050, 'blackguard': 8051, '“‘stolen': 8052, 'liar': 8053, '‘if': 8054, 'astir': 8055, 'housemaid': 8056, 'sullenly': 8057, 'theft': 8058, '“‘at': 8059, 'convulse': 8060, 'nation': 8061, 'heinous': 8062, 'reparation': 8063, 'forgiven': 8064, '“‘keep': 8065, 'persuasions': 8066, 'threats': 8067, 'formalities': 8068, 'unravelling': 8069, 'rocked': 8070, 'droning': 8071, '“arthur': 8072, '“terrible': 8073, 'awoke': 8074, 'sounding': 8075, 'planking': 8076, 'probing': 8077, 'involved': 8078, 'nobody': 8079, 'tenable': 8080, 'accompanying': 8081, 'stirred': 8082, 'suburb': 8083, 'desultory': 8084, 'modest': 8085, 'sweep': 8086, 'thicket': 8087, 'stables': 8088, 'pallor': 8089, 'paleness': 8090, 'crying': 8091, 'caress': 8092, 'liberated': 8093, 'harshly': 8094, 'found—never': 8095, 'consequences': 8096, 'hushing': 8097, 'facing': 8098, 'proving': 8099, 'fasten': 8100, 'planned': 8101, '“wait': 8102, 'greengrocer': 8103, 'prosper': 8104, 'door—that': 8105, 'magician': 8106, 'pausing': 8107, 'indicated—that': 8108, 'diadem': 8109, 'jeweller’s': 8110, 'finest': 8111, 'recoiled': 8112, 'lighter': 8113, 'inscrutable': 8114, 'altered': 8115, 'limit': 8116, 'topic': 8117, 'trail': 8118, 'o’': 8119, 'wisp': 8120, 'slice': 8121, 'joint': 8122, 'rounds': 8123, 'bread': 8124, 'chucked': 8125, 'gossiping': 8126, 'imply': 8127, 'congenial': 8128, 'uncommon': 8129, 'lateness': 8130, 'pinched': 8131, 'whiter': 8132, 'weariness': 8133, 'lethargy': 8134, 'prosperous': 8135, '“deserted': 8136, 'thoughtless': 8137, 'differently': 8138, 'worry': 8139, 'fruitless': 8140, '“‘mary': 8141, 'excessive': 8142, 'cheque': 8143, 'triangular': 8144, 'passionate': 8145, 'hugged': 8146, '“owe': 8147, '“name': 8148, 'proud': 8149, 'repeat': 8150, 'hardest': 8151, 'admitted': 8152, 'england—a': 8153, 'breathed': 8154, 'tool': 8155, 'kindled': 8156, 'extinguishes': 8157, 'servants’': 8158, 'escapade': 8159, 'petrified': 8160, 'thrilling': 8161, 'hid': 8162, 'crushing': 8163, 'tugging': 8164, 'warmest': 8165, 'betraying': 8166, 'chivalrous': 8167, 'preserved': 8168, 'misjudged': 8169, 'indistinguishable': 8170, 'random': 8171, 'booted': 8172, 'naked': 8173, 'depression': 8174, 'smudge': 8175, 'framework': 8176, 'outline': 8177, 'instep': 8178, 'overseen': 8179, 'effected': 8180, 'prize': 8181, 'maxim': 8182, 'excluded': 8183, 'secret—the': 8184, 'outweigh': 8185, 'gratitude': 8186, 'limited': 8187, 'flatter': 8188, 'valet': 8189, 'buying': 8190, 'journeyed': 8191, 'vagabond': 8192, 'astute': 8193, 'bluster': 8194, 'preserver': 8195, 'reasonable': 8196, 'held—£': 8197, '‘i’ve': 8198, 'receiver': 8199, 'promising': 8200, 'chaffering': 8201, 'day’s': 8202, '“sir': 8203, 'exceeded': 8204, 'apologise': 8205, 'wherever': 8206, 'xii': 8207, 'telegraph': 8208, 'lowliest': 8209, 'manifestations': 8210, 'prominence': 8211, 'célèbres': 8212, 'trials': 8213, 'figured': 8214, 'synthesis': 8215, 'absolved': 8216, 'cinder': 8217, 'tongs': 8218, 'cherry': 8219, 'disputatious': 8220, 'meditative': 8221, 'mood—“you': 8222, 'attempting': 8223, 'statements': 8224, 'confining': 8225, 'placing': 8226, 'notable': 8227, 'coldness': 8228, 'repelled': 8229, 'egotism': 8230, 'selfishness': 8231, 'conceit': 8232, 'impersonal': 8233, 'thing—a': 8234, 'degraded': 8235, 'lectures': 8236, 'dun': 8237, 'blurs': 8238, 'dipping': 8239, 'continuously': 8240, 'lecture': 8241, 'literary': 8242, 'shortcomings': 8243, 'proportion': 8244, 'avoiding': 8245, 'unobservant': 8246, 'weaver': 8247, 'compositor': 8248, 'shades': 8249, 'enterprise': 8250, 'originality': 8251, 'degenerating': 8252, 'pencils': 8253, 'schools': 8254, 'montague': 8255, '“dear': 8256, '“violet': 8257, 'freckled': 8258, 'plover’s': 8259, 'troubling': 8260, 'greet': 8261, 'halifax': 8262, 'nova': 8263, 'scotia': 8264, 'advertisements': 8265, 'westaway’s': 8266, 'westaway': 8267, 'founder': 8268, 'seeking': 8269, 'employment': 8270, 'anteroom': 8271, 'consults': 8272, 'ledgers': 8273, 'prodigiously': 8274, '“‘as': 8275, 'sweating—rank': 8276, 'sweating': 8277, 'boiling': 8278, '‘how': 8279, 'pitiful': 8280, 'attractions': 8281, 'drawing—’': 8282, '“‘tut': 8283, '‘this': 8284, 'deportment': 8285, 'nutshell': 8286, 'rearing': 8287, 'destitute': 8288, 'slits': 8289, 'beforehand': 8290, 'tradesmen': 8291, 'transaction': 8292, '“‘may': 8293, '“‘hampshire': 8294, 'rural': 8295, 'child—one': 8296, 'romper': 8297, 'killing': 8298, 'cockroaches': 8299, 'slipper': 8300, '‘are': 8301, '‘your': 8302, 'faddy': 8303, 'know—faddy': 8304, 'offensive': 8305, 'luxuriant': 8306, 'sacrificing': 8307, 'offhand': 8308, 'inspect': 8309, 'manageress': 8310, 'offers': 8311, 'exert': 8312, 'gong': 8313, 'obedience': 8314, 'overcome': 8315, '—miss': 8316, 'decision': 8317, 'exacting': 8318, 'purchasing': 8319, 'lunatic': 8320, 'asylum': 8321, 'humours': 8322, 'outbreak': 8323, 'solution—in': 8324, 'good—too': 8325, 'uneasy': 8326, 'danger—”': 8327, '“danger': 8328, 'define': 8329, 'grateful': 8330, 'bustled': 8331, 'prediction': 8332, 'fulfilled': 8333, 'strayed': 8334, 'abnormal': 8335, 'fad': 8336, 'philanthropist': 8337, '“data': 8338, 'indulged': 8339, 'stooping': 8340, 'retort': 8341, 'tube': 8342, 'trains': 8343, 'studies': 8344, 'brief': 8345, 'urgent': 8346, '“please': 8347, 'midday': 8348, '“hunter': 8349, 'acetones': 8350, 'flecked': 8351, 'exhilarating': 8352, 'nip': 8353, 'rolling': 8354, 'aldershot': 8355, 'steadings': 8356, 'foliage': 8357, 'fogs': 8358, 'curses': 8359, 'isolation': 8360, 'homesteads': 8361, 'alleys': 8362, 'sin': 8363, 'accomplish': 8364, 'tortured': 8365, 'thud': 8366, 'drunkard’s': 8367, 'beget': 8368, 'deeds': 8369, 'hidden': 8370, 'appeals': 8371, 'tower': 8372, 'cathedral': 8373, 'awaited': 8374, 'actual': 8375, 'treatment': 8376, '“their': 8377, 'streaked': 8378, 'slopes': 8379, 'curves': 8380, 'southerton’s': 8381, 'preserves': 8382, 'stepmother': 8383, 'uncomfortable': 8384, 'colourless': 8385, 'reverse': 8386, 'nonentity': 8387, 'forestalling': 8388, 'bluff': 8389, 'boisterous': 8390, 'saddest': 8391, 'tears': 8392, 'disproportionately': 8393, 'alternation': 8394, 'gloomy': 8395, 'sulking': 8396, 'weaker': 8397, 'talent': 8398, 'capture': 8399, 'mice': 8400, 'insects': 8401, '“whether': 8402, 'relevant': 8403, 'uncouth': 8404, 'sour': 8405, 'whims': 8406, 'detracted': 8407, 'tiniest': 8408, 'iota': 8409, 'beige': 8410, 'unmistakable': 8411, 'vehemence': 8412, 'entire': 8413, 'funniest': 8414, 'humour': 8415, 'répertoire': 8416, 'inimitably': 8417, 'sideways': 8418, 'chapter': 8419, 'consumed': 8420, 'perceived': 8421, 'bearded': 8422, 'railings': 8423, 'lowered': 8424, 'divined': 8425, 'stares': 8426, '“‘surely': 8427, 'loitering': 8428, 'disconnected': 8429, 'outhouse': 8430, 'planks': 8431, '“‘don’t': 8432, '‘it’s': 8433, 'carlo': 8434, 'feed': 8435, 'mustard': 8436, 'lets': 8437, 'trespasser': 8438, 'lays': 8439, 'pretext': 8440, 'idle': 8441, 'silvered': 8442, 'rapt': 8443, 'peaceful': 8444, 'calf': 8445, 'tawny': 8446, 'jowl': 8447, 'sentinel': 8448, 'burglar': 8449, 'amuse': 8450, 'oversight': 8451, 'bunch': 8452, 'perfection': 8453, 'thickness': 8454, 'impossibility': 8455, 'obtruded': 8456, 'undid': 8457, 'identical': 8458, 'tollers': 8459, 'crinkled': 8460, 'temples': 8461, 'preoccupied': 8462, '“‘photography': 8463, 'hobbies': 8464, 'jesting': 8465, 'duty—a': 8466, 'lookout': 8467, 'forbidden': 8468, 'drinking': 8469, 'unpapered': 8470, 'uncarpeted': 8471, 'cheerless': 8472, 'dirt': 8473, 'padlocked': 8474, 'barricaded': 8475, 'corresponded': 8476, 'overstrung': 8477, 'ran—ran': 8478, 'clutching': 8479, '“‘so': 8480, 'panted': 8481, '’—you': 8482, 'caressing': 8483, 'was—‘and': 8484, 'coaxing': 8485, 'overdid': 8486, 'eerie': 8487, '“‘only': 8488, 'known—’': 8489, 'again’—here': 8490, 'demon—‘i’ll': 8491, 'insensibility': 8492, 'spellbound': 8493, 'sensible': 8494, 'feat': 8495, 'facilitate': 8496, 'personate': 8497, 'imprisoned': 8498, 'resembling': 8499, 'hers': 8500, 'illness': 8501, 'sacrificed': 8502, 'hers—possibly': 8503, 'fiancé—and': 8504, 'gaining': 8505, 'tendencies': 8506, 'converse': 8507, 'valid': 8508, 'studying': 8509, 'abnormally': 8510, 'cruelty’s': 8511, 'derives': 8512, 'bodes': 8513, 'circumspect': 8514, 'dealing': 8515, 'burnished': 8516, 'setting': 8517, 'thudding': 8518, 'snoring': 8519, 'duplicates': 8520, 'barricade': 8521, 'transverse': 8522, 'various': 8523, 'clouded': 8524, 'rickety': 8525, 'pallet': 8526, 'basketful': 8527, 'villainy': 8528, 'hunter’s': 8529, 'intentions': 8530, '“through': 8531, '“here’s': 8532, 'eaves': 8533, 'burly': 8534, 'confronted': 8535, '“where’s': 8536, '“better': 8537, 'baying': 8538, 'staggering': 8539, '“someone': 8540, 'loosed': 8541, 'fed': 8542, 'it’ll': 8543, 'famished': 8544, 'meeting': 8545, 'horribly': 8546, 'mangled': 8547, 'dispatched': 8548, 'sobered': 8549, 'relieve': 8550, 'assembled': 8551, 'ha’': 8552, 'alice’s': 8553, 'slighted': 8554, 'fever': 8555, 'death’s': 8556, 'persevering': 8557, 'seaman': 8558, 'blockaded': 8559, 'arguments': 8560, 'locus': 8561, 'standi': 8562, 'survived': 8563, 'solely': 8564, 'mauritius': 8565, 'manifested': 8566, 'walsall': 8567}\n",
      "i am very\n",
      "1/1 [==============================] - 0s 274ms/step\n",
      "[[0 0 0 0 0 0 0 0 0 0 0 0 0 0 0 0 0 0 0 0 0 0 0 0 0 0 0 0 0 0 0 0 0 0 0 0\n",
      "  0 0 0 0 0 0 0 0 0 0 0 0 0 0 0 0 0 0 0 0 0 0 0 0 0 0 0 0 0 0 0 0 0 0 0 0\n",
      "  0 0 0 0 0 0 0 0 0 0 0 0 0 0 0 0 0 0 0 0 0 0 0 0 0 0 0 0 0]]\n",
      "he\n",
      "my\n",
      "this\n"
     ]
    },
    {
     "data": {
      "text/plain": [
       "['he', 'my', 'this']"
      ]
     },
     "execution_count": 115,
     "metadata": {},
     "output_type": "execute_result"
    }
   ],
   "source": [
    "preprocess(\"i am very\")"
   ]
  }
 ],
 "metadata": {
  "kernelspec": {
   "display_name": "Python 3",
   "language": "python",
   "name": "python3"
  },
  "language_info": {
   "codemirror_mode": {
    "name": "ipython",
    "version": 3
   },
   "file_extension": ".py",
   "mimetype": "text/x-python",
   "name": "python",
   "nbconvert_exporter": "python",
   "pygments_lexer": "ipython3",
   "version": "3.10.6"
  },
  "orig_nbformat": 4
 },
 "nbformat": 4,
 "nbformat_minor": 2
}
